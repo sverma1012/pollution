{
 "cells": [
  {
   "cell_type": "code",
   "execution_count": 1,
   "metadata": {},
   "outputs": [],
   "source": [
    "import pandas as pd\n",
    "import seaborn as sns\n",
    "import matplotlib as mpl\n",
    "import matplotlib.pyplot as plt\n",
    "import numpy as np\n",
    "import sklearn"
   ]
  },
  {
   "cell_type": "code",
   "execution_count": 2,
   "metadata": {},
   "outputs": [
    {
     "data": {
      "text/html": [
       "<div>\n",
       "<style scoped>\n",
       "    .dataframe tbody tr th:only-of-type {\n",
       "        vertical-align: middle;\n",
       "    }\n",
       "\n",
       "    .dataframe tbody tr th {\n",
       "        vertical-align: top;\n",
       "    }\n",
       "\n",
       "    .dataframe thead th {\n",
       "        text-align: right;\n",
       "    }\n",
       "</style>\n",
       "<table border=\"1\" class=\"dataframe\">\n",
       "  <thead>\n",
       "    <tr style=\"text-align: right;\">\n",
       "      <th></th>\n",
       "      <th>No</th>\n",
       "      <th>year</th>\n",
       "      <th>month</th>\n",
       "      <th>day</th>\n",
       "      <th>hour</th>\n",
       "      <th>pm2.5</th>\n",
       "      <th>DEWP</th>\n",
       "      <th>TEMP</th>\n",
       "      <th>PRES</th>\n",
       "      <th>cbwd</th>\n",
       "      <th>Iws</th>\n",
       "      <th>Is</th>\n",
       "      <th>Ir</th>\n",
       "    </tr>\n",
       "  </thead>\n",
       "  <tbody>\n",
       "    <tr>\n",
       "      <th>0</th>\n",
       "      <td>1</td>\n",
       "      <td>2010</td>\n",
       "      <td>1</td>\n",
       "      <td>1</td>\n",
       "      <td>0</td>\n",
       "      <td>NaN</td>\n",
       "      <td>-21</td>\n",
       "      <td>-11.0</td>\n",
       "      <td>1021.0</td>\n",
       "      <td>NW</td>\n",
       "      <td>1.79</td>\n",
       "      <td>0</td>\n",
       "      <td>0</td>\n",
       "    </tr>\n",
       "    <tr>\n",
       "      <th>1</th>\n",
       "      <td>2</td>\n",
       "      <td>2010</td>\n",
       "      <td>1</td>\n",
       "      <td>1</td>\n",
       "      <td>1</td>\n",
       "      <td>NaN</td>\n",
       "      <td>-21</td>\n",
       "      <td>-12.0</td>\n",
       "      <td>1020.0</td>\n",
       "      <td>NW</td>\n",
       "      <td>4.92</td>\n",
       "      <td>0</td>\n",
       "      <td>0</td>\n",
       "    </tr>\n",
       "    <tr>\n",
       "      <th>2</th>\n",
       "      <td>3</td>\n",
       "      <td>2010</td>\n",
       "      <td>1</td>\n",
       "      <td>1</td>\n",
       "      <td>2</td>\n",
       "      <td>NaN</td>\n",
       "      <td>-21</td>\n",
       "      <td>-11.0</td>\n",
       "      <td>1019.0</td>\n",
       "      <td>NW</td>\n",
       "      <td>6.71</td>\n",
       "      <td>0</td>\n",
       "      <td>0</td>\n",
       "    </tr>\n",
       "    <tr>\n",
       "      <th>3</th>\n",
       "      <td>4</td>\n",
       "      <td>2010</td>\n",
       "      <td>1</td>\n",
       "      <td>1</td>\n",
       "      <td>3</td>\n",
       "      <td>NaN</td>\n",
       "      <td>-21</td>\n",
       "      <td>-14.0</td>\n",
       "      <td>1019.0</td>\n",
       "      <td>NW</td>\n",
       "      <td>9.84</td>\n",
       "      <td>0</td>\n",
       "      <td>0</td>\n",
       "    </tr>\n",
       "    <tr>\n",
       "      <th>4</th>\n",
       "      <td>5</td>\n",
       "      <td>2010</td>\n",
       "      <td>1</td>\n",
       "      <td>1</td>\n",
       "      <td>4</td>\n",
       "      <td>NaN</td>\n",
       "      <td>-20</td>\n",
       "      <td>-12.0</td>\n",
       "      <td>1018.0</td>\n",
       "      <td>NW</td>\n",
       "      <td>12.97</td>\n",
       "      <td>0</td>\n",
       "      <td>0</td>\n",
       "    </tr>\n",
       "  </tbody>\n",
       "</table>\n",
       "</div>"
      ],
      "text/plain": [
       "   No  year  month  day  hour  pm2.5  DEWP  TEMP    PRES cbwd    Iws  Is  Ir\n",
       "0   1  2010      1    1     0    NaN   -21 -11.0  1021.0   NW   1.79   0   0\n",
       "1   2  2010      1    1     1    NaN   -21 -12.0  1020.0   NW   4.92   0   0\n",
       "2   3  2010      1    1     2    NaN   -21 -11.0  1019.0   NW   6.71   0   0\n",
       "3   4  2010      1    1     3    NaN   -21 -14.0  1019.0   NW   9.84   0   0\n",
       "4   5  2010      1    1     4    NaN   -20 -12.0  1018.0   NW  12.97   0   0"
      ]
     },
     "execution_count": 2,
     "metadata": {},
     "output_type": "execute_result"
    }
   ],
   "source": [
    "pollution = pd.read_excel('PM2.5climate.xlsx')\n",
    "pollution.head()"
   ]
  },
  {
   "cell_type": "code",
   "execution_count": 3,
   "metadata": {},
   "outputs": [
    {
     "data": {
      "text/plain": [
       "(43824, 13)"
      ]
     },
     "execution_count": 3,
     "metadata": {},
     "output_type": "execute_result"
    }
   ],
   "source": [
    "pollution.shape"
   ]
  },
  {
   "cell_type": "markdown",
   "metadata": {},
   "source": [
    "Because the data have been preprocess, most of the variables will not be changed.\n",
    "For data cleaning, we will check duplicated and empty variables and then make a decision whether to \n",
    "keep, change or drop the variables"
   ]
  },
  {
   "cell_type": "code",
   "execution_count": 4,
   "metadata": {},
   "outputs": [
    {
     "name": "stdout",
     "output_type": "stream",
     "text": [
      "Total Missing values: 4.72 %\n"
     ]
    }
   ],
   "source": [
    "print('Total Missing values:', round((pollution['pm2.5'].isnull().sum()/43824)*100,2),'%')"
   ]
  },
  {
   "cell_type": "markdown",
   "metadata": {},
   "source": [
    "As seen in the exploratory data, only one attribute have 2061 missing values, which is 0.047 or 4.7% of the total dataset observations."
   ]
  },
  {
   "cell_type": "markdown",
   "metadata": {},
   "source": [
    "---"
   ]
  },
  {
   "cell_type": "markdown",
   "metadata": {},
   "source": [
    "## Dropping Variables\n",
    "\n",
    "## Missing Values"
   ]
  },
  {
   "cell_type": "code",
   "execution_count": 5,
   "metadata": {
    "scrolled": true
   },
   "outputs": [
    {
     "data": {
      "text/html": [
       "<div>\n",
       "<style scoped>\n",
       "    .dataframe tbody tr th:only-of-type {\n",
       "        vertical-align: middle;\n",
       "    }\n",
       "\n",
       "    .dataframe tbody tr th {\n",
       "        vertical-align: top;\n",
       "    }\n",
       "\n",
       "    .dataframe thead th {\n",
       "        text-align: right;\n",
       "    }\n",
       "</style>\n",
       "<table border=\"1\" class=\"dataframe\">\n",
       "  <thead>\n",
       "    <tr style=\"text-align: right;\">\n",
       "      <th></th>\n",
       "      <th>month</th>\n",
       "      <th>pm2.5</th>\n",
       "      <th>DEWP</th>\n",
       "      <th>TEMP</th>\n",
       "      <th>PRES</th>\n",
       "      <th>cbwd</th>\n",
       "      <th>Iws</th>\n",
       "      <th>Is</th>\n",
       "      <th>Ir</th>\n",
       "    </tr>\n",
       "  </thead>\n",
       "  <tbody>\n",
       "    <tr>\n",
       "      <th>0</th>\n",
       "      <td>1</td>\n",
       "      <td>NaN</td>\n",
       "      <td>-21</td>\n",
       "      <td>-11.0</td>\n",
       "      <td>1021.0</td>\n",
       "      <td>NW</td>\n",
       "      <td>1.79</td>\n",
       "      <td>0</td>\n",
       "      <td>0</td>\n",
       "    </tr>\n",
       "    <tr>\n",
       "      <th>1</th>\n",
       "      <td>1</td>\n",
       "      <td>NaN</td>\n",
       "      <td>-21</td>\n",
       "      <td>-12.0</td>\n",
       "      <td>1020.0</td>\n",
       "      <td>NW</td>\n",
       "      <td>4.92</td>\n",
       "      <td>0</td>\n",
       "      <td>0</td>\n",
       "    </tr>\n",
       "    <tr>\n",
       "      <th>2</th>\n",
       "      <td>1</td>\n",
       "      <td>NaN</td>\n",
       "      <td>-21</td>\n",
       "      <td>-11.0</td>\n",
       "      <td>1019.0</td>\n",
       "      <td>NW</td>\n",
       "      <td>6.71</td>\n",
       "      <td>0</td>\n",
       "      <td>0</td>\n",
       "    </tr>\n",
       "    <tr>\n",
       "      <th>3</th>\n",
       "      <td>1</td>\n",
       "      <td>NaN</td>\n",
       "      <td>-21</td>\n",
       "      <td>-14.0</td>\n",
       "      <td>1019.0</td>\n",
       "      <td>NW</td>\n",
       "      <td>9.84</td>\n",
       "      <td>0</td>\n",
       "      <td>0</td>\n",
       "    </tr>\n",
       "    <tr>\n",
       "      <th>4</th>\n",
       "      <td>1</td>\n",
       "      <td>NaN</td>\n",
       "      <td>-20</td>\n",
       "      <td>-12.0</td>\n",
       "      <td>1018.0</td>\n",
       "      <td>NW</td>\n",
       "      <td>12.97</td>\n",
       "      <td>0</td>\n",
       "      <td>0</td>\n",
       "    </tr>\n",
       "  </tbody>\n",
       "</table>\n",
       "</div>"
      ],
      "text/plain": [
       "   month  pm2.5  DEWP  TEMP    PRES cbwd    Iws  Is  Ir\n",
       "0      1    NaN   -21 -11.0  1021.0   NW   1.79   0   0\n",
       "1      1    NaN   -21 -12.0  1020.0   NW   4.92   0   0\n",
       "2      1    NaN   -21 -11.0  1019.0   NW   6.71   0   0\n",
       "3      1    NaN   -21 -14.0  1019.0   NW   9.84   0   0\n",
       "4      1    NaN   -20 -12.0  1018.0   NW  12.97   0   0"
      ]
     },
     "execution_count": 5,
     "metadata": {},
     "output_type": "execute_result"
    }
   ],
   "source": [
    "pollution.drop(columns = ['No','hour', 'year', 'day'], inplace=True)\n",
    "pollution.head()"
   ]
  },
  {
   "cell_type": "code",
   "execution_count": 6,
   "metadata": {},
   "outputs": [
    {
     "data": {
      "text/html": [
       "<div>\n",
       "<style scoped>\n",
       "    .dataframe tbody tr th:only-of-type {\n",
       "        vertical-align: middle;\n",
       "    }\n",
       "\n",
       "    .dataframe tbody tr th {\n",
       "        vertical-align: top;\n",
       "    }\n",
       "\n",
       "    .dataframe thead th {\n",
       "        text-align: right;\n",
       "    }\n",
       "</style>\n",
       "<table border=\"1\" class=\"dataframe\">\n",
       "  <thead>\n",
       "    <tr style=\"text-align: right;\">\n",
       "      <th></th>\n",
       "      <th>month</th>\n",
       "      <th>pm2.5</th>\n",
       "      <th>DEWP</th>\n",
       "      <th>TEMP</th>\n",
       "      <th>PRES</th>\n",
       "      <th>cbwd</th>\n",
       "      <th>Iws</th>\n",
       "      <th>Is</th>\n",
       "      <th>Ir</th>\n",
       "    </tr>\n",
       "  </thead>\n",
       "  <tbody>\n",
       "    <tr>\n",
       "      <th>0</th>\n",
       "      <td>1</td>\n",
       "      <td>129.0</td>\n",
       "      <td>-16</td>\n",
       "      <td>-4.0</td>\n",
       "      <td>1020.0</td>\n",
       "      <td>SE</td>\n",
       "      <td>1.79</td>\n",
       "      <td>0</td>\n",
       "      <td>0</td>\n",
       "    </tr>\n",
       "    <tr>\n",
       "      <th>1</th>\n",
       "      <td>1</td>\n",
       "      <td>148.0</td>\n",
       "      <td>-15</td>\n",
       "      <td>-4.0</td>\n",
       "      <td>1020.0</td>\n",
       "      <td>SE</td>\n",
       "      <td>2.68</td>\n",
       "      <td>0</td>\n",
       "      <td>0</td>\n",
       "    </tr>\n",
       "    <tr>\n",
       "      <th>2</th>\n",
       "      <td>1</td>\n",
       "      <td>159.0</td>\n",
       "      <td>-11</td>\n",
       "      <td>-5.0</td>\n",
       "      <td>1021.0</td>\n",
       "      <td>SE</td>\n",
       "      <td>3.57</td>\n",
       "      <td>0</td>\n",
       "      <td>0</td>\n",
       "    </tr>\n",
       "    <tr>\n",
       "      <th>3</th>\n",
       "      <td>1</td>\n",
       "      <td>181.0</td>\n",
       "      <td>-7</td>\n",
       "      <td>-5.0</td>\n",
       "      <td>1022.0</td>\n",
       "      <td>SE</td>\n",
       "      <td>5.36</td>\n",
       "      <td>1</td>\n",
       "      <td>0</td>\n",
       "    </tr>\n",
       "    <tr>\n",
       "      <th>4</th>\n",
       "      <td>1</td>\n",
       "      <td>138.0</td>\n",
       "      <td>-7</td>\n",
       "      <td>-5.0</td>\n",
       "      <td>1022.0</td>\n",
       "      <td>SE</td>\n",
       "      <td>6.25</td>\n",
       "      <td>2</td>\n",
       "      <td>0</td>\n",
       "    </tr>\n",
       "  </tbody>\n",
       "</table>\n",
       "</div>"
      ],
      "text/plain": [
       "   month  pm2.5  DEWP  TEMP    PRES cbwd   Iws  Is  Ir\n",
       "0      1  129.0   -16  -4.0  1020.0   SE  1.79   0   0\n",
       "1      1  148.0   -15  -4.0  1020.0   SE  2.68   0   0\n",
       "2      1  159.0   -11  -5.0  1021.0   SE  3.57   0   0\n",
       "3      1  181.0    -7  -5.0  1022.0   SE  5.36   1   0\n",
       "4      1  138.0    -7  -5.0  1022.0   SE  6.25   2   0"
      ]
     },
     "execution_count": 6,
     "metadata": {},
     "output_type": "execute_result"
    }
   ],
   "source": [
    "pollution.dropna(inplace = True)\n",
    "pollution.reset_index(drop = True, inplace = True)\n",
    "pollution.head()"
   ]
  },
  {
   "cell_type": "code",
   "execution_count": 7,
   "metadata": {},
   "outputs": [
    {
     "data": {
      "text/plain": [
       "0"
      ]
     },
     "execution_count": 7,
     "metadata": {},
     "output_type": "execute_result"
    }
   ],
   "source": [
    "pollution['pm2.5'].isnull().sum()"
   ]
  },
  {
   "cell_type": "code",
   "execution_count": 8,
   "metadata": {},
   "outputs": [
    {
     "data": {
      "text/plain": [
       "(41757, 9)"
      ]
     },
     "execution_count": 8,
     "metadata": {},
     "output_type": "execute_result"
    }
   ],
   "source": [
    "pollution.shape"
   ]
  },
  {
   "cell_type": "markdown",
   "metadata": {},
   "source": [
    "All the missing values have been dropped because, as observed in the exploration, the missing values are in the target variable. If they had not been dropped, that would skew our regression results because it would not give any prediction for the level of pollution.\n",
    "\n",
    "In addition, the missing values will not overall impact the dataset as it accounts for only 5% total. We chose not to replace the missing values because it was such a small portion of the dataset and replacing it could cause bias and it was a safer option to remove them than replace them.\n",
    "\n",
    "No. has been dropped because it does not give any information since it is simply the row number of the observation.\n",
    "\n",
    "Hour was dropped because it is a minute detail in pollution levels and we want to explore larger trends in the level s of pollution. We want to understand the long-run trend in the level of pollution and hour is a very short-term measure.\n",
    "\n",
    "Similarly, day is also a short-term measure that we are not interested in exploring. \n",
    "\n",
    "Year was dropped because in our exploration it was found that it was not correlated with the level fo pollution and, hence, we decided to drop it."
   ]
  },
  {
   "cell_type": "markdown",
   "metadata": {},
   "source": [
    "Let us rename the variables for better understanding:"
   ]
  },
  {
   "cell_type": "code",
   "execution_count": 9,
   "metadata": {},
   "outputs": [
    {
     "data": {
      "text/plain": [
       "Index(['month', 'pm2.5', 'DEWP', 'TEMP', 'PRES', 'cbwd', 'Iws', 'Is', 'Ir'], dtype='object')"
      ]
     },
     "execution_count": 9,
     "metadata": {},
     "output_type": "execute_result"
    }
   ],
   "source": [
    "pollution.columns"
   ]
  },
  {
   "cell_type": "code",
   "execution_count": 10,
   "metadata": {
    "scrolled": false
   },
   "outputs": [
    {
     "data": {
      "text/plain": [
       "Index(['month', 'pm2.5', 'dewTemp', 'temp', 'pres', 'windDir', 'windSpeed',\n",
       "       'cumSnow', 'cumRain'],\n",
       "      dtype='object')"
      ]
     },
     "execution_count": 10,
     "metadata": {},
     "output_type": "execute_result"
    }
   ],
   "source": [
    "names = dict(DEWP = 'dewTemp', TEMP = 'temp', PRES = 'pres', cbwd = 'windDir',\n",
    "             Iws = 'windSpeed', Is = 'cumSnow', Ir = 'cumRain')\n",
    "pollution.rename(columns = names, inplace = True)\n",
    "pollution.columns"
   ]
  },
  {
   "cell_type": "code",
   "execution_count": 11,
   "metadata": {},
   "outputs": [
    {
     "data": {
      "text/plain": [
       "SE    14573\n",
       "NW    13484\n",
       "SW     8944\n",
       "NE     4756\n",
       "Name: windDir, dtype: int64"
      ]
     },
     "execution_count": 11,
     "metadata": {},
     "output_type": "execute_result"
    }
   ],
   "source": [
    "pollution['windDir'].replace({'cv':'SW'}, inplace = True)\n",
    "pollution['windDir'].value_counts()"
   ]
  },
  {
   "cell_type": "markdown",
   "metadata": {},
   "source": [
    "#### About the project\n",
    "\n",
    "The next step will be exploring the outliers in the dataset.\n",
    "First part of this visualization will be shown with outliers included and the second part the visualizations will be plotted after removing outleirs. \n",
    "\n",
    "For the data analysis, there will be two regression models shown. The first model will be the model with outliers and the second model is after removing outliers. Towards the end, we will be comparing both models and see which one is most reliable model to be used for the predictions\n"
   ]
  },
  {
   "cell_type": "markdown",
   "metadata": {},
   "source": [
    "---"
   ]
  },
  {
   "cell_type": "markdown",
   "metadata": {},
   "source": [
    "## Outliers"
   ]
  },
  {
   "cell_type": "code",
   "execution_count": 12,
   "metadata": {
    "scrolled": true
   },
   "outputs": [
    {
     "name": "stdout",
     "output_type": "stream",
     "text": [
      "[[1.59626706 0.3301143  1.22979123 ... 0.4449441  0.07105723 0.13740842]\n",
      " [1.59626706 0.53652547 1.16050789 ... 0.42700666 0.07105723 0.13740842]\n",
      " [1.59626706 0.65602667 0.88337455 ... 0.40906923 0.07105723 0.13740842]\n",
      " ...\n",
      " [1.58830091 0.96267141 1.64549124 ... 4.41045788 0.07105723 0.13740842]\n",
      " [1.58830091 0.9843989  1.64549124 ... 4.49147866 0.07105723 0.13740842]\n",
      " [1.58830091 0.94094391 1.57620791 ... 4.55456201 0.07105723 0.13740842]]\n"
     ]
    }
   ],
   "source": [
    "from scipy import stats\n",
    "import numpy as np\n",
    "\n",
    "z2 = np.abs(stats.zscore(pollution[['month', 'pm2.5', 'dewTemp', 'temp', 'pres', 'windSpeed', 'cumSnow', 'cumRain']]))\n",
    "print(z2)"
   ]
  },
  {
   "cell_type": "code",
   "execution_count": 13,
   "metadata": {},
   "outputs": [
    {
     "name": "stdout",
     "output_type": "stream",
     "text": [
      "(array([    5,     6,    23, ..., 41754, 41755, 41756]), array([6, 6, 6, ..., 5, 5, 5]))\n"
     ]
    }
   ],
   "source": [
    "threshold = 3\n",
    "print(np.where(z2 > 3))"
   ]
  },
  {
   "cell_type": "code",
   "execution_count": 14,
   "metadata": {},
   "outputs": [
    {
     "data": {
      "text/html": [
       "<div>\n",
       "<style scoped>\n",
       "    .dataframe tbody tr th:only-of-type {\n",
       "        vertical-align: middle;\n",
       "    }\n",
       "\n",
       "    .dataframe tbody tr th {\n",
       "        vertical-align: top;\n",
       "    }\n",
       "\n",
       "    .dataframe thead th {\n",
       "        text-align: right;\n",
       "    }\n",
       "</style>\n",
       "<table border=\"1\" class=\"dataframe\">\n",
       "  <thead>\n",
       "    <tr style=\"text-align: right;\">\n",
       "      <th></th>\n",
       "      <th>month</th>\n",
       "      <th>pm2.5</th>\n",
       "      <th>dewTemp</th>\n",
       "      <th>temp</th>\n",
       "      <th>pres</th>\n",
       "      <th>windDir</th>\n",
       "      <th>windSpeed</th>\n",
       "      <th>cumSnow</th>\n",
       "      <th>cumRain</th>\n",
       "    </tr>\n",
       "  </thead>\n",
       "  <tbody>\n",
       "    <tr>\n",
       "      <th>5</th>\n",
       "      <td>1</td>\n",
       "      <td>109.0</td>\n",
       "      <td>-7</td>\n",
       "      <td>-6.0</td>\n",
       "      <td>1022.0</td>\n",
       "      <td>SE</td>\n",
       "      <td>7.14</td>\n",
       "      <td>3</td>\n",
       "      <td>0</td>\n",
       "    </tr>\n",
       "    <tr>\n",
       "      <th>6</th>\n",
       "      <td>1</td>\n",
       "      <td>105.0</td>\n",
       "      <td>-7</td>\n",
       "      <td>-6.0</td>\n",
       "      <td>1023.0</td>\n",
       "      <td>SE</td>\n",
       "      <td>8.93</td>\n",
       "      <td>4</td>\n",
       "      <td>0</td>\n",
       "    </tr>\n",
       "    <tr>\n",
       "      <th>23</th>\n",
       "      <td>1</td>\n",
       "      <td>126.0</td>\n",
       "      <td>-8</td>\n",
       "      <td>-6.0</td>\n",
       "      <td>1027.0</td>\n",
       "      <td>SE</td>\n",
       "      <td>55.43</td>\n",
       "      <td>3</td>\n",
       "      <td>0</td>\n",
       "    </tr>\n",
       "    <tr>\n",
       "      <th>24</th>\n",
       "      <td>1</td>\n",
       "      <td>90.0</td>\n",
       "      <td>-7</td>\n",
       "      <td>-6.0</td>\n",
       "      <td>1027.0</td>\n",
       "      <td>SE</td>\n",
       "      <td>58.56</td>\n",
       "      <td>4</td>\n",
       "      <td>0</td>\n",
       "    </tr>\n",
       "    <tr>\n",
       "      <th>25</th>\n",
       "      <td>1</td>\n",
       "      <td>63.0</td>\n",
       "      <td>-8</td>\n",
       "      <td>-6.0</td>\n",
       "      <td>1026.0</td>\n",
       "      <td>SE</td>\n",
       "      <td>61.69</td>\n",
       "      <td>5</td>\n",
       "      <td>0</td>\n",
       "    </tr>\n",
       "    <tr>\n",
       "      <th>...</th>\n",
       "      <td>...</td>\n",
       "      <td>...</td>\n",
       "      <td>...</td>\n",
       "      <td>...</td>\n",
       "      <td>...</td>\n",
       "      <td>...</td>\n",
       "      <td>...</td>\n",
       "      <td>...</td>\n",
       "      <td>...</td>\n",
       "    </tr>\n",
       "    <tr>\n",
       "      <th>41752</th>\n",
       "      <td>12</td>\n",
       "      <td>8.0</td>\n",
       "      <td>-23</td>\n",
       "      <td>-2.0</td>\n",
       "      <td>1034.0</td>\n",
       "      <td>NW</td>\n",
       "      <td>231.97</td>\n",
       "      <td>0</td>\n",
       "      <td>0</td>\n",
       "    </tr>\n",
       "    <tr>\n",
       "      <th>41753</th>\n",
       "      <td>12</td>\n",
       "      <td>10.0</td>\n",
       "      <td>-22</td>\n",
       "      <td>-3.0</td>\n",
       "      <td>1034.0</td>\n",
       "      <td>NW</td>\n",
       "      <td>237.78</td>\n",
       "      <td>0</td>\n",
       "      <td>0</td>\n",
       "    </tr>\n",
       "    <tr>\n",
       "      <th>41754</th>\n",
       "      <td>12</td>\n",
       "      <td>10.0</td>\n",
       "      <td>-22</td>\n",
       "      <td>-3.0</td>\n",
       "      <td>1034.0</td>\n",
       "      <td>NW</td>\n",
       "      <td>242.70</td>\n",
       "      <td>0</td>\n",
       "      <td>0</td>\n",
       "    </tr>\n",
       "    <tr>\n",
       "      <th>41755</th>\n",
       "      <td>12</td>\n",
       "      <td>8.0</td>\n",
       "      <td>-22</td>\n",
       "      <td>-4.0</td>\n",
       "      <td>1034.0</td>\n",
       "      <td>NW</td>\n",
       "      <td>246.72</td>\n",
       "      <td>0</td>\n",
       "      <td>0</td>\n",
       "    </tr>\n",
       "    <tr>\n",
       "      <th>41756</th>\n",
       "      <td>12</td>\n",
       "      <td>12.0</td>\n",
       "      <td>-21</td>\n",
       "      <td>-3.0</td>\n",
       "      <td>1034.0</td>\n",
       "      <td>NW</td>\n",
       "      <td>249.85</td>\n",
       "      <td>0</td>\n",
       "      <td>0</td>\n",
       "    </tr>\n",
       "  </tbody>\n",
       "</table>\n",
       "<p>2714 rows × 9 columns</p>\n",
       "</div>"
      ],
      "text/plain": [
       "       month  pm2.5  dewTemp  temp    pres windDir  windSpeed  cumSnow  \\\n",
       "5          1  109.0       -7  -6.0  1022.0      SE       7.14        3   \n",
       "6          1  105.0       -7  -6.0  1023.0      SE       8.93        4   \n",
       "23         1  126.0       -8  -6.0  1027.0      SE      55.43        3   \n",
       "24         1   90.0       -7  -6.0  1027.0      SE      58.56        4   \n",
       "25         1   63.0       -8  -6.0  1026.0      SE      61.69        5   \n",
       "...      ...    ...      ...   ...     ...     ...        ...      ...   \n",
       "41752     12    8.0      -23  -2.0  1034.0      NW     231.97        0   \n",
       "41753     12   10.0      -22  -3.0  1034.0      NW     237.78        0   \n",
       "41754     12   10.0      -22  -3.0  1034.0      NW     242.70        0   \n",
       "41755     12    8.0      -22  -4.0  1034.0      NW     246.72        0   \n",
       "41756     12   12.0      -21  -3.0  1034.0      NW     249.85        0   \n",
       "\n",
       "       cumRain  \n",
       "5            0  \n",
       "6            0  \n",
       "23           0  \n",
       "24           0  \n",
       "25           0  \n",
       "...        ...  \n",
       "41752        0  \n",
       "41753        0  \n",
       "41754        0  \n",
       "41755        0  \n",
       "41756        0  \n",
       "\n",
       "[2714 rows x 9 columns]"
      ]
     },
     "execution_count": 14,
     "metadata": {},
     "output_type": "execute_result"
    }
   ],
   "source": [
    "outliers2 = pollution[(z2 >=3)]\n",
    "outliers2"
   ]
  },
  {
   "cell_type": "code",
   "execution_count": 15,
   "metadata": {},
   "outputs": [
    {
     "data": {
      "text/html": [
       "<div>\n",
       "<style scoped>\n",
       "    .dataframe tbody tr th:only-of-type {\n",
       "        vertical-align: middle;\n",
       "    }\n",
       "\n",
       "    .dataframe tbody tr th {\n",
       "        vertical-align: top;\n",
       "    }\n",
       "\n",
       "    .dataframe thead th {\n",
       "        text-align: right;\n",
       "    }\n",
       "</style>\n",
       "<table border=\"1\" class=\"dataframe\">\n",
       "  <thead>\n",
       "    <tr style=\"text-align: right;\">\n",
       "      <th></th>\n",
       "      <th>month</th>\n",
       "      <th>pm2.5</th>\n",
       "      <th>dewTemp</th>\n",
       "      <th>temp</th>\n",
       "      <th>pres</th>\n",
       "      <th>windDir</th>\n",
       "      <th>windSpeed</th>\n",
       "      <th>cumSnow</th>\n",
       "      <th>cumRain</th>\n",
       "    </tr>\n",
       "  </thead>\n",
       "  <tbody>\n",
       "    <tr>\n",
       "      <th>0</th>\n",
       "      <td>1</td>\n",
       "      <td>129.0</td>\n",
       "      <td>-16</td>\n",
       "      <td>-4.0</td>\n",
       "      <td>1020.0</td>\n",
       "      <td>SE</td>\n",
       "      <td>1.79</td>\n",
       "      <td>0</td>\n",
       "      <td>0</td>\n",
       "    </tr>\n",
       "    <tr>\n",
       "      <th>1</th>\n",
       "      <td>1</td>\n",
       "      <td>148.0</td>\n",
       "      <td>-15</td>\n",
       "      <td>-4.0</td>\n",
       "      <td>1020.0</td>\n",
       "      <td>SE</td>\n",
       "      <td>2.68</td>\n",
       "      <td>0</td>\n",
       "      <td>0</td>\n",
       "    </tr>\n",
       "    <tr>\n",
       "      <th>2</th>\n",
       "      <td>1</td>\n",
       "      <td>159.0</td>\n",
       "      <td>-11</td>\n",
       "      <td>-5.0</td>\n",
       "      <td>1021.0</td>\n",
       "      <td>SE</td>\n",
       "      <td>3.57</td>\n",
       "      <td>0</td>\n",
       "      <td>0</td>\n",
       "    </tr>\n",
       "    <tr>\n",
       "      <th>3</th>\n",
       "      <td>1</td>\n",
       "      <td>181.0</td>\n",
       "      <td>-7</td>\n",
       "      <td>-5.0</td>\n",
       "      <td>1022.0</td>\n",
       "      <td>SE</td>\n",
       "      <td>5.36</td>\n",
       "      <td>1</td>\n",
       "      <td>0</td>\n",
       "    </tr>\n",
       "    <tr>\n",
       "      <th>4</th>\n",
       "      <td>1</td>\n",
       "      <td>138.0</td>\n",
       "      <td>-7</td>\n",
       "      <td>-5.0</td>\n",
       "      <td>1022.0</td>\n",
       "      <td>SE</td>\n",
       "      <td>6.25</td>\n",
       "      <td>2</td>\n",
       "      <td>0</td>\n",
       "    </tr>\n",
       "    <tr>\n",
       "      <th>...</th>\n",
       "      <td>...</td>\n",
       "      <td>...</td>\n",
       "      <td>...</td>\n",
       "      <td>...</td>\n",
       "      <td>...</td>\n",
       "      <td>...</td>\n",
       "      <td>...</td>\n",
       "      <td>...</td>\n",
       "      <td>...</td>\n",
       "    </tr>\n",
       "    <tr>\n",
       "      <th>41740</th>\n",
       "      <td>12</td>\n",
       "      <td>8.0</td>\n",
       "      <td>-22</td>\n",
       "      <td>-5.0</td>\n",
       "      <td>1034.0</td>\n",
       "      <td>NW</td>\n",
       "      <td>143.03</td>\n",
       "      <td>0</td>\n",
       "      <td>0</td>\n",
       "    </tr>\n",
       "    <tr>\n",
       "      <th>41741</th>\n",
       "      <td>12</td>\n",
       "      <td>8.0</td>\n",
       "      <td>-22</td>\n",
       "      <td>-5.0</td>\n",
       "      <td>1034.0</td>\n",
       "      <td>NW</td>\n",
       "      <td>150.18</td>\n",
       "      <td>0</td>\n",
       "      <td>0</td>\n",
       "    </tr>\n",
       "    <tr>\n",
       "      <th>41742</th>\n",
       "      <td>12</td>\n",
       "      <td>8.0</td>\n",
       "      <td>-22</td>\n",
       "      <td>-3.0</td>\n",
       "      <td>1034.0</td>\n",
       "      <td>NW</td>\n",
       "      <td>155.99</td>\n",
       "      <td>0</td>\n",
       "      <td>0</td>\n",
       "    </tr>\n",
       "    <tr>\n",
       "      <th>41743</th>\n",
       "      <td>12</td>\n",
       "      <td>7.0</td>\n",
       "      <td>-22</td>\n",
       "      <td>-2.0</td>\n",
       "      <td>1034.0</td>\n",
       "      <td>NW</td>\n",
       "      <td>163.14</td>\n",
       "      <td>0</td>\n",
       "      <td>0</td>\n",
       "    </tr>\n",
       "    <tr>\n",
       "      <th>41744</th>\n",
       "      <td>12</td>\n",
       "      <td>12.0</td>\n",
       "      <td>-22</td>\n",
       "      <td>-2.0</td>\n",
       "      <td>1034.0</td>\n",
       "      <td>NW</td>\n",
       "      <td>170.29</td>\n",
       "      <td>0</td>\n",
       "      <td>0</td>\n",
       "    </tr>\n",
       "  </tbody>\n",
       "</table>\n",
       "<p>39061 rows × 9 columns</p>\n",
       "</div>"
      ],
      "text/plain": [
       "       month  pm2.5  dewTemp  temp    pres windDir  windSpeed  cumSnow  \\\n",
       "0          1  129.0      -16  -4.0  1020.0      SE       1.79        0   \n",
       "1          1  148.0      -15  -4.0  1020.0      SE       2.68        0   \n",
       "2          1  159.0      -11  -5.0  1021.0      SE       3.57        0   \n",
       "3          1  181.0       -7  -5.0  1022.0      SE       5.36        1   \n",
       "4          1  138.0       -7  -5.0  1022.0      SE       6.25        2   \n",
       "...      ...    ...      ...   ...     ...     ...        ...      ...   \n",
       "41740     12    8.0      -22  -5.0  1034.0      NW     143.03        0   \n",
       "41741     12    8.0      -22  -5.0  1034.0      NW     150.18        0   \n",
       "41742     12    8.0      -22  -3.0  1034.0      NW     155.99        0   \n",
       "41743     12    7.0      -22  -2.0  1034.0      NW     163.14        0   \n",
       "41744     12   12.0      -22  -2.0  1034.0      NW     170.29        0   \n",
       "\n",
       "       cumRain  \n",
       "0            0  \n",
       "1            0  \n",
       "2            0  \n",
       "3            0  \n",
       "4            0  \n",
       "...        ...  \n",
       "41740        0  \n",
       "41741        0  \n",
       "41742        0  \n",
       "41743        0  \n",
       "41744        0  \n",
       "\n",
       "[39061 rows x 9 columns]"
      ]
     },
     "execution_count": 15,
     "metadata": {},
     "output_type": "execute_result"
    }
   ],
   "source": [
    "pd.set_option('display.max_rows', 1000)\n",
    "other2 = pollution[(z2 < 3).all(axis=1)]\n",
    "other2"
   ]
  },
  {
   "cell_type": "markdown",
   "metadata": {},
   "source": [
    "The first table shows the values of the outliers and the second table shows the values of the dataset without the outliers. Looking at these values, we can see that the values of cumSnow and cumRain are the same for both tables (outliers and non-outliers). We do not see a reason to find z-scores of these two columns since their values are close and removing them based on their z-scores would be unreasonable causing some bias. \n",
    "\n",
    "Hence, let us find outliers based on the z-scores of all numerical features except cumSnow and cumRain."
   ]
  },
  {
   "cell_type": "code",
   "execution_count": 16,
   "metadata": {
    "scrolled": false
   },
   "outputs": [
    {
     "name": "stdout",
     "output_type": "stream",
     "text": [
      "[[1.59626706 0.3301143  1.22979123 1.34714315 0.3453295  0.4449441 ]\n",
      " [1.59626706 0.53652547 1.16050789 1.34714315 0.3453295  0.42700666]\n",
      " [1.59626706 0.65602667 0.88337455 1.4292782  0.44241114 0.40906923]\n",
      " ...\n",
      " [1.58830091 0.96267141 1.64549124 1.26500809 1.70447242 4.41045788]\n",
      " [1.58830091 0.9843989  1.64549124 1.34714315 1.70447242 4.49147866]\n",
      " [1.58830091 0.94094391 1.57620791 1.26500809 1.70447242 4.55456201]]\n"
     ]
    }
   ],
   "source": [
    "from scipy import stats\n",
    "import numpy as np\n",
    "\n",
    "z = np.abs(stats.zscore(pollution[['month', 'pm2.5', 'dewTemp', 'temp', 'pres', 'windSpeed']]))\n",
    "print(z)"
   ]
  },
  {
   "cell_type": "code",
   "execution_count": 17,
   "metadata": {},
   "outputs": [
    {
     "name": "stdout",
     "output_type": "stream",
     "text": [
      "(array([   68,    69,    70, ..., 41754, 41755, 41756]), array([5, 5, 5, ..., 5, 5, 5]))\n"
     ]
    }
   ],
   "source": [
    "threshold = 3\n",
    "print(np.where(z > 3))"
   ]
  },
  {
   "cell_type": "code",
   "execution_count": 18,
   "metadata": {
    "scrolled": true
   },
   "outputs": [
    {
     "data": {
      "text/plain": [
       "(1878, 9)"
      ]
     },
     "execution_count": 18,
     "metadata": {},
     "output_type": "execute_result"
    }
   ],
   "source": [
    "outliers = pollution[(z >=3)]\n",
    "outliers.shape"
   ]
  },
  {
   "cell_type": "code",
   "execution_count": 19,
   "metadata": {},
   "outputs": [
    {
     "data": {
      "text/html": [
       "<div>\n",
       "<style scoped>\n",
       "    .dataframe tbody tr th:only-of-type {\n",
       "        vertical-align: middle;\n",
       "    }\n",
       "\n",
       "    .dataframe tbody tr th {\n",
       "        vertical-align: top;\n",
       "    }\n",
       "\n",
       "    .dataframe thead th {\n",
       "        text-align: right;\n",
       "    }\n",
       "</style>\n",
       "<table border=\"1\" class=\"dataframe\">\n",
       "  <thead>\n",
       "    <tr style=\"text-align: right;\">\n",
       "      <th></th>\n",
       "      <th>month</th>\n",
       "      <th>pm2.5</th>\n",
       "      <th>dewTemp</th>\n",
       "      <th>temp</th>\n",
       "      <th>pres</th>\n",
       "      <th>windDir</th>\n",
       "      <th>windSpeed</th>\n",
       "      <th>cumSnow</th>\n",
       "      <th>cumRain</th>\n",
       "    </tr>\n",
       "  </thead>\n",
       "  <tbody>\n",
       "    <tr>\n",
       "      <th>0</th>\n",
       "      <td>1</td>\n",
       "      <td>129.0</td>\n",
       "      <td>-16</td>\n",
       "      <td>-4.0</td>\n",
       "      <td>1020.0</td>\n",
       "      <td>SE</td>\n",
       "      <td>1.79</td>\n",
       "      <td>0</td>\n",
       "      <td>0</td>\n",
       "    </tr>\n",
       "    <tr>\n",
       "      <th>1</th>\n",
       "      <td>1</td>\n",
       "      <td>148.0</td>\n",
       "      <td>-15</td>\n",
       "      <td>-4.0</td>\n",
       "      <td>1020.0</td>\n",
       "      <td>SE</td>\n",
       "      <td>2.68</td>\n",
       "      <td>0</td>\n",
       "      <td>0</td>\n",
       "    </tr>\n",
       "    <tr>\n",
       "      <th>2</th>\n",
       "      <td>1</td>\n",
       "      <td>159.0</td>\n",
       "      <td>-11</td>\n",
       "      <td>-5.0</td>\n",
       "      <td>1021.0</td>\n",
       "      <td>SE</td>\n",
       "      <td>3.57</td>\n",
       "      <td>0</td>\n",
       "      <td>0</td>\n",
       "    </tr>\n",
       "    <tr>\n",
       "      <th>3</th>\n",
       "      <td>1</td>\n",
       "      <td>181.0</td>\n",
       "      <td>-7</td>\n",
       "      <td>-5.0</td>\n",
       "      <td>1022.0</td>\n",
       "      <td>SE</td>\n",
       "      <td>5.36</td>\n",
       "      <td>1</td>\n",
       "      <td>0</td>\n",
       "    </tr>\n",
       "    <tr>\n",
       "      <th>4</th>\n",
       "      <td>1</td>\n",
       "      <td>138.0</td>\n",
       "      <td>-7</td>\n",
       "      <td>-5.0</td>\n",
       "      <td>1022.0</td>\n",
       "      <td>SE</td>\n",
       "      <td>6.25</td>\n",
       "      <td>2</td>\n",
       "      <td>0</td>\n",
       "    </tr>\n",
       "    <tr>\n",
       "      <th>...</th>\n",
       "      <td>...</td>\n",
       "      <td>...</td>\n",
       "      <td>...</td>\n",
       "      <td>...</td>\n",
       "      <td>...</td>\n",
       "      <td>...</td>\n",
       "      <td>...</td>\n",
       "      <td>...</td>\n",
       "      <td>...</td>\n",
       "    </tr>\n",
       "    <tr>\n",
       "      <th>41740</th>\n",
       "      <td>12</td>\n",
       "      <td>8.0</td>\n",
       "      <td>-22</td>\n",
       "      <td>-5.0</td>\n",
       "      <td>1034.0</td>\n",
       "      <td>NW</td>\n",
       "      <td>143.03</td>\n",
       "      <td>0</td>\n",
       "      <td>0</td>\n",
       "    </tr>\n",
       "    <tr>\n",
       "      <th>41741</th>\n",
       "      <td>12</td>\n",
       "      <td>8.0</td>\n",
       "      <td>-22</td>\n",
       "      <td>-5.0</td>\n",
       "      <td>1034.0</td>\n",
       "      <td>NW</td>\n",
       "      <td>150.18</td>\n",
       "      <td>0</td>\n",
       "      <td>0</td>\n",
       "    </tr>\n",
       "    <tr>\n",
       "      <th>41742</th>\n",
       "      <td>12</td>\n",
       "      <td>8.0</td>\n",
       "      <td>-22</td>\n",
       "      <td>-3.0</td>\n",
       "      <td>1034.0</td>\n",
       "      <td>NW</td>\n",
       "      <td>155.99</td>\n",
       "      <td>0</td>\n",
       "      <td>0</td>\n",
       "    </tr>\n",
       "    <tr>\n",
       "      <th>41743</th>\n",
       "      <td>12</td>\n",
       "      <td>7.0</td>\n",
       "      <td>-22</td>\n",
       "      <td>-2.0</td>\n",
       "      <td>1034.0</td>\n",
       "      <td>NW</td>\n",
       "      <td>163.14</td>\n",
       "      <td>0</td>\n",
       "      <td>0</td>\n",
       "    </tr>\n",
       "    <tr>\n",
       "      <th>41744</th>\n",
       "      <td>12</td>\n",
       "      <td>12.0</td>\n",
       "      <td>-22</td>\n",
       "      <td>-2.0</td>\n",
       "      <td>1034.0</td>\n",
       "      <td>NW</td>\n",
       "      <td>170.29</td>\n",
       "      <td>0</td>\n",
       "      <td>0</td>\n",
       "    </tr>\n",
       "  </tbody>\n",
       "</table>\n",
       "<p>39879 rows × 9 columns</p>\n",
       "</div>"
      ],
      "text/plain": [
       "       month  pm2.5  dewTemp  temp    pres windDir  windSpeed  cumSnow  \\\n",
       "0          1  129.0      -16  -4.0  1020.0      SE       1.79        0   \n",
       "1          1  148.0      -15  -4.0  1020.0      SE       2.68        0   \n",
       "2          1  159.0      -11  -5.0  1021.0      SE       3.57        0   \n",
       "3          1  181.0       -7  -5.0  1022.0      SE       5.36        1   \n",
       "4          1  138.0       -7  -5.0  1022.0      SE       6.25        2   \n",
       "...      ...    ...      ...   ...     ...     ...        ...      ...   \n",
       "41740     12    8.0      -22  -5.0  1034.0      NW     143.03        0   \n",
       "41741     12    8.0      -22  -5.0  1034.0      NW     150.18        0   \n",
       "41742     12    8.0      -22  -3.0  1034.0      NW     155.99        0   \n",
       "41743     12    7.0      -22  -2.0  1034.0      NW     163.14        0   \n",
       "41744     12   12.0      -22  -2.0  1034.0      NW     170.29        0   \n",
       "\n",
       "       cumRain  \n",
       "0            0  \n",
       "1            0  \n",
       "2            0  \n",
       "3            0  \n",
       "4            0  \n",
       "...        ...  \n",
       "41740        0  \n",
       "41741        0  \n",
       "41742        0  \n",
       "41743        0  \n",
       "41744        0  \n",
       "\n",
       "[39879 rows x 9 columns]"
      ]
     },
     "execution_count": 19,
     "metadata": {},
     "output_type": "execute_result"
    }
   ],
   "source": [
    "pd.set_option('display.max_rows', 1000)\n",
    "other = pollution[(z < 3).all(axis=1)]\n",
    "other"
   ]
  },
  {
   "cell_type": "markdown",
   "metadata": {},
   "source": [
    "Let us create a new dataframe without the outliers:"
   ]
  },
  {
   "cell_type": "code",
   "execution_count": 20,
   "metadata": {},
   "outputs": [
    {
     "data": {
      "text/plain": [
       "(41757, 9)"
      ]
     },
     "execution_count": 20,
     "metadata": {},
     "output_type": "execute_result"
    }
   ],
   "source": [
    "pollution.shape"
   ]
  },
  {
   "cell_type": "code",
   "execution_count": 21,
   "metadata": {
    "scrolled": false
   },
   "outputs": [
    {
     "data": {
      "text/plain": [
       "(39879, 9)"
      ]
     },
     "execution_count": 21,
     "metadata": {},
     "output_type": "execute_result"
    }
   ],
   "source": [
    "pollution2 = pollution[(z < 3).all(axis=1)]\n",
    "pollution2.shape"
   ]
  },
  {
   "cell_type": "code",
   "execution_count": 22,
   "metadata": {},
   "outputs": [
    {
     "data": {
      "text/html": [
       "<div>\n",
       "<style scoped>\n",
       "    .dataframe tbody tr th:only-of-type {\n",
       "        vertical-align: middle;\n",
       "    }\n",
       "\n",
       "    .dataframe tbody tr th {\n",
       "        vertical-align: top;\n",
       "    }\n",
       "\n",
       "    .dataframe thead th {\n",
       "        text-align: right;\n",
       "    }\n",
       "</style>\n",
       "<table border=\"1\" class=\"dataframe\">\n",
       "  <thead>\n",
       "    <tr style=\"text-align: right;\">\n",
       "      <th></th>\n",
       "      <th>month</th>\n",
       "      <th>pm2.5</th>\n",
       "      <th>dewTemp</th>\n",
       "      <th>temp</th>\n",
       "      <th>pres</th>\n",
       "      <th>windDir</th>\n",
       "      <th>windSpeed</th>\n",
       "      <th>cumSnow</th>\n",
       "      <th>cumRain</th>\n",
       "    </tr>\n",
       "  </thead>\n",
       "  <tbody>\n",
       "    <tr>\n",
       "      <th>0</th>\n",
       "      <td>1</td>\n",
       "      <td>129.0</td>\n",
       "      <td>-16</td>\n",
       "      <td>-4.0</td>\n",
       "      <td>1020.0</td>\n",
       "      <td>SE</td>\n",
       "      <td>1.79</td>\n",
       "      <td>0</td>\n",
       "      <td>0</td>\n",
       "    </tr>\n",
       "    <tr>\n",
       "      <th>1</th>\n",
       "      <td>1</td>\n",
       "      <td>148.0</td>\n",
       "      <td>-15</td>\n",
       "      <td>-4.0</td>\n",
       "      <td>1020.0</td>\n",
       "      <td>SE</td>\n",
       "      <td>2.68</td>\n",
       "      <td>0</td>\n",
       "      <td>0</td>\n",
       "    </tr>\n",
       "    <tr>\n",
       "      <th>2</th>\n",
       "      <td>1</td>\n",
       "      <td>159.0</td>\n",
       "      <td>-11</td>\n",
       "      <td>-5.0</td>\n",
       "      <td>1021.0</td>\n",
       "      <td>SE</td>\n",
       "      <td>3.57</td>\n",
       "      <td>0</td>\n",
       "      <td>0</td>\n",
       "    </tr>\n",
       "    <tr>\n",
       "      <th>3</th>\n",
       "      <td>1</td>\n",
       "      <td>181.0</td>\n",
       "      <td>-7</td>\n",
       "      <td>-5.0</td>\n",
       "      <td>1022.0</td>\n",
       "      <td>SE</td>\n",
       "      <td>5.36</td>\n",
       "      <td>1</td>\n",
       "      <td>0</td>\n",
       "    </tr>\n",
       "    <tr>\n",
       "      <th>4</th>\n",
       "      <td>1</td>\n",
       "      <td>138.0</td>\n",
       "      <td>-7</td>\n",
       "      <td>-5.0</td>\n",
       "      <td>1022.0</td>\n",
       "      <td>SE</td>\n",
       "      <td>6.25</td>\n",
       "      <td>2</td>\n",
       "      <td>0</td>\n",
       "    </tr>\n",
       "    <tr>\n",
       "      <th>5</th>\n",
       "      <td>1</td>\n",
       "      <td>109.0</td>\n",
       "      <td>-7</td>\n",
       "      <td>-6.0</td>\n",
       "      <td>1022.0</td>\n",
       "      <td>SE</td>\n",
       "      <td>7.14</td>\n",
       "      <td>3</td>\n",
       "      <td>0</td>\n",
       "    </tr>\n",
       "    <tr>\n",
       "      <th>6</th>\n",
       "      <td>1</td>\n",
       "      <td>105.0</td>\n",
       "      <td>-7</td>\n",
       "      <td>-6.0</td>\n",
       "      <td>1023.0</td>\n",
       "      <td>SE</td>\n",
       "      <td>8.93</td>\n",
       "      <td>4</td>\n",
       "      <td>0</td>\n",
       "    </tr>\n",
       "    <tr>\n",
       "      <th>7</th>\n",
       "      <td>1</td>\n",
       "      <td>124.0</td>\n",
       "      <td>-7</td>\n",
       "      <td>-5.0</td>\n",
       "      <td>1024.0</td>\n",
       "      <td>SE</td>\n",
       "      <td>10.72</td>\n",
       "      <td>0</td>\n",
       "      <td>0</td>\n",
       "    </tr>\n",
       "    <tr>\n",
       "      <th>8</th>\n",
       "      <td>1</td>\n",
       "      <td>120.0</td>\n",
       "      <td>-8</td>\n",
       "      <td>-6.0</td>\n",
       "      <td>1024.0</td>\n",
       "      <td>SE</td>\n",
       "      <td>12.51</td>\n",
       "      <td>0</td>\n",
       "      <td>0</td>\n",
       "    </tr>\n",
       "    <tr>\n",
       "      <th>9</th>\n",
       "      <td>1</td>\n",
       "      <td>132.0</td>\n",
       "      <td>-7</td>\n",
       "      <td>-5.0</td>\n",
       "      <td>1025.0</td>\n",
       "      <td>SE</td>\n",
       "      <td>14.30</td>\n",
       "      <td>0</td>\n",
       "      <td>0</td>\n",
       "    </tr>\n",
       "  </tbody>\n",
       "</table>\n",
       "</div>"
      ],
      "text/plain": [
       "   month  pm2.5  dewTemp  temp    pres windDir  windSpeed  cumSnow  cumRain\n",
       "0      1  129.0      -16  -4.0  1020.0      SE       1.79        0        0\n",
       "1      1  148.0      -15  -4.0  1020.0      SE       2.68        0        0\n",
       "2      1  159.0      -11  -5.0  1021.0      SE       3.57        0        0\n",
       "3      1  181.0       -7  -5.0  1022.0      SE       5.36        1        0\n",
       "4      1  138.0       -7  -5.0  1022.0      SE       6.25        2        0\n",
       "5      1  109.0       -7  -6.0  1022.0      SE       7.14        3        0\n",
       "6      1  105.0       -7  -6.0  1023.0      SE       8.93        4        0\n",
       "7      1  124.0       -7  -5.0  1024.0      SE      10.72        0        0\n",
       "8      1  120.0       -8  -6.0  1024.0      SE      12.51        0        0\n",
       "9      1  132.0       -7  -5.0  1025.0      SE      14.30        0        0"
      ]
     },
     "execution_count": 22,
     "metadata": {},
     "output_type": "execute_result"
    }
   ],
   "source": [
    "pollution2.reset_index(drop = True, inplace = True)\n",
    "pollution2.head(10)"
   ]
  },
  {
   "cell_type": "markdown",
   "metadata": {},
   "source": [
    "Removing outliers based on numerical features, except cumSnow and cumRain, results in fewer outliers being removed; approximately 2,000 rows have not been removed compared to the rows removed when cumSnow and cumRain were used in z-score calculations. This is interesting because it shows that values that are not much different from other observations can be removed due to minor differences. Hence, it is important to look at the outliers to determine if they should be removed for further model creation."
   ]
  },
  {
   "cell_type": "code",
   "execution_count": 23,
   "metadata": {
    "scrolled": true
   },
   "outputs": [
    {
     "name": "stdout",
     "output_type": "stream",
     "text": [
      "The data frame without outliers is 0.96 % smaller than the original dataframe\n"
     ]
    }
   ],
   "source": [
    "print('The data frame without outliers is', round((pollution2.shape[0]/pollution.shape[0]),2),\\\n",
    "      '% smaller than the original dataframe')"
   ]
  },
  {
   "cell_type": "markdown",
   "metadata": {},
   "source": [
    "---"
   ]
  },
  {
   "cell_type": "markdown",
   "metadata": {},
   "source": [
    "## One-Hot Encoding"
   ]
  },
  {
   "cell_type": "markdown",
   "metadata": {},
   "source": [
    "Let us one-hot encode the windDir variable since it is categorical. \n",
    "\n",
    "We have to one-hot encode this variable because it has string values and we will give 0, 1 values to each value of the variable."
   ]
  },
  {
   "cell_type": "markdown",
   "metadata": {},
   "source": [
    "##### Dataset with Outliers"
   ]
  },
  {
   "cell_type": "code",
   "execution_count": 24,
   "metadata": {},
   "outputs": [
    {
     "data": {
      "text/html": [
       "<div>\n",
       "<style scoped>\n",
       "    .dataframe tbody tr th:only-of-type {\n",
       "        vertical-align: middle;\n",
       "    }\n",
       "\n",
       "    .dataframe tbody tr th {\n",
       "        vertical-align: top;\n",
       "    }\n",
       "\n",
       "    .dataframe thead th {\n",
       "        text-align: right;\n",
       "    }\n",
       "</style>\n",
       "<table border=\"1\" class=\"dataframe\">\n",
       "  <thead>\n",
       "    <tr style=\"text-align: right;\">\n",
       "      <th></th>\n",
       "      <th>x0_NE</th>\n",
       "      <th>x0_NW</th>\n",
       "      <th>x0_SE</th>\n",
       "      <th>x0_SW</th>\n",
       "    </tr>\n",
       "  </thead>\n",
       "  <tbody>\n",
       "    <tr>\n",
       "      <th>0</th>\n",
       "      <td>0.0</td>\n",
       "      <td>0.0</td>\n",
       "      <td>1.0</td>\n",
       "      <td>0.0</td>\n",
       "    </tr>\n",
       "    <tr>\n",
       "      <th>1</th>\n",
       "      <td>0.0</td>\n",
       "      <td>0.0</td>\n",
       "      <td>1.0</td>\n",
       "      <td>0.0</td>\n",
       "    </tr>\n",
       "    <tr>\n",
       "      <th>2</th>\n",
       "      <td>0.0</td>\n",
       "      <td>0.0</td>\n",
       "      <td>1.0</td>\n",
       "      <td>0.0</td>\n",
       "    </tr>\n",
       "    <tr>\n",
       "      <th>3</th>\n",
       "      <td>0.0</td>\n",
       "      <td>0.0</td>\n",
       "      <td>1.0</td>\n",
       "      <td>0.0</td>\n",
       "    </tr>\n",
       "    <tr>\n",
       "      <th>4</th>\n",
       "      <td>0.0</td>\n",
       "      <td>0.0</td>\n",
       "      <td>1.0</td>\n",
       "      <td>0.0</td>\n",
       "    </tr>\n",
       "  </tbody>\n",
       "</table>\n",
       "</div>"
      ],
      "text/plain": [
       "   x0_NE  x0_NW  x0_SE  x0_SW\n",
       "0    0.0    0.0    1.0    0.0\n",
       "1    0.0    0.0    1.0    0.0\n",
       "2    0.0    0.0    1.0    0.0\n",
       "3    0.0    0.0    1.0    0.0\n",
       "4    0.0    0.0    1.0    0.0"
      ]
     },
     "execution_count": 24,
     "metadata": {},
     "output_type": "execute_result"
    }
   ],
   "source": [
    "from sklearn.preprocessing import OneHotEncoder\n",
    "\n",
    "windDirection = OneHotEncoder()\n",
    "windDirectionDF = windDirection.fit_transform(pollution[['windDir']])\n",
    "windDirectionDF = pd.DataFrame(windDirectionDF.toarray())\n",
    "windDirectionDF.columns = windDirection.get_feature_names()\n",
    "windDirectionDF.head()"
   ]
  },
  {
   "cell_type": "code",
   "execution_count": 25,
   "metadata": {},
   "outputs": [
    {
     "data": {
      "text/html": [
       "<div>\n",
       "<style scoped>\n",
       "    .dataframe tbody tr th:only-of-type {\n",
       "        vertical-align: middle;\n",
       "    }\n",
       "\n",
       "    .dataframe tbody tr th {\n",
       "        vertical-align: top;\n",
       "    }\n",
       "\n",
       "    .dataframe thead th {\n",
       "        text-align: right;\n",
       "    }\n",
       "</style>\n",
       "<table border=\"1\" class=\"dataframe\">\n",
       "  <thead>\n",
       "    <tr style=\"text-align: right;\">\n",
       "      <th></th>\n",
       "      <th>month</th>\n",
       "      <th>pm2.5</th>\n",
       "      <th>dewTemp</th>\n",
       "      <th>temp</th>\n",
       "      <th>pres</th>\n",
       "      <th>windSpeed</th>\n",
       "      <th>cumSnow</th>\n",
       "      <th>cumRain</th>\n",
       "    </tr>\n",
       "  </thead>\n",
       "  <tbody>\n",
       "    <tr>\n",
       "      <th>0</th>\n",
       "      <td>1</td>\n",
       "      <td>129.0</td>\n",
       "      <td>-16</td>\n",
       "      <td>-4.0</td>\n",
       "      <td>1020.0</td>\n",
       "      <td>1.79</td>\n",
       "      <td>0</td>\n",
       "      <td>0</td>\n",
       "    </tr>\n",
       "    <tr>\n",
       "      <th>1</th>\n",
       "      <td>1</td>\n",
       "      <td>148.0</td>\n",
       "      <td>-15</td>\n",
       "      <td>-4.0</td>\n",
       "      <td>1020.0</td>\n",
       "      <td>2.68</td>\n",
       "      <td>0</td>\n",
       "      <td>0</td>\n",
       "    </tr>\n",
       "    <tr>\n",
       "      <th>2</th>\n",
       "      <td>1</td>\n",
       "      <td>159.0</td>\n",
       "      <td>-11</td>\n",
       "      <td>-5.0</td>\n",
       "      <td>1021.0</td>\n",
       "      <td>3.57</td>\n",
       "      <td>0</td>\n",
       "      <td>0</td>\n",
       "    </tr>\n",
       "    <tr>\n",
       "      <th>3</th>\n",
       "      <td>1</td>\n",
       "      <td>181.0</td>\n",
       "      <td>-7</td>\n",
       "      <td>-5.0</td>\n",
       "      <td>1022.0</td>\n",
       "      <td>5.36</td>\n",
       "      <td>1</td>\n",
       "      <td>0</td>\n",
       "    </tr>\n",
       "    <tr>\n",
       "      <th>4</th>\n",
       "      <td>1</td>\n",
       "      <td>138.0</td>\n",
       "      <td>-7</td>\n",
       "      <td>-5.0</td>\n",
       "      <td>1022.0</td>\n",
       "      <td>6.25</td>\n",
       "      <td>2</td>\n",
       "      <td>0</td>\n",
       "    </tr>\n",
       "  </tbody>\n",
       "</table>\n",
       "</div>"
      ],
      "text/plain": [
       "   month  pm2.5  dewTemp  temp    pres  windSpeed  cumSnow  cumRain\n",
       "0      1  129.0      -16  -4.0  1020.0       1.79        0        0\n",
       "1      1  148.0      -15  -4.0  1020.0       2.68        0        0\n",
       "2      1  159.0      -11  -5.0  1021.0       3.57        0        0\n",
       "3      1  181.0       -7  -5.0  1022.0       5.36        1        0\n",
       "4      1  138.0       -7  -5.0  1022.0       6.25        2        0"
      ]
     },
     "execution_count": 25,
     "metadata": {},
     "output_type": "execute_result"
    }
   ],
   "source": [
    "pollution.drop(columns = ['windDir'], inplace = True)\n",
    "pollution.head()"
   ]
  },
  {
   "cell_type": "code",
   "execution_count": 26,
   "metadata": {
    "scrolled": true
   },
   "outputs": [
    {
     "data": {
      "text/html": [
       "<div>\n",
       "<style scoped>\n",
       "    .dataframe tbody tr th:only-of-type {\n",
       "        vertical-align: middle;\n",
       "    }\n",
       "\n",
       "    .dataframe tbody tr th {\n",
       "        vertical-align: top;\n",
       "    }\n",
       "\n",
       "    .dataframe thead th {\n",
       "        text-align: right;\n",
       "    }\n",
       "</style>\n",
       "<table border=\"1\" class=\"dataframe\">\n",
       "  <thead>\n",
       "    <tr style=\"text-align: right;\">\n",
       "      <th></th>\n",
       "      <th>month</th>\n",
       "      <th>pm2.5</th>\n",
       "      <th>dewTemp</th>\n",
       "      <th>temp</th>\n",
       "      <th>pres</th>\n",
       "      <th>windSpeed</th>\n",
       "      <th>cumSnow</th>\n",
       "      <th>cumRain</th>\n",
       "      <th>x0_NE</th>\n",
       "      <th>x0_NW</th>\n",
       "      <th>x0_SE</th>\n",
       "      <th>x0_SW</th>\n",
       "    </tr>\n",
       "  </thead>\n",
       "  <tbody>\n",
       "    <tr>\n",
       "      <th>0</th>\n",
       "      <td>1</td>\n",
       "      <td>129.0</td>\n",
       "      <td>-16</td>\n",
       "      <td>-4.0</td>\n",
       "      <td>1020.0</td>\n",
       "      <td>1.79</td>\n",
       "      <td>0</td>\n",
       "      <td>0</td>\n",
       "      <td>0.0</td>\n",
       "      <td>0.0</td>\n",
       "      <td>1.0</td>\n",
       "      <td>0.0</td>\n",
       "    </tr>\n",
       "    <tr>\n",
       "      <th>1</th>\n",
       "      <td>1</td>\n",
       "      <td>148.0</td>\n",
       "      <td>-15</td>\n",
       "      <td>-4.0</td>\n",
       "      <td>1020.0</td>\n",
       "      <td>2.68</td>\n",
       "      <td>0</td>\n",
       "      <td>0</td>\n",
       "      <td>0.0</td>\n",
       "      <td>0.0</td>\n",
       "      <td>1.0</td>\n",
       "      <td>0.0</td>\n",
       "    </tr>\n",
       "    <tr>\n",
       "      <th>2</th>\n",
       "      <td>1</td>\n",
       "      <td>159.0</td>\n",
       "      <td>-11</td>\n",
       "      <td>-5.0</td>\n",
       "      <td>1021.0</td>\n",
       "      <td>3.57</td>\n",
       "      <td>0</td>\n",
       "      <td>0</td>\n",
       "      <td>0.0</td>\n",
       "      <td>0.0</td>\n",
       "      <td>1.0</td>\n",
       "      <td>0.0</td>\n",
       "    </tr>\n",
       "    <tr>\n",
       "      <th>3</th>\n",
       "      <td>1</td>\n",
       "      <td>181.0</td>\n",
       "      <td>-7</td>\n",
       "      <td>-5.0</td>\n",
       "      <td>1022.0</td>\n",
       "      <td>5.36</td>\n",
       "      <td>1</td>\n",
       "      <td>0</td>\n",
       "      <td>0.0</td>\n",
       "      <td>0.0</td>\n",
       "      <td>1.0</td>\n",
       "      <td>0.0</td>\n",
       "    </tr>\n",
       "    <tr>\n",
       "      <th>4</th>\n",
       "      <td>1</td>\n",
       "      <td>138.0</td>\n",
       "      <td>-7</td>\n",
       "      <td>-5.0</td>\n",
       "      <td>1022.0</td>\n",
       "      <td>6.25</td>\n",
       "      <td>2</td>\n",
       "      <td>0</td>\n",
       "      <td>0.0</td>\n",
       "      <td>0.0</td>\n",
       "      <td>1.0</td>\n",
       "      <td>0.0</td>\n",
       "    </tr>\n",
       "  </tbody>\n",
       "</table>\n",
       "</div>"
      ],
      "text/plain": [
       "   month  pm2.5  dewTemp  temp    pres  windSpeed  cumSnow  cumRain  x0_NE  \\\n",
       "0      1  129.0      -16  -4.0  1020.0       1.79        0        0    0.0   \n",
       "1      1  148.0      -15  -4.0  1020.0       2.68        0        0    0.0   \n",
       "2      1  159.0      -11  -5.0  1021.0       3.57        0        0    0.0   \n",
       "3      1  181.0       -7  -5.0  1022.0       5.36        1        0    0.0   \n",
       "4      1  138.0       -7  -5.0  1022.0       6.25        2        0    0.0   \n",
       "\n",
       "   x0_NW  x0_SE  x0_SW  \n",
       "0    0.0    1.0    0.0  \n",
       "1    0.0    1.0    0.0  \n",
       "2    0.0    1.0    0.0  \n",
       "3    0.0    1.0    0.0  \n",
       "4    0.0    1.0    0.0  "
      ]
     },
     "execution_count": 26,
     "metadata": {},
     "output_type": "execute_result"
    }
   ],
   "source": [
    "pollutionDF = pd.concat([pollution, windDirectionDF], axis = 1)\n",
    "pollutionDF.head()"
   ]
  },
  {
   "cell_type": "code",
   "execution_count": 27,
   "metadata": {},
   "outputs": [
    {
     "data": {
      "text/plain": [
       "Index(['month', 'pm2.5', 'dewTemp', 'temp', 'pres', 'windSpeed', 'cumSnow',\n",
       "       'cumRain', 'x0_NE', 'x0_NW', 'x0_SE', 'x0_SW'],\n",
       "      dtype='object')"
      ]
     },
     "execution_count": 27,
     "metadata": {},
     "output_type": "execute_result"
    }
   ],
   "source": [
    "pollutionDF.columns"
   ]
  },
  {
   "cell_type": "code",
   "execution_count": 28,
   "metadata": {},
   "outputs": [
    {
     "data": {
      "text/html": [
       "<div>\n",
       "<style scoped>\n",
       "    .dataframe tbody tr th:only-of-type {\n",
       "        vertical-align: middle;\n",
       "    }\n",
       "\n",
       "    .dataframe tbody tr th {\n",
       "        vertical-align: top;\n",
       "    }\n",
       "\n",
       "    .dataframe thead th {\n",
       "        text-align: right;\n",
       "    }\n",
       "</style>\n",
       "<table border=\"1\" class=\"dataframe\">\n",
       "  <thead>\n",
       "    <tr style=\"text-align: right;\">\n",
       "      <th></th>\n",
       "      <th>month</th>\n",
       "      <th>dewTemp</th>\n",
       "      <th>temp</th>\n",
       "      <th>pres</th>\n",
       "      <th>windSpeed</th>\n",
       "      <th>cumSnow</th>\n",
       "      <th>cumRain</th>\n",
       "      <th>x0_NE</th>\n",
       "      <th>x0_NW</th>\n",
       "      <th>x0_SE</th>\n",
       "      <th>x0_SW</th>\n",
       "      <th>pm2.5</th>\n",
       "    </tr>\n",
       "  </thead>\n",
       "  <tbody>\n",
       "    <tr>\n",
       "      <th>0</th>\n",
       "      <td>1</td>\n",
       "      <td>-16</td>\n",
       "      <td>-4.0</td>\n",
       "      <td>1020.0</td>\n",
       "      <td>1.79</td>\n",
       "      <td>0</td>\n",
       "      <td>0</td>\n",
       "      <td>0.0</td>\n",
       "      <td>0.0</td>\n",
       "      <td>1.0</td>\n",
       "      <td>0.0</td>\n",
       "      <td>129.0</td>\n",
       "    </tr>\n",
       "    <tr>\n",
       "      <th>1</th>\n",
       "      <td>1</td>\n",
       "      <td>-15</td>\n",
       "      <td>-4.0</td>\n",
       "      <td>1020.0</td>\n",
       "      <td>2.68</td>\n",
       "      <td>0</td>\n",
       "      <td>0</td>\n",
       "      <td>0.0</td>\n",
       "      <td>0.0</td>\n",
       "      <td>1.0</td>\n",
       "      <td>0.0</td>\n",
       "      <td>148.0</td>\n",
       "    </tr>\n",
       "    <tr>\n",
       "      <th>2</th>\n",
       "      <td>1</td>\n",
       "      <td>-11</td>\n",
       "      <td>-5.0</td>\n",
       "      <td>1021.0</td>\n",
       "      <td>3.57</td>\n",
       "      <td>0</td>\n",
       "      <td>0</td>\n",
       "      <td>0.0</td>\n",
       "      <td>0.0</td>\n",
       "      <td>1.0</td>\n",
       "      <td>0.0</td>\n",
       "      <td>159.0</td>\n",
       "    </tr>\n",
       "    <tr>\n",
       "      <th>3</th>\n",
       "      <td>1</td>\n",
       "      <td>-7</td>\n",
       "      <td>-5.0</td>\n",
       "      <td>1022.0</td>\n",
       "      <td>5.36</td>\n",
       "      <td>1</td>\n",
       "      <td>0</td>\n",
       "      <td>0.0</td>\n",
       "      <td>0.0</td>\n",
       "      <td>1.0</td>\n",
       "      <td>0.0</td>\n",
       "      <td>181.0</td>\n",
       "    </tr>\n",
       "    <tr>\n",
       "      <th>4</th>\n",
       "      <td>1</td>\n",
       "      <td>-7</td>\n",
       "      <td>-5.0</td>\n",
       "      <td>1022.0</td>\n",
       "      <td>6.25</td>\n",
       "      <td>2</td>\n",
       "      <td>0</td>\n",
       "      <td>0.0</td>\n",
       "      <td>0.0</td>\n",
       "      <td>1.0</td>\n",
       "      <td>0.0</td>\n",
       "      <td>138.0</td>\n",
       "    </tr>\n",
       "  </tbody>\n",
       "</table>\n",
       "</div>"
      ],
      "text/plain": [
       "   month  dewTemp  temp    pres  windSpeed  cumSnow  cumRain  x0_NE  x0_NW  \\\n",
       "0      1      -16  -4.0  1020.0       1.79        0        0    0.0    0.0   \n",
       "1      1      -15  -4.0  1020.0       2.68        0        0    0.0    0.0   \n",
       "2      1      -11  -5.0  1021.0       3.57        0        0    0.0    0.0   \n",
       "3      1       -7  -5.0  1022.0       5.36        1        0    0.0    0.0   \n",
       "4      1       -7  -5.0  1022.0       6.25        2        0    0.0    0.0   \n",
       "\n",
       "   x0_SE  x0_SW  pm2.5  \n",
       "0    1.0    0.0  129.0  \n",
       "1    1.0    0.0  148.0  \n",
       "2    1.0    0.0  159.0  \n",
       "3    1.0    0.0  181.0  \n",
       "4    1.0    0.0  138.0  "
      ]
     },
     "execution_count": 28,
     "metadata": {},
     "output_type": "execute_result"
    }
   ],
   "source": [
    "colnames = ['month', 'dewTemp', 'temp', 'pres', 'windSpeed', 'cumSnow', 'cumRain', 'x0_NE', 'x0_NW', 'x0_SE', 'x0_SW', 'pm2.5']\n",
    "pollutionDF = pollutionDF[colnames]\n",
    "pollutionDF.head()"
   ]
  },
  {
   "cell_type": "markdown",
   "metadata": {},
   "source": [
    "---"
   ]
  },
  {
   "cell_type": "markdown",
   "metadata": {},
   "source": [
    "##### Dataset without Outliers"
   ]
  },
  {
   "cell_type": "code",
   "execution_count": 29,
   "metadata": {
    "scrolled": false
   },
   "outputs": [
    {
     "data": {
      "text/html": [
       "<div>\n",
       "<style scoped>\n",
       "    .dataframe tbody tr th:only-of-type {\n",
       "        vertical-align: middle;\n",
       "    }\n",
       "\n",
       "    .dataframe tbody tr th {\n",
       "        vertical-align: top;\n",
       "    }\n",
       "\n",
       "    .dataframe thead th {\n",
       "        text-align: right;\n",
       "    }\n",
       "</style>\n",
       "<table border=\"1\" class=\"dataframe\">\n",
       "  <thead>\n",
       "    <tr style=\"text-align: right;\">\n",
       "      <th></th>\n",
       "      <th>x0_NE</th>\n",
       "      <th>x0_NW</th>\n",
       "      <th>x0_SE</th>\n",
       "      <th>x0_SW</th>\n",
       "    </tr>\n",
       "  </thead>\n",
       "  <tbody>\n",
       "    <tr>\n",
       "      <th>0</th>\n",
       "      <td>0.0</td>\n",
       "      <td>0.0</td>\n",
       "      <td>1.0</td>\n",
       "      <td>0.0</td>\n",
       "    </tr>\n",
       "    <tr>\n",
       "      <th>1</th>\n",
       "      <td>0.0</td>\n",
       "      <td>0.0</td>\n",
       "      <td>1.0</td>\n",
       "      <td>0.0</td>\n",
       "    </tr>\n",
       "    <tr>\n",
       "      <th>2</th>\n",
       "      <td>0.0</td>\n",
       "      <td>0.0</td>\n",
       "      <td>1.0</td>\n",
       "      <td>0.0</td>\n",
       "    </tr>\n",
       "    <tr>\n",
       "      <th>3</th>\n",
       "      <td>0.0</td>\n",
       "      <td>0.0</td>\n",
       "      <td>1.0</td>\n",
       "      <td>0.0</td>\n",
       "    </tr>\n",
       "    <tr>\n",
       "      <th>4</th>\n",
       "      <td>0.0</td>\n",
       "      <td>0.0</td>\n",
       "      <td>1.0</td>\n",
       "      <td>0.0</td>\n",
       "    </tr>\n",
       "  </tbody>\n",
       "</table>\n",
       "</div>"
      ],
      "text/plain": [
       "   x0_NE  x0_NW  x0_SE  x0_SW\n",
       "0    0.0    0.0    1.0    0.0\n",
       "1    0.0    0.0    1.0    0.0\n",
       "2    0.0    0.0    1.0    0.0\n",
       "3    0.0    0.0    1.0    0.0\n",
       "4    0.0    0.0    1.0    0.0"
      ]
     },
     "execution_count": 29,
     "metadata": {},
     "output_type": "execute_result"
    }
   ],
   "source": [
    "windDirection_wo = OneHotEncoder()\n",
    "windDirection_woDF = windDirection_wo.fit_transform(pollution2[['windDir']])\n",
    "windDirection_woDF = pd.DataFrame(windDirection_woDF.toarray())\n",
    "windDirection_woDF.columns = windDirection_wo.get_feature_names()\n",
    "windDirection_woDF.head()"
   ]
  },
  {
   "cell_type": "code",
   "execution_count": 30,
   "metadata": {},
   "outputs": [
    {
     "name": "stderr",
     "output_type": "stream",
     "text": [
      "/Users/sneha_verma/opt/anaconda3/lib/python3.8/site-packages/pandas/core/frame.py:4163: SettingWithCopyWarning: \n",
      "A value is trying to be set on a copy of a slice from a DataFrame\n",
      "\n",
      "See the caveats in the documentation: https://pandas.pydata.org/pandas-docs/stable/user_guide/indexing.html#returning-a-view-versus-a-copy\n",
      "  return super().drop(\n"
     ]
    },
    {
     "data": {
      "text/html": [
       "<div>\n",
       "<style scoped>\n",
       "    .dataframe tbody tr th:only-of-type {\n",
       "        vertical-align: middle;\n",
       "    }\n",
       "\n",
       "    .dataframe tbody tr th {\n",
       "        vertical-align: top;\n",
       "    }\n",
       "\n",
       "    .dataframe thead th {\n",
       "        text-align: right;\n",
       "    }\n",
       "</style>\n",
       "<table border=\"1\" class=\"dataframe\">\n",
       "  <thead>\n",
       "    <tr style=\"text-align: right;\">\n",
       "      <th></th>\n",
       "      <th>month</th>\n",
       "      <th>pm2.5</th>\n",
       "      <th>dewTemp</th>\n",
       "      <th>temp</th>\n",
       "      <th>pres</th>\n",
       "      <th>windSpeed</th>\n",
       "      <th>cumSnow</th>\n",
       "      <th>cumRain</th>\n",
       "    </tr>\n",
       "  </thead>\n",
       "  <tbody>\n",
       "    <tr>\n",
       "      <th>0</th>\n",
       "      <td>1</td>\n",
       "      <td>129.0</td>\n",
       "      <td>-16</td>\n",
       "      <td>-4.0</td>\n",
       "      <td>1020.0</td>\n",
       "      <td>1.79</td>\n",
       "      <td>0</td>\n",
       "      <td>0</td>\n",
       "    </tr>\n",
       "    <tr>\n",
       "      <th>1</th>\n",
       "      <td>1</td>\n",
       "      <td>148.0</td>\n",
       "      <td>-15</td>\n",
       "      <td>-4.0</td>\n",
       "      <td>1020.0</td>\n",
       "      <td>2.68</td>\n",
       "      <td>0</td>\n",
       "      <td>0</td>\n",
       "    </tr>\n",
       "    <tr>\n",
       "      <th>2</th>\n",
       "      <td>1</td>\n",
       "      <td>159.0</td>\n",
       "      <td>-11</td>\n",
       "      <td>-5.0</td>\n",
       "      <td>1021.0</td>\n",
       "      <td>3.57</td>\n",
       "      <td>0</td>\n",
       "      <td>0</td>\n",
       "    </tr>\n",
       "    <tr>\n",
       "      <th>3</th>\n",
       "      <td>1</td>\n",
       "      <td>181.0</td>\n",
       "      <td>-7</td>\n",
       "      <td>-5.0</td>\n",
       "      <td>1022.0</td>\n",
       "      <td>5.36</td>\n",
       "      <td>1</td>\n",
       "      <td>0</td>\n",
       "    </tr>\n",
       "    <tr>\n",
       "      <th>4</th>\n",
       "      <td>1</td>\n",
       "      <td>138.0</td>\n",
       "      <td>-7</td>\n",
       "      <td>-5.0</td>\n",
       "      <td>1022.0</td>\n",
       "      <td>6.25</td>\n",
       "      <td>2</td>\n",
       "      <td>0</td>\n",
       "    </tr>\n",
       "  </tbody>\n",
       "</table>\n",
       "</div>"
      ],
      "text/plain": [
       "   month  pm2.5  dewTemp  temp    pres  windSpeed  cumSnow  cumRain\n",
       "0      1  129.0      -16  -4.0  1020.0       1.79        0        0\n",
       "1      1  148.0      -15  -4.0  1020.0       2.68        0        0\n",
       "2      1  159.0      -11  -5.0  1021.0       3.57        0        0\n",
       "3      1  181.0       -7  -5.0  1022.0       5.36        1        0\n",
       "4      1  138.0       -7  -5.0  1022.0       6.25        2        0"
      ]
     },
     "execution_count": 30,
     "metadata": {},
     "output_type": "execute_result"
    }
   ],
   "source": [
    "pollution2.drop(columns = ['windDir'], inplace = True)\n",
    "pollution2.head()"
   ]
  },
  {
   "cell_type": "code",
   "execution_count": 31,
   "metadata": {
    "scrolled": true
   },
   "outputs": [
    {
     "data": {
      "text/html": [
       "<div>\n",
       "<style scoped>\n",
       "    .dataframe tbody tr th:only-of-type {\n",
       "        vertical-align: middle;\n",
       "    }\n",
       "\n",
       "    .dataframe tbody tr th {\n",
       "        vertical-align: top;\n",
       "    }\n",
       "\n",
       "    .dataframe thead th {\n",
       "        text-align: right;\n",
       "    }\n",
       "</style>\n",
       "<table border=\"1\" class=\"dataframe\">\n",
       "  <thead>\n",
       "    <tr style=\"text-align: right;\">\n",
       "      <th></th>\n",
       "      <th>month</th>\n",
       "      <th>pm2.5</th>\n",
       "      <th>dewTemp</th>\n",
       "      <th>temp</th>\n",
       "      <th>pres</th>\n",
       "      <th>windSpeed</th>\n",
       "      <th>cumSnow</th>\n",
       "      <th>cumRain</th>\n",
       "      <th>x0_NE</th>\n",
       "      <th>x0_NW</th>\n",
       "      <th>x0_SE</th>\n",
       "      <th>x0_SW</th>\n",
       "    </tr>\n",
       "  </thead>\n",
       "  <tbody>\n",
       "    <tr>\n",
       "      <th>0</th>\n",
       "      <td>1</td>\n",
       "      <td>129.0</td>\n",
       "      <td>-16</td>\n",
       "      <td>-4.0</td>\n",
       "      <td>1020.0</td>\n",
       "      <td>1.79</td>\n",
       "      <td>0</td>\n",
       "      <td>0</td>\n",
       "      <td>0.0</td>\n",
       "      <td>0.0</td>\n",
       "      <td>1.0</td>\n",
       "      <td>0.0</td>\n",
       "    </tr>\n",
       "    <tr>\n",
       "      <th>1</th>\n",
       "      <td>1</td>\n",
       "      <td>148.0</td>\n",
       "      <td>-15</td>\n",
       "      <td>-4.0</td>\n",
       "      <td>1020.0</td>\n",
       "      <td>2.68</td>\n",
       "      <td>0</td>\n",
       "      <td>0</td>\n",
       "      <td>0.0</td>\n",
       "      <td>0.0</td>\n",
       "      <td>1.0</td>\n",
       "      <td>0.0</td>\n",
       "    </tr>\n",
       "    <tr>\n",
       "      <th>2</th>\n",
       "      <td>1</td>\n",
       "      <td>159.0</td>\n",
       "      <td>-11</td>\n",
       "      <td>-5.0</td>\n",
       "      <td>1021.0</td>\n",
       "      <td>3.57</td>\n",
       "      <td>0</td>\n",
       "      <td>0</td>\n",
       "      <td>0.0</td>\n",
       "      <td>0.0</td>\n",
       "      <td>1.0</td>\n",
       "      <td>0.0</td>\n",
       "    </tr>\n",
       "    <tr>\n",
       "      <th>3</th>\n",
       "      <td>1</td>\n",
       "      <td>181.0</td>\n",
       "      <td>-7</td>\n",
       "      <td>-5.0</td>\n",
       "      <td>1022.0</td>\n",
       "      <td>5.36</td>\n",
       "      <td>1</td>\n",
       "      <td>0</td>\n",
       "      <td>0.0</td>\n",
       "      <td>0.0</td>\n",
       "      <td>1.0</td>\n",
       "      <td>0.0</td>\n",
       "    </tr>\n",
       "    <tr>\n",
       "      <th>4</th>\n",
       "      <td>1</td>\n",
       "      <td>138.0</td>\n",
       "      <td>-7</td>\n",
       "      <td>-5.0</td>\n",
       "      <td>1022.0</td>\n",
       "      <td>6.25</td>\n",
       "      <td>2</td>\n",
       "      <td>0</td>\n",
       "      <td>0.0</td>\n",
       "      <td>0.0</td>\n",
       "      <td>1.0</td>\n",
       "      <td>0.0</td>\n",
       "    </tr>\n",
       "  </tbody>\n",
       "</table>\n",
       "</div>"
      ],
      "text/plain": [
       "   month  pm2.5  dewTemp  temp    pres  windSpeed  cumSnow  cumRain  x0_NE  \\\n",
       "0      1  129.0      -16  -4.0  1020.0       1.79        0        0    0.0   \n",
       "1      1  148.0      -15  -4.0  1020.0       2.68        0        0    0.0   \n",
       "2      1  159.0      -11  -5.0  1021.0       3.57        0        0    0.0   \n",
       "3      1  181.0       -7  -5.0  1022.0       5.36        1        0    0.0   \n",
       "4      1  138.0       -7  -5.0  1022.0       6.25        2        0    0.0   \n",
       "\n",
       "   x0_NW  x0_SE  x0_SW  \n",
       "0    0.0    1.0    0.0  \n",
       "1    0.0    1.0    0.0  \n",
       "2    0.0    1.0    0.0  \n",
       "3    0.0    1.0    0.0  \n",
       "4    0.0    1.0    0.0  "
      ]
     },
     "execution_count": 31,
     "metadata": {},
     "output_type": "execute_result"
    }
   ],
   "source": [
    "pollution2DF = pd.concat([pollution2, windDirection_woDF], axis = 1)\n",
    "pollution2DF.head()"
   ]
  },
  {
   "cell_type": "code",
   "execution_count": 32,
   "metadata": {},
   "outputs": [
    {
     "data": {
      "text/html": [
       "<div>\n",
       "<style scoped>\n",
       "    .dataframe tbody tr th:only-of-type {\n",
       "        vertical-align: middle;\n",
       "    }\n",
       "\n",
       "    .dataframe tbody tr th {\n",
       "        vertical-align: top;\n",
       "    }\n",
       "\n",
       "    .dataframe thead th {\n",
       "        text-align: right;\n",
       "    }\n",
       "</style>\n",
       "<table border=\"1\" class=\"dataframe\">\n",
       "  <thead>\n",
       "    <tr style=\"text-align: right;\">\n",
       "      <th></th>\n",
       "      <th>month</th>\n",
       "      <th>dewTemp</th>\n",
       "      <th>temp</th>\n",
       "      <th>pres</th>\n",
       "      <th>windSpeed</th>\n",
       "      <th>cumSnow</th>\n",
       "      <th>cumRain</th>\n",
       "      <th>x0_NE</th>\n",
       "      <th>x0_NW</th>\n",
       "      <th>x0_SE</th>\n",
       "      <th>x0_SW</th>\n",
       "      <th>pm2.5</th>\n",
       "    </tr>\n",
       "  </thead>\n",
       "  <tbody>\n",
       "    <tr>\n",
       "      <th>0</th>\n",
       "      <td>1</td>\n",
       "      <td>-16</td>\n",
       "      <td>-4.0</td>\n",
       "      <td>1020.0</td>\n",
       "      <td>1.79</td>\n",
       "      <td>0</td>\n",
       "      <td>0</td>\n",
       "      <td>0.0</td>\n",
       "      <td>0.0</td>\n",
       "      <td>1.0</td>\n",
       "      <td>0.0</td>\n",
       "      <td>129.0</td>\n",
       "    </tr>\n",
       "    <tr>\n",
       "      <th>1</th>\n",
       "      <td>1</td>\n",
       "      <td>-15</td>\n",
       "      <td>-4.0</td>\n",
       "      <td>1020.0</td>\n",
       "      <td>2.68</td>\n",
       "      <td>0</td>\n",
       "      <td>0</td>\n",
       "      <td>0.0</td>\n",
       "      <td>0.0</td>\n",
       "      <td>1.0</td>\n",
       "      <td>0.0</td>\n",
       "      <td>148.0</td>\n",
       "    </tr>\n",
       "    <tr>\n",
       "      <th>2</th>\n",
       "      <td>1</td>\n",
       "      <td>-11</td>\n",
       "      <td>-5.0</td>\n",
       "      <td>1021.0</td>\n",
       "      <td>3.57</td>\n",
       "      <td>0</td>\n",
       "      <td>0</td>\n",
       "      <td>0.0</td>\n",
       "      <td>0.0</td>\n",
       "      <td>1.0</td>\n",
       "      <td>0.0</td>\n",
       "      <td>159.0</td>\n",
       "    </tr>\n",
       "    <tr>\n",
       "      <th>3</th>\n",
       "      <td>1</td>\n",
       "      <td>-7</td>\n",
       "      <td>-5.0</td>\n",
       "      <td>1022.0</td>\n",
       "      <td>5.36</td>\n",
       "      <td>1</td>\n",
       "      <td>0</td>\n",
       "      <td>0.0</td>\n",
       "      <td>0.0</td>\n",
       "      <td>1.0</td>\n",
       "      <td>0.0</td>\n",
       "      <td>181.0</td>\n",
       "    </tr>\n",
       "    <tr>\n",
       "      <th>4</th>\n",
       "      <td>1</td>\n",
       "      <td>-7</td>\n",
       "      <td>-5.0</td>\n",
       "      <td>1022.0</td>\n",
       "      <td>6.25</td>\n",
       "      <td>2</td>\n",
       "      <td>0</td>\n",
       "      <td>0.0</td>\n",
       "      <td>0.0</td>\n",
       "      <td>1.0</td>\n",
       "      <td>0.0</td>\n",
       "      <td>138.0</td>\n",
       "    </tr>\n",
       "  </tbody>\n",
       "</table>\n",
       "</div>"
      ],
      "text/plain": [
       "   month  dewTemp  temp    pres  windSpeed  cumSnow  cumRain  x0_NE  x0_NW  \\\n",
       "0      1      -16  -4.0  1020.0       1.79        0        0    0.0    0.0   \n",
       "1      1      -15  -4.0  1020.0       2.68        0        0    0.0    0.0   \n",
       "2      1      -11  -5.0  1021.0       3.57        0        0    0.0    0.0   \n",
       "3      1       -7  -5.0  1022.0       5.36        1        0    0.0    0.0   \n",
       "4      1       -7  -5.0  1022.0       6.25        2        0    0.0    0.0   \n",
       "\n",
       "   x0_SE  x0_SW  pm2.5  \n",
       "0    1.0    0.0  129.0  \n",
       "1    1.0    0.0  148.0  \n",
       "2    1.0    0.0  159.0  \n",
       "3    1.0    0.0  181.0  \n",
       "4    1.0    0.0  138.0  "
      ]
     },
     "execution_count": 32,
     "metadata": {},
     "output_type": "execute_result"
    }
   ],
   "source": [
    "colnames = ['month', 'dewTemp', 'temp', 'pres', 'windSpeed', 'cumSnow', 'cumRain', 'x0_NE', 'x0_NW', 'x0_SE', 'x0_SW', 'pm2.5']\n",
    "pollution2DF = pollution2DF[colnames]\n",
    "pollution2DF.head()"
   ]
  },
  {
   "cell_type": "code",
   "execution_count": 33,
   "metadata": {},
   "outputs": [
    {
     "data": {
      "text/plain": [
       "(39879, 12)"
      ]
     },
     "execution_count": 33,
     "metadata": {},
     "output_type": "execute_result"
    }
   ],
   "source": [
    "pollution2DF.shape"
   ]
  },
  {
   "cell_type": "code",
   "execution_count": 34,
   "metadata": {},
   "outputs": [
    {
     "data": {
      "text/plain": [
       "(41757, 12)"
      ]
     },
     "execution_count": 34,
     "metadata": {},
     "output_type": "execute_result"
    }
   ],
   "source": [
    "pollutionDF.shape"
   ]
  },
  {
   "cell_type": "markdown",
   "metadata": {},
   "source": [
    "After one-hot encoding the variables for the datasets with and without outliers, it can be seen that the number of observations in both the dataframes have remained the same. However, the number of columns have increased because of the one-hot encoded columns."
   ]
  },
  {
   "cell_type": "markdown",
   "metadata": {},
   "source": [
    "---"
   ]
  },
  {
   "cell_type": "markdown",
   "metadata": {},
   "source": [
    "## Visualizations\n",
    "##### Scatterplot"
   ]
  },
  {
   "cell_type": "markdown",
   "metadata": {},
   "source": [
    "Let us explore if there are any outliers in this dataset with scatterplot:"
   ]
  },
  {
   "cell_type": "code",
   "execution_count": 37,
   "metadata": {},
   "outputs": [
    {
     "data": {
      "image/png": "[encoded data removed]",
      "text/plain": [
       "<Figure size 720x1440 with 8 Axes>"
      ]
     },
     "metadata": {
      "needs_background": "light"
     },
     "output_type": "display_data"
    }
   ],
   "source": [
    "fig, ax = plt.subplots(4, 2, figsize = (10, 20))\n",
    "#fig.tight_layout()\n",
    "\n",
    "ax[0,0].scatter(y = pollution['pm2.5'], x = pollution['month'])\n",
    "ax[0,0].set_xlabel('Month')\n",
    "ax[0,0].set_ylabel('PM2.5')\n",
    "ax[0,0].set_title('Month v/s PM 2.5 levels')\n",
    "\n",
    "ax[0, 1].scatter(y = pollution['pm2.5'], x = pollution['dewTemp'])\n",
    "ax[0, 1].set_xlabel('Dew Point Temperature')\n",
    "ax[0, 1].set_ylabel('PM2.5')\n",
    "ax[0, 1].set_title('Dew Point v/s PM 2.5 levels')\n",
    "\n",
    "ax[1,0].scatter(y = pollution['pm2.5'], x = pollution['temp'])\n",
    "ax[1,0].set_xlabel('Temperture')\n",
    "ax[1,0].set_ylabel('PM2.5')\n",
    "ax[1,0].set_title('Temperature v/s PM 2.5 levels')\n",
    "\n",
    "ax[1,1].scatter(y = pollution['pm2.5'], x = pollution['pres'])\n",
    "ax[1,1].set_xlabel('Air Pressure')\n",
    "ax[1,1].set_ylabel('PM2.5')\n",
    "ax[1,1].set_title('Air Pressure v/s PM 2.5 levels')\n",
    "\n",
    "ax[2,0].scatter(y = pollution['pm2.5'], x = pollution['windSpeed'])\n",
    "ax[2,0].set_xlabel('Wind Speed')\n",
    "ax[2,0].set_ylabel('PM2.5')\n",
    "ax[2,0].set_title('Wind Speed v/s PM 2.5 levels')\n",
    "\n",
    "ax[2,1].scatter(y = pollution['pm2.5'], x = pollution['cumSnow'])\n",
    "ax[2,1].set_xlabel('Hours of Cumulated Snow')\n",
    "ax[2,1].set_ylabel('PM2.5')\n",
    "ax[2,1].set_title('Hours of Cumulated Snow v/s PM 2.5 levels')\n",
    "\n",
    "ax[3,0].scatter(y = pollution['pm2.5'], x = pollution['cumRain'])\n",
    "ax[3,0].set_xlabel('Hours of Cumulated Rain')\n",
    "ax[3,0].set_ylabel('PM2.5')\n",
    "ax[3,0].set_title('Hours of Cumulated Rain v/s PM 2.5 levels')\n",
    "\n",
    "plt.show()"
   ]
  },
  {
   "cell_type": "markdown",
   "metadata": {},
   "source": [
    "Looking at the above dashboard, it is visible that there are a few outliers in the month, dew point, temperature, and air pressure variables. This is because there are a few points that have much higher pm2.5 levels for certain x-values. This shows that there are certain observations where there are exceptionally high levels of air pollution for a certain month in a year. Similarly, there are certain temperature, dew point temperature, and air pressure values for which there are exceptionally high air pollution levels. These high values of air pollution are probably influenced by external factors that were not controlled in this dataset. Hence, it is probably better to remove any outliers. However, let us see how many outliers there are in totality.\n",
    "\n",
    "The scatterplots of the wind speed, cumulated hours fo snow and rain are interesting because they follow a 'L' pattern because of which it is hard to distinguish if there are outliers. However, outliers in these variables will be able to be seen with the z-value calculations."
   ]
  },
  {
   "cell_type": "markdown",
   "metadata": {},
   "source": [
    "\n",
    "##### Boxplots\n"
   ]
  },
  {
   "cell_type": "markdown",
   "metadata": {},
   "source": [
    "#### Box plot with outliers"
   ]
  },
  {
   "cell_type": "code",
   "execution_count": 38,
   "metadata": {},
   "outputs": [
    {
     "data": {
      "image/png": "[encoded data removed]",
      "text/plain": [
       "<Figure size 720x1440 with 8 Axes>"
      ]
     },
     "metadata": {
      "needs_background": "light"
     },
     "output_type": "display_data"
    }
   ],
   "source": [
    "fig, ax = plt.subplots(4, 2, figsize = (10, 20))\n",
    "ax[0,0].boxplot(x=pollution['month'])\n",
    "ax[0,0].set_title('Month')\n",
    "\n",
    "ax[0,1].boxplot(x=pollution['pm2.5'])\n",
    "ax[0,1].set_title('PM2.5 Level')\n",
    "\n",
    "ax[1,0].boxplot(x=pollution['dewTemp'])\n",
    "ax[1,0].set_title('Dew Point Temperature')\n",
    "\n",
    "ax[1,1].boxplot(x=pollution['temp'])\n",
    "ax[1,1].set_title('Temperature')\n",
    "\n",
    "ax[2,0].boxplot(x=pollution['pres'])\n",
    "ax[2,0].set_title('Air Pressure') \n",
    "\n",
    "ax[2,1].boxplot(x=pollution['windSpeed'])\n",
    "ax[2,1].set_title('Wind Speed') \n",
    "\n",
    "ax[3,0].boxplot(x=pollution['cumSnow'])\n",
    "ax[3,0].set_title('Hours of Cumulative Snow') \n",
    "\n",
    "ax[3,1].boxplot(x=pollution['cumRain'])\n",
    "ax[3,1].set_title('Hours of Cumulative Rain') \n",
    "\n",
    "plt.show()"
   ]
  },
  {
   "cell_type": "markdown",
   "metadata": {},
   "source": [
    "The boxplot above are before the outliers were removed. \n",
    "\n",
    "There are four variables that does not seem to show outliers, these variables are month, dew point temperature, temperature and air pressure. Although they seem to not have outliers, they do have some skewness which might indicate some higher-than-normal values."
   ]
  },
  {
   "cell_type": "markdown",
   "metadata": {},
   "source": [
    "### Visualizations\n",
    "##### Scatterplot with outliers removed"
   ]
  },
  {
   "cell_type": "code",
   "execution_count": 39,
   "metadata": {},
   "outputs": [
    {
     "data": {
      "image/png": "[encoded data removed]",
      "text/plain": [
       "<Figure size 720x1440 with 8 Axes>"
      ]
     },
     "metadata": {
      "needs_background": "light"
     },
     "output_type": "display_data"
    }
   ],
   "source": [
    "fig, ax = plt.subplots(4, 2, figsize = (10, 20))\n",
    "#fig.tight_layout()\n",
    "\n",
    "ax[0,0].scatter(y = pollution2['pm2.5'], x = pollution2['month'])\n",
    "ax[0,0].set_xlabel('Month')\n",
    "ax[0,0].set_ylabel('PM2.5')\n",
    "ax[0,0].set_title('Month v/s PM 2.5 levels')\n",
    "\n",
    "ax[0, 1].scatter(y = pollution2['pm2.5'], x = pollution2['dewTemp'])\n",
    "ax[0, 1].set_xlabel('Dew Point Temperature')\n",
    "ax[0, 1].set_ylabel('PM2.5')\n",
    "ax[0, 1].set_title('Dew Point v/s PM 2.5 levels')\n",
    "\n",
    "ax[1,0].scatter(y = pollution2['pm2.5'], x = pollution2['temp'])\n",
    "ax[1,0].set_xlabel('Temperture')\n",
    "ax[1,0].set_ylabel('PM2.5')\n",
    "ax[1,0].set_title('Temperature v/s PM 2.5 levels')\n",
    "\n",
    "ax[1,1].scatter(y = pollution2['pm2.5'], x = pollution2['pres'])\n",
    "ax[1,1].set_xlabel('Air Pressure')\n",
    "ax[1,1].set_ylabel('PM2.5')\n",
    "ax[1,1].set_title('Air Pressure v/s PM 2.5 levels')\n",
    "\n",
    "ax[2,1].scatter(y = pollution2['pm2.5'], x = pollution2['windSpeed'])\n",
    "ax[2,1].set_xlabel('Wind Speed')\n",
    "ax[2,1].set_ylabel('PM2.5')\n",
    "ax[2,1].set_title('Wind Speed v/s PM 2.5 levels')\n",
    "\n",
    "ax[3,0].scatter(y = pollution2['pm2.5'], x = pollution2['cumSnow'])\n",
    "ax[3,0].set_xlabel('Hours of Cumulated Snow')\n",
    "ax[3,0].set_ylabel('PM2.5')\n",
    "ax[3,0].set_title('Hours of Cumulated Snow v/s PM 2.5 levels')\n",
    "\n",
    "ax[3,1].scatter(y = pollution2['pm2.5'], x = pollution2['cumRain'])\n",
    "ax[3,1].set_xlabel('Hours of Cumulated Rain')\n",
    "ax[3,1].set_ylabel('PM2.5')\n",
    "ax[3,1].set_title('Hours of Cumulated Rain v/s PM 2.5 levels')\n",
    "\n",
    "plt.show()"
   ]
  },
  {
   "cell_type": "markdown",
   "metadata": {},
   "source": [
    "The scatterplot above is visualizing the dataset after the outliers are removed. Due to the large dataset, the plot in the dataset seem to be cluster and does not appears to show linear correlation between variables\n",
    "\n",
    "The graph between Temperature v/s PM2.5 level and the Air Pressure v/s PM2.5 level appears to be very interesting as they seem to follow the same pattern. Both are clustered in the middle. While the Wind Speed v/s PM 2.5 Level appears to cluster more to the left and the Dew Point v/s PM2.5 Level are the opposite, it clusters more to the left\n"
   ]
  },
  {
   "cell_type": "markdown",
   "metadata": {},
   "source": [
    "#### Box plot with outliers removed"
   ]
  },
  {
   "cell_type": "code",
   "execution_count": 41,
   "metadata": {},
   "outputs": [
    {
     "data": {
      "image/png": "[encoded data removed]",
      "text/plain": [
       "<Figure size 720x1440 with 8 Axes>"
      ]
     },
     "metadata": {
      "needs_background": "light"
     },
     "output_type": "display_data"
    }
   ],
   "source": [
    "fig, ax = plt.subplots(4, 2, figsize = (10, 20))\n",
    "ax[0,0].boxplot(x=pollution2['month'])\n",
    "ax[0,0].set_title('Month')\n",
    "\n",
    "ax[0,1].boxplot(x=pollution2['pm2.5'])\n",
    "ax[0,1].set_title('PM2.5 Level')\n",
    "\n",
    "ax[1,0].boxplot(x=pollution2['dewTemp'])\n",
    "ax[1,0].set_title('Dew Point Temperature')\n",
    "\n",
    "ax[1,1].boxplot(x=pollution2['temp'])\n",
    "ax[1,1].set_title('Temperature')\n",
    "\n",
    "ax[2,0].boxplot(x=pollution2['pres'])\n",
    "ax[2,0].set_title('Air Pressure') \n",
    "\n",
    "ax[2,1].boxplot(x=pollution2['windSpeed'])\n",
    "ax[2,1].set_title('Wind Speed') \n",
    "\n",
    "ax[3,0].boxplot(x=pollution2['cumSnow'])\n",
    "ax[3,0].set_title('Hours of Cummulative Snow') \n",
    "\n",
    "ax[3,1].boxplot(x=pollution2['cumRain'])\n",
    "ax[3,1].set_title('Hours of Cummulative Rain') \n",
    "\n",
    "plt.show()"
   ]
  },
  {
   "cell_type": "markdown",
   "metadata": {},
   "source": [
    "The boxplot above are after the ouliers removed. Similar to the previous boxplot with outlier the variables month, dew point temperature, temperature and air pressure still does not show any outliers. \n",
    "\n",
    "There are some variables that shows some adjustments or changes without the outliers. Both Hours of Cummulative Snow and Hours of Cummulative rain seems to show less points. These changes are also seen in PM2.5 level and Wind Speed"
   ]
  },
  {
   "cell_type": "markdown",
   "metadata": {},
   "source": [
    "---"
   ]
  },
  {
   "cell_type": "markdown",
   "metadata": {},
   "source": [
    "## Scaling Numerical Features"
   ]
  },
  {
   "cell_type": "markdown",
   "metadata": {},
   "source": [
    "##### Dataset with Outliers"
   ]
  },
  {
   "cell_type": "code",
   "execution_count": 42,
   "metadata": {},
   "outputs": [
    {
     "data": {
      "text/plain": [
       "Index(['month', 'dewTemp', 'temp', 'pres', 'windSpeed', 'cumSnow', 'cumRain',\n",
       "       'x0_NE', 'x0_NW', 'x0_SE', 'x0_SW', 'pm2.5'],\n",
       "      dtype='object')"
      ]
     },
     "execution_count": 42,
     "metadata": {},
     "output_type": "execute_result"
    }
   ],
   "source": [
    "pollutionDF.columns"
   ]
  },
  {
   "cell_type": "code",
   "execution_count": 43,
   "metadata": {},
   "outputs": [
    {
     "data": {
      "text/html": [
       "<div>\n",
       "<style scoped>\n",
       "    .dataframe tbody tr th:only-of-type {\n",
       "        vertical-align: middle;\n",
       "    }\n",
       "\n",
       "    .dataframe tbody tr th {\n",
       "        vertical-align: top;\n",
       "    }\n",
       "\n",
       "    .dataframe thead th {\n",
       "        text-align: right;\n",
       "    }\n",
       "</style>\n",
       "<table border=\"1\" class=\"dataframe\">\n",
       "  <thead>\n",
       "    <tr style=\"text-align: right;\">\n",
       "      <th></th>\n",
       "      <th>month</th>\n",
       "      <th>dewTemp</th>\n",
       "      <th>temp</th>\n",
       "      <th>pres</th>\n",
       "      <th>windSpeed</th>\n",
       "      <th>cumSnow</th>\n",
       "      <th>cumRain</th>\n",
       "      <th>x0_NE</th>\n",
       "      <th>x0_NW</th>\n",
       "      <th>x0_SE</th>\n",
       "      <th>x0_SW</th>\n",
       "      <th>pm2.5</th>\n",
       "    </tr>\n",
       "  </thead>\n",
       "  <tbody>\n",
       "    <tr>\n",
       "      <th>0</th>\n",
       "      <td>-1.596267</td>\n",
       "      <td>-1.229791</td>\n",
       "      <td>-1.347143</td>\n",
       "      <td>0.345329</td>\n",
       "      <td>-0.444944</td>\n",
       "      <td>-0.071057</td>\n",
       "      <td>-0.137408</td>\n",
       "      <td>0.0</td>\n",
       "      <td>0.0</td>\n",
       "      <td>1.0</td>\n",
       "      <td>0.0</td>\n",
       "      <td>129.0</td>\n",
       "    </tr>\n",
       "    <tr>\n",
       "      <th>1</th>\n",
       "      <td>-1.596267</td>\n",
       "      <td>-1.160508</td>\n",
       "      <td>-1.347143</td>\n",
       "      <td>0.345329</td>\n",
       "      <td>-0.427007</td>\n",
       "      <td>-0.071057</td>\n",
       "      <td>-0.137408</td>\n",
       "      <td>0.0</td>\n",
       "      <td>0.0</td>\n",
       "      <td>1.0</td>\n",
       "      <td>0.0</td>\n",
       "      <td>148.0</td>\n",
       "    </tr>\n",
       "    <tr>\n",
       "      <th>2</th>\n",
       "      <td>-1.596267</td>\n",
       "      <td>-0.883375</td>\n",
       "      <td>-1.429278</td>\n",
       "      <td>0.442411</td>\n",
       "      <td>-0.409069</td>\n",
       "      <td>-0.071057</td>\n",
       "      <td>-0.137408</td>\n",
       "      <td>0.0</td>\n",
       "      <td>0.0</td>\n",
       "      <td>1.0</td>\n",
       "      <td>0.0</td>\n",
       "      <td>159.0</td>\n",
       "    </tr>\n",
       "    <tr>\n",
       "      <th>3</th>\n",
       "      <td>-1.596267</td>\n",
       "      <td>-0.606241</td>\n",
       "      <td>-1.429278</td>\n",
       "      <td>0.539493</td>\n",
       "      <td>-0.372993</td>\n",
       "      <td>1.212862</td>\n",
       "      <td>-0.137408</td>\n",
       "      <td>0.0</td>\n",
       "      <td>0.0</td>\n",
       "      <td>1.0</td>\n",
       "      <td>0.0</td>\n",
       "      <td>181.0</td>\n",
       "    </tr>\n",
       "    <tr>\n",
       "      <th>4</th>\n",
       "      <td>-1.596267</td>\n",
       "      <td>-0.606241</td>\n",
       "      <td>-1.429278</td>\n",
       "      <td>0.539493</td>\n",
       "      <td>-0.355055</td>\n",
       "      <td>2.496781</td>\n",
       "      <td>-0.137408</td>\n",
       "      <td>0.0</td>\n",
       "      <td>0.0</td>\n",
       "      <td>1.0</td>\n",
       "      <td>0.0</td>\n",
       "      <td>138.0</td>\n",
       "    </tr>\n",
       "  </tbody>\n",
       "</table>\n",
       "</div>"
      ],
      "text/plain": [
       "      month   dewTemp      temp      pres  windSpeed   cumSnow   cumRain  \\\n",
       "0 -1.596267 -1.229791 -1.347143  0.345329  -0.444944 -0.071057 -0.137408   \n",
       "1 -1.596267 -1.160508 -1.347143  0.345329  -0.427007 -0.071057 -0.137408   \n",
       "2 -1.596267 -0.883375 -1.429278  0.442411  -0.409069 -0.071057 -0.137408   \n",
       "3 -1.596267 -0.606241 -1.429278  0.539493  -0.372993  1.212862 -0.137408   \n",
       "4 -1.596267 -0.606241 -1.429278  0.539493  -0.355055  2.496781 -0.137408   \n",
       "\n",
       "   x0_NE  x0_NW  x0_SE  x0_SW  pm2.5  \n",
       "0    0.0    0.0    1.0    0.0  129.0  \n",
       "1    0.0    0.0    1.0    0.0  148.0  \n",
       "2    0.0    0.0    1.0    0.0  159.0  \n",
       "3    0.0    0.0    1.0    0.0  181.0  \n",
       "4    0.0    0.0    1.0    0.0  138.0  "
      ]
     },
     "execution_count": 43,
     "metadata": {},
     "output_type": "execute_result"
    }
   ],
   "source": [
    "from sklearn.preprocessing import StandardScaler\n",
    "\n",
    "cols = ['month', 'dewTemp', 'temp', 'pres', 'windSpeed', 'cumSnow', 'cumRain']\n",
    "scaler = StandardScaler()\n",
    "pollutionDF[cols] = scaler.fit_transform(pollutionDF[cols])\n",
    "pollutionDF.head()"
   ]
  },
  {
   "cell_type": "markdown",
   "metadata": {},
   "source": [
    "---"
   ]
  },
  {
   "cell_type": "markdown",
   "metadata": {},
   "source": [
    "##### Dataset without outliers"
   ]
  },
  {
   "cell_type": "code",
   "execution_count": 44,
   "metadata": {},
   "outputs": [
    {
     "data": {
      "text/plain": [
       "Index(['month', 'dewTemp', 'temp', 'pres', 'windSpeed', 'cumSnow', 'cumRain',\n",
       "       'x0_NE', 'x0_NW', 'x0_SE', 'x0_SW', 'pm2.5'],\n",
       "      dtype='object')"
      ]
     },
     "execution_count": 44,
     "metadata": {},
     "output_type": "execute_result"
    }
   ],
   "source": [
    "pollution2DF.columns"
   ]
  },
  {
   "cell_type": "code",
   "execution_count": 45,
   "metadata": {},
   "outputs": [
    {
     "data": {
      "text/html": [
       "<div>\n",
       "<style scoped>\n",
       "    .dataframe tbody tr th:only-of-type {\n",
       "        vertical-align: middle;\n",
       "    }\n",
       "\n",
       "    .dataframe tbody tr th {\n",
       "        vertical-align: top;\n",
       "    }\n",
       "\n",
       "    .dataframe thead th {\n",
       "        text-align: right;\n",
       "    }\n",
       "</style>\n",
       "<table border=\"1\" class=\"dataframe\">\n",
       "  <thead>\n",
       "    <tr style=\"text-align: right;\">\n",
       "      <th></th>\n",
       "      <th>month</th>\n",
       "      <th>dewTemp</th>\n",
       "      <th>temp</th>\n",
       "      <th>pres</th>\n",
       "      <th>windSpeed</th>\n",
       "      <th>cumSnow</th>\n",
       "      <th>cumRain</th>\n",
       "      <th>x0_NE</th>\n",
       "      <th>x0_NW</th>\n",
       "      <th>x0_SE</th>\n",
       "      <th>x0_SW</th>\n",
       "      <th>pm2.5</th>\n",
       "    </tr>\n",
       "  </thead>\n",
       "  <tbody>\n",
       "    <tr>\n",
       "      <th>0</th>\n",
       "      <td>-1.62403</td>\n",
       "      <td>-1.276489</td>\n",
       "      <td>-1.390179</td>\n",
       "      <td>0.380205</td>\n",
       "      <td>-0.554550</td>\n",
       "      <td>-0.070731</td>\n",
       "      <td>-0.141238</td>\n",
       "      <td>0.0</td>\n",
       "      <td>0.0</td>\n",
       "      <td>1.0</td>\n",
       "      <td>0.0</td>\n",
       "      <td>129.0</td>\n",
       "    </tr>\n",
       "    <tr>\n",
       "      <th>1</th>\n",
       "      <td>-1.62403</td>\n",
       "      <td>-1.206701</td>\n",
       "      <td>-1.390179</td>\n",
       "      <td>0.380205</td>\n",
       "      <td>-0.523464</td>\n",
       "      <td>-0.070731</td>\n",
       "      <td>-0.141238</td>\n",
       "      <td>0.0</td>\n",
       "      <td>0.0</td>\n",
       "      <td>1.0</td>\n",
       "      <td>0.0</td>\n",
       "      <td>148.0</td>\n",
       "    </tr>\n",
       "    <tr>\n",
       "      <th>2</th>\n",
       "      <td>-1.62403</td>\n",
       "      <td>-0.927548</td>\n",
       "      <td>-1.472689</td>\n",
       "      <td>0.477831</td>\n",
       "      <td>-0.492378</td>\n",
       "      <td>-0.070731</td>\n",
       "      <td>-0.141238</td>\n",
       "      <td>0.0</td>\n",
       "      <td>0.0</td>\n",
       "      <td>1.0</td>\n",
       "      <td>0.0</td>\n",
       "      <td>159.0</td>\n",
       "    </tr>\n",
       "    <tr>\n",
       "      <th>3</th>\n",
       "      <td>-1.62403</td>\n",
       "      <td>-0.648396</td>\n",
       "      <td>-1.472689</td>\n",
       "      <td>0.575458</td>\n",
       "      <td>-0.429857</td>\n",
       "      <td>1.198139</td>\n",
       "      <td>-0.141238</td>\n",
       "      <td>0.0</td>\n",
       "      <td>0.0</td>\n",
       "      <td>1.0</td>\n",
       "      <td>0.0</td>\n",
       "      <td>181.0</td>\n",
       "    </tr>\n",
       "    <tr>\n",
       "      <th>4</th>\n",
       "      <td>-1.62403</td>\n",
       "      <td>-0.648396</td>\n",
       "      <td>-1.472689</td>\n",
       "      <td>0.575458</td>\n",
       "      <td>-0.398771</td>\n",
       "      <td>2.467009</td>\n",
       "      <td>-0.141238</td>\n",
       "      <td>0.0</td>\n",
       "      <td>0.0</td>\n",
       "      <td>1.0</td>\n",
       "      <td>0.0</td>\n",
       "      <td>138.0</td>\n",
       "    </tr>\n",
       "  </tbody>\n",
       "</table>\n",
       "</div>"
      ],
      "text/plain": [
       "     month   dewTemp      temp      pres  windSpeed   cumSnow   cumRain  \\\n",
       "0 -1.62403 -1.276489 -1.390179  0.380205  -0.554550 -0.070731 -0.141238   \n",
       "1 -1.62403 -1.206701 -1.390179  0.380205  -0.523464 -0.070731 -0.141238   \n",
       "2 -1.62403 -0.927548 -1.472689  0.477831  -0.492378 -0.070731 -0.141238   \n",
       "3 -1.62403 -0.648396 -1.472689  0.575458  -0.429857  1.198139 -0.141238   \n",
       "4 -1.62403 -0.648396 -1.472689  0.575458  -0.398771  2.467009 -0.141238   \n",
       "\n",
       "   x0_NE  x0_NW  x0_SE  x0_SW  pm2.5  \n",
       "0    0.0    0.0    1.0    0.0  129.0  \n",
       "1    0.0    0.0    1.0    0.0  148.0  \n",
       "2    0.0    0.0    1.0    0.0  159.0  \n",
       "3    0.0    0.0    1.0    0.0  181.0  \n",
       "4    0.0    0.0    1.0    0.0  138.0  "
      ]
     },
     "execution_count": 45,
     "metadata": {},
     "output_type": "execute_result"
    }
   ],
   "source": [
    "cols = ['month', 'dewTemp', 'temp', 'pres', 'windSpeed', 'cumSnow', 'cumRain']\n",
    "scaler = StandardScaler()\n",
    "pollution2DF[cols] = scaler.fit_transform(pollution2DF[cols])\n",
    "pollution2DF.head()"
   ]
  },
  {
   "cell_type": "markdown",
   "metadata": {},
   "source": [
    "We standardized the dataset with and without outliers. This is because we wanted to bring all the numerical values to the same scale. We standardized it instead of normalize the datasets because it would let us know how many standard deviations the observations are from the mean. \n",
    "\n",
    "We chose not to standardize the dependent variable for ease of interpretation."
   ]
  },
  {
   "cell_type": "markdown",
   "metadata": {},
   "source": [
    "---"
   ]
  },
  {
   "cell_type": "markdown",
   "metadata": {},
   "source": [
    "We have completed the process of cleaning our data and preparing it for the regression analysis and visualizations (storytelling)."
   ]
  },
  {
   "cell_type": "code",
   "execution_count": 46,
   "metadata": {},
   "outputs": [],
   "source": [
    "pollutionDF.to_excel('pollution_outliers.xlsx')\n",
    "pollution2DF.to_excel('pollution_NoOutliers.xlsx')"
   ]
  },
  {
   "cell_type": "markdown",
   "metadata": {},
   "source": [
    "---"
   ]
  },
  {
   "cell_type": "markdown",
   "metadata": {},
   "source": [
    "### Let us now move on to Data Analysis"
   ]
  }
 ],
 "metadata": {
  "kernelspec": {
   "display_name": "Python 3",
   "language": "python",
   "name": "python3"
  },
  "language_info": {
   "codemirror_mode": {
    "name": "ipython",
    "version": 3
   },
   "file_extension": ".py",
   "mimetype": "text/x-python",
   "name": "python",
   "nbconvert_exporter": "python",
   "pygments_lexer": "ipython3",
   "version": "3.8.5"
  }
 },
 "nbformat": 4,
 "nbformat_minor": 4
}
