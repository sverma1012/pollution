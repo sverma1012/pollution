{
 "cells": [
  {
   "cell_type": "code",
   "execution_count": 1,
   "metadata": {},
   "outputs": [],
   "source": [
    "import pandas as pd\n",
    "import numpy as np\n",
    "import matplotlib as mpl\n",
    "import matplotlib.pyplot as plt\n",
    "import seaborn as sns\n",
    "import sklearn"
   ]
  },
  {
   "cell_type": "markdown",
   "metadata": {},
   "source": [
    "The datas used in this notebook were created by the previous notebook (Part2_Data_Cleaning)."
   ]
  },
  {
   "cell_type": "markdown",
   "metadata": {},
   "source": [
    "## Import the Cleaned Dataset"
   ]
  },
  {
   "cell_type": "code",
   "execution_count": 2,
   "metadata": {},
   "outputs": [],
   "source": [
    "pollution_o = pd.read_excel('pollution_outliers.xlsx')\n",
    "pollution_No = pd.read_excel('pollution_NoOutliers.xlsx')"
   ]
  },
  {
   "cell_type": "code",
   "execution_count": 3,
   "metadata": {},
   "outputs": [
    {
     "data": {
      "text/html": [
       "<div>\n",
       "<style scoped>\n",
       "    .dataframe tbody tr th:only-of-type {\n",
       "        vertical-align: middle;\n",
       "    }\n",
       "\n",
       "    .dataframe tbody tr th {\n",
       "        vertical-align: top;\n",
       "    }\n",
       "\n",
       "    .dataframe thead th {\n",
       "        text-align: right;\n",
       "    }\n",
       "</style>\n",
       "<table border=\"1\" class=\"dataframe\">\n",
       "  <thead>\n",
       "    <tr style=\"text-align: right;\">\n",
       "      <th></th>\n",
       "      <th>Unnamed: 0</th>\n",
       "      <th>month</th>\n",
       "      <th>dewTemp</th>\n",
       "      <th>temp</th>\n",
       "      <th>pres</th>\n",
       "      <th>windSpeed</th>\n",
       "      <th>cumSnow</th>\n",
       "      <th>cumRain</th>\n",
       "      <th>x0_NE</th>\n",
       "      <th>x0_NW</th>\n",
       "      <th>x0_SE</th>\n",
       "      <th>x0_SW</th>\n",
       "      <th>pm2.5</th>\n",
       "    </tr>\n",
       "  </thead>\n",
       "  <tbody>\n",
       "    <tr>\n",
       "      <th>0</th>\n",
       "      <td>0</td>\n",
       "      <td>-1.596267</td>\n",
       "      <td>-1.229791</td>\n",
       "      <td>-1.347143</td>\n",
       "      <td>0.345329</td>\n",
       "      <td>-0.444944</td>\n",
       "      <td>-0.071057</td>\n",
       "      <td>-0.137408</td>\n",
       "      <td>0</td>\n",
       "      <td>0</td>\n",
       "      <td>1</td>\n",
       "      <td>0</td>\n",
       "      <td>129</td>\n",
       "    </tr>\n",
       "    <tr>\n",
       "      <th>1</th>\n",
       "      <td>1</td>\n",
       "      <td>-1.596267</td>\n",
       "      <td>-1.160508</td>\n",
       "      <td>-1.347143</td>\n",
       "      <td>0.345329</td>\n",
       "      <td>-0.427007</td>\n",
       "      <td>-0.071057</td>\n",
       "      <td>-0.137408</td>\n",
       "      <td>0</td>\n",
       "      <td>0</td>\n",
       "      <td>1</td>\n",
       "      <td>0</td>\n",
       "      <td>148</td>\n",
       "    </tr>\n",
       "    <tr>\n",
       "      <th>2</th>\n",
       "      <td>2</td>\n",
       "      <td>-1.596267</td>\n",
       "      <td>-0.883375</td>\n",
       "      <td>-1.429278</td>\n",
       "      <td>0.442411</td>\n",
       "      <td>-0.409069</td>\n",
       "      <td>-0.071057</td>\n",
       "      <td>-0.137408</td>\n",
       "      <td>0</td>\n",
       "      <td>0</td>\n",
       "      <td>1</td>\n",
       "      <td>0</td>\n",
       "      <td>159</td>\n",
       "    </tr>\n",
       "    <tr>\n",
       "      <th>3</th>\n",
       "      <td>3</td>\n",
       "      <td>-1.596267</td>\n",
       "      <td>-0.606241</td>\n",
       "      <td>-1.429278</td>\n",
       "      <td>0.539493</td>\n",
       "      <td>-0.372993</td>\n",
       "      <td>1.212862</td>\n",
       "      <td>-0.137408</td>\n",
       "      <td>0</td>\n",
       "      <td>0</td>\n",
       "      <td>1</td>\n",
       "      <td>0</td>\n",
       "      <td>181</td>\n",
       "    </tr>\n",
       "    <tr>\n",
       "      <th>4</th>\n",
       "      <td>4</td>\n",
       "      <td>-1.596267</td>\n",
       "      <td>-0.606241</td>\n",
       "      <td>-1.429278</td>\n",
       "      <td>0.539493</td>\n",
       "      <td>-0.355055</td>\n",
       "      <td>2.496781</td>\n",
       "      <td>-0.137408</td>\n",
       "      <td>0</td>\n",
       "      <td>0</td>\n",
       "      <td>1</td>\n",
       "      <td>0</td>\n",
       "      <td>138</td>\n",
       "    </tr>\n",
       "  </tbody>\n",
       "</table>\n",
       "</div>"
      ],
      "text/plain": [
       "   Unnamed: 0     month   dewTemp      temp      pres  windSpeed   cumSnow  \\\n",
       "0           0 -1.596267 -1.229791 -1.347143  0.345329  -0.444944 -0.071057   \n",
       "1           1 -1.596267 -1.160508 -1.347143  0.345329  -0.427007 -0.071057   \n",
       "2           2 -1.596267 -0.883375 -1.429278  0.442411  -0.409069 -0.071057   \n",
       "3           3 -1.596267 -0.606241 -1.429278  0.539493  -0.372993  1.212862   \n",
       "4           4 -1.596267 -0.606241 -1.429278  0.539493  -0.355055  2.496781   \n",
       "\n",
       "    cumRain  x0_NE  x0_NW  x0_SE  x0_SW  pm2.5  \n",
       "0 -0.137408      0      0      1      0    129  \n",
       "1 -0.137408      0      0      1      0    148  \n",
       "2 -0.137408      0      0      1      0    159  \n",
       "3 -0.137408      0      0      1      0    181  \n",
       "4 -0.137408      0      0      1      0    138  "
      ]
     },
     "execution_count": 3,
     "metadata": {},
     "output_type": "execute_result"
    }
   ],
   "source": [
    "pollution_o.head()"
   ]
  },
  {
   "cell_type": "code",
   "execution_count": 4,
   "metadata": {},
   "outputs": [
    {
     "data": {
      "text/html": [
       "<div>\n",
       "<style scoped>\n",
       "    .dataframe tbody tr th:only-of-type {\n",
       "        vertical-align: middle;\n",
       "    }\n",
       "\n",
       "    .dataframe tbody tr th {\n",
       "        vertical-align: top;\n",
       "    }\n",
       "\n",
       "    .dataframe thead th {\n",
       "        text-align: right;\n",
       "    }\n",
       "</style>\n",
       "<table border=\"1\" class=\"dataframe\">\n",
       "  <thead>\n",
       "    <tr style=\"text-align: right;\">\n",
       "      <th></th>\n",
       "      <th>Unnamed: 0</th>\n",
       "      <th>month</th>\n",
       "      <th>dewTemp</th>\n",
       "      <th>temp</th>\n",
       "      <th>pres</th>\n",
       "      <th>windSpeed</th>\n",
       "      <th>cumSnow</th>\n",
       "      <th>cumRain</th>\n",
       "      <th>x0_NE</th>\n",
       "      <th>x0_NW</th>\n",
       "      <th>x0_SE</th>\n",
       "      <th>x0_SW</th>\n",
       "      <th>pm2.5</th>\n",
       "    </tr>\n",
       "  </thead>\n",
       "  <tbody>\n",
       "    <tr>\n",
       "      <th>0</th>\n",
       "      <td>0</td>\n",
       "      <td>-1.623543</td>\n",
       "      <td>-1.263633</td>\n",
       "      <td>-1.391146</td>\n",
       "      <td>0.379425</td>\n",
       "      <td>-0.552238</td>\n",
       "      <td>-0.049256</td>\n",
       "      <td>-0.153362</td>\n",
       "      <td>0</td>\n",
       "      <td>0</td>\n",
       "      <td>1</td>\n",
       "      <td>0</td>\n",
       "      <td>129</td>\n",
       "    </tr>\n",
       "    <tr>\n",
       "      <th>1</th>\n",
       "      <td>1</td>\n",
       "      <td>-1.623543</td>\n",
       "      <td>-1.194004</td>\n",
       "      <td>-1.391146</td>\n",
       "      <td>0.379425</td>\n",
       "      <td>-0.521094</td>\n",
       "      <td>-0.049256</td>\n",
       "      <td>-0.153362</td>\n",
       "      <td>0</td>\n",
       "      <td>0</td>\n",
       "      <td>1</td>\n",
       "      <td>0</td>\n",
       "      <td>148</td>\n",
       "    </tr>\n",
       "    <tr>\n",
       "      <th>2</th>\n",
       "      <td>2</td>\n",
       "      <td>-1.623543</td>\n",
       "      <td>-0.915487</td>\n",
       "      <td>-1.473478</td>\n",
       "      <td>0.477000</td>\n",
       "      <td>-0.489950</td>\n",
       "      <td>-0.049256</td>\n",
       "      <td>-0.153362</td>\n",
       "      <td>0</td>\n",
       "      <td>0</td>\n",
       "      <td>1</td>\n",
       "      <td>0</td>\n",
       "      <td>159</td>\n",
       "    </tr>\n",
       "    <tr>\n",
       "      <th>3</th>\n",
       "      <td>3</td>\n",
       "      <td>-1.623543</td>\n",
       "      <td>-0.636970</td>\n",
       "      <td>-1.473478</td>\n",
       "      <td>0.574575</td>\n",
       "      <td>-0.427313</td>\n",
       "      <td>12.777280</td>\n",
       "      <td>-0.153362</td>\n",
       "      <td>0</td>\n",
       "      <td>0</td>\n",
       "      <td>1</td>\n",
       "      <td>0</td>\n",
       "      <td>181</td>\n",
       "    </tr>\n",
       "    <tr>\n",
       "      <th>4</th>\n",
       "      <td>4</td>\n",
       "      <td>-1.623543</td>\n",
       "      <td>-0.636970</td>\n",
       "      <td>-1.473478</td>\n",
       "      <td>0.574575</td>\n",
       "      <td>-0.396169</td>\n",
       "      <td>25.603817</td>\n",
       "      <td>-0.153362</td>\n",
       "      <td>0</td>\n",
       "      <td>0</td>\n",
       "      <td>1</td>\n",
       "      <td>0</td>\n",
       "      <td>138</td>\n",
       "    </tr>\n",
       "  </tbody>\n",
       "</table>\n",
       "</div>"
      ],
      "text/plain": [
       "   Unnamed: 0     month   dewTemp      temp      pres  windSpeed    cumSnow  \\\n",
       "0           0 -1.623543 -1.263633 -1.391146  0.379425  -0.552238  -0.049256   \n",
       "1           1 -1.623543 -1.194004 -1.391146  0.379425  -0.521094  -0.049256   \n",
       "2           2 -1.623543 -0.915487 -1.473478  0.477000  -0.489950  -0.049256   \n",
       "3           3 -1.623543 -0.636970 -1.473478  0.574575  -0.427313  12.777280   \n",
       "4           4 -1.623543 -0.636970 -1.473478  0.574575  -0.396169  25.603817   \n",
       "\n",
       "    cumRain  x0_NE  x0_NW  x0_SE  x0_SW  pm2.5  \n",
       "0 -0.153362      0      0      1      0    129  \n",
       "1 -0.153362      0      0      1      0    148  \n",
       "2 -0.153362      0      0      1      0    159  \n",
       "3 -0.153362      0      0      1      0    181  \n",
       "4 -0.153362      0      0      1      0    138  "
      ]
     },
     "execution_count": 4,
     "metadata": {},
     "output_type": "execute_result"
    }
   ],
   "source": [
    "pollution_No.head()"
   ]
  },
  {
   "cell_type": "markdown",
   "metadata": {},
   "source": [
    "Looking at both these tables, we can see that both the datasets have a column that reiterate the index. We will remove these columns."
   ]
  },
  {
   "cell_type": "code",
   "execution_count": 5,
   "metadata": {},
   "outputs": [],
   "source": [
    "pollution_o.drop(columns = ['Unnamed: 0'], inplace = True)\n",
    "pollution_No.drop(columns = ['Unnamed: 0'], inplace = True)"
   ]
  },
  {
   "cell_type": "code",
   "execution_count": 6,
   "metadata": {},
   "outputs": [
    {
     "data": {
      "text/html": [
       "<div>\n",
       "<style scoped>\n",
       "    .dataframe tbody tr th:only-of-type {\n",
       "        vertical-align: middle;\n",
       "    }\n",
       "\n",
       "    .dataframe tbody tr th {\n",
       "        vertical-align: top;\n",
       "    }\n",
       "\n",
       "    .dataframe thead th {\n",
       "        text-align: right;\n",
       "    }\n",
       "</style>\n",
       "<table border=\"1\" class=\"dataframe\">\n",
       "  <thead>\n",
       "    <tr style=\"text-align: right;\">\n",
       "      <th></th>\n",
       "      <th>month</th>\n",
       "      <th>dewTemp</th>\n",
       "      <th>temp</th>\n",
       "      <th>pres</th>\n",
       "      <th>windSpeed</th>\n",
       "      <th>cumSnow</th>\n",
       "      <th>cumRain</th>\n",
       "      <th>x0_NE</th>\n",
       "      <th>x0_NW</th>\n",
       "      <th>x0_SE</th>\n",
       "      <th>x0_SW</th>\n",
       "      <th>pm2.5</th>\n",
       "    </tr>\n",
       "  </thead>\n",
       "  <tbody>\n",
       "    <tr>\n",
       "      <th>0</th>\n",
       "      <td>-1.596267</td>\n",
       "      <td>-1.229791</td>\n",
       "      <td>-1.347143</td>\n",
       "      <td>0.345329</td>\n",
       "      <td>-0.444944</td>\n",
       "      <td>-0.071057</td>\n",
       "      <td>-0.137408</td>\n",
       "      <td>0</td>\n",
       "      <td>0</td>\n",
       "      <td>1</td>\n",
       "      <td>0</td>\n",
       "      <td>129</td>\n",
       "    </tr>\n",
       "    <tr>\n",
       "      <th>1</th>\n",
       "      <td>-1.596267</td>\n",
       "      <td>-1.160508</td>\n",
       "      <td>-1.347143</td>\n",
       "      <td>0.345329</td>\n",
       "      <td>-0.427007</td>\n",
       "      <td>-0.071057</td>\n",
       "      <td>-0.137408</td>\n",
       "      <td>0</td>\n",
       "      <td>0</td>\n",
       "      <td>1</td>\n",
       "      <td>0</td>\n",
       "      <td>148</td>\n",
       "    </tr>\n",
       "    <tr>\n",
       "      <th>2</th>\n",
       "      <td>-1.596267</td>\n",
       "      <td>-0.883375</td>\n",
       "      <td>-1.429278</td>\n",
       "      <td>0.442411</td>\n",
       "      <td>-0.409069</td>\n",
       "      <td>-0.071057</td>\n",
       "      <td>-0.137408</td>\n",
       "      <td>0</td>\n",
       "      <td>0</td>\n",
       "      <td>1</td>\n",
       "      <td>0</td>\n",
       "      <td>159</td>\n",
       "    </tr>\n",
       "    <tr>\n",
       "      <th>3</th>\n",
       "      <td>-1.596267</td>\n",
       "      <td>-0.606241</td>\n",
       "      <td>-1.429278</td>\n",
       "      <td>0.539493</td>\n",
       "      <td>-0.372993</td>\n",
       "      <td>1.212862</td>\n",
       "      <td>-0.137408</td>\n",
       "      <td>0</td>\n",
       "      <td>0</td>\n",
       "      <td>1</td>\n",
       "      <td>0</td>\n",
       "      <td>181</td>\n",
       "    </tr>\n",
       "    <tr>\n",
       "      <th>4</th>\n",
       "      <td>-1.596267</td>\n",
       "      <td>-0.606241</td>\n",
       "      <td>-1.429278</td>\n",
       "      <td>0.539493</td>\n",
       "      <td>-0.355055</td>\n",
       "      <td>2.496781</td>\n",
       "      <td>-0.137408</td>\n",
       "      <td>0</td>\n",
       "      <td>0</td>\n",
       "      <td>1</td>\n",
       "      <td>0</td>\n",
       "      <td>138</td>\n",
       "    </tr>\n",
       "  </tbody>\n",
       "</table>\n",
       "</div>"
      ],
      "text/plain": [
       "      month   dewTemp      temp      pres  windSpeed   cumSnow   cumRain  \\\n",
       "0 -1.596267 -1.229791 -1.347143  0.345329  -0.444944 -0.071057 -0.137408   \n",
       "1 -1.596267 -1.160508 -1.347143  0.345329  -0.427007 -0.071057 -0.137408   \n",
       "2 -1.596267 -0.883375 -1.429278  0.442411  -0.409069 -0.071057 -0.137408   \n",
       "3 -1.596267 -0.606241 -1.429278  0.539493  -0.372993  1.212862 -0.137408   \n",
       "4 -1.596267 -0.606241 -1.429278  0.539493  -0.355055  2.496781 -0.137408   \n",
       "\n",
       "   x0_NE  x0_NW  x0_SE  x0_SW  pm2.5  \n",
       "0      0      0      1      0    129  \n",
       "1      0      0      1      0    148  \n",
       "2      0      0      1      0    159  \n",
       "3      0      0      1      0    181  \n",
       "4      0      0      1      0    138  "
      ]
     },
     "execution_count": 6,
     "metadata": {},
     "output_type": "execute_result"
    }
   ],
   "source": [
    "pollution_o.head()"
   ]
  },
  {
   "cell_type": "code",
   "execution_count": 7,
   "metadata": {},
   "outputs": [
    {
     "data": {
      "text/html": [
       "<div>\n",
       "<style scoped>\n",
       "    .dataframe tbody tr th:only-of-type {\n",
       "        vertical-align: middle;\n",
       "    }\n",
       "\n",
       "    .dataframe tbody tr th {\n",
       "        vertical-align: top;\n",
       "    }\n",
       "\n",
       "    .dataframe thead th {\n",
       "        text-align: right;\n",
       "    }\n",
       "</style>\n",
       "<table border=\"1\" class=\"dataframe\">\n",
       "  <thead>\n",
       "    <tr style=\"text-align: right;\">\n",
       "      <th></th>\n",
       "      <th>month</th>\n",
       "      <th>dewTemp</th>\n",
       "      <th>temp</th>\n",
       "      <th>pres</th>\n",
       "      <th>windSpeed</th>\n",
       "      <th>cumSnow</th>\n",
       "      <th>cumRain</th>\n",
       "      <th>x0_NE</th>\n",
       "      <th>x0_NW</th>\n",
       "      <th>x0_SE</th>\n",
       "      <th>x0_SW</th>\n",
       "      <th>pm2.5</th>\n",
       "    </tr>\n",
       "  </thead>\n",
       "  <tbody>\n",
       "    <tr>\n",
       "      <th>0</th>\n",
       "      <td>-1.623543</td>\n",
       "      <td>-1.263633</td>\n",
       "      <td>-1.391146</td>\n",
       "      <td>0.379425</td>\n",
       "      <td>-0.552238</td>\n",
       "      <td>-0.049256</td>\n",
       "      <td>-0.153362</td>\n",
       "      <td>0</td>\n",
       "      <td>0</td>\n",
       "      <td>1</td>\n",
       "      <td>0</td>\n",
       "      <td>129</td>\n",
       "    </tr>\n",
       "    <tr>\n",
       "      <th>1</th>\n",
       "      <td>-1.623543</td>\n",
       "      <td>-1.194004</td>\n",
       "      <td>-1.391146</td>\n",
       "      <td>0.379425</td>\n",
       "      <td>-0.521094</td>\n",
       "      <td>-0.049256</td>\n",
       "      <td>-0.153362</td>\n",
       "      <td>0</td>\n",
       "      <td>0</td>\n",
       "      <td>1</td>\n",
       "      <td>0</td>\n",
       "      <td>148</td>\n",
       "    </tr>\n",
       "    <tr>\n",
       "      <th>2</th>\n",
       "      <td>-1.623543</td>\n",
       "      <td>-0.915487</td>\n",
       "      <td>-1.473478</td>\n",
       "      <td>0.477000</td>\n",
       "      <td>-0.489950</td>\n",
       "      <td>-0.049256</td>\n",
       "      <td>-0.153362</td>\n",
       "      <td>0</td>\n",
       "      <td>0</td>\n",
       "      <td>1</td>\n",
       "      <td>0</td>\n",
       "      <td>159</td>\n",
       "    </tr>\n",
       "    <tr>\n",
       "      <th>3</th>\n",
       "      <td>-1.623543</td>\n",
       "      <td>-0.636970</td>\n",
       "      <td>-1.473478</td>\n",
       "      <td>0.574575</td>\n",
       "      <td>-0.427313</td>\n",
       "      <td>12.777280</td>\n",
       "      <td>-0.153362</td>\n",
       "      <td>0</td>\n",
       "      <td>0</td>\n",
       "      <td>1</td>\n",
       "      <td>0</td>\n",
       "      <td>181</td>\n",
       "    </tr>\n",
       "    <tr>\n",
       "      <th>4</th>\n",
       "      <td>-1.623543</td>\n",
       "      <td>-0.636970</td>\n",
       "      <td>-1.473478</td>\n",
       "      <td>0.574575</td>\n",
       "      <td>-0.396169</td>\n",
       "      <td>25.603817</td>\n",
       "      <td>-0.153362</td>\n",
       "      <td>0</td>\n",
       "      <td>0</td>\n",
       "      <td>1</td>\n",
       "      <td>0</td>\n",
       "      <td>138</td>\n",
       "    </tr>\n",
       "  </tbody>\n",
       "</table>\n",
       "</div>"
      ],
      "text/plain": [
       "      month   dewTemp      temp      pres  windSpeed    cumSnow   cumRain  \\\n",
       "0 -1.623543 -1.263633 -1.391146  0.379425  -0.552238  -0.049256 -0.153362   \n",
       "1 -1.623543 -1.194004 -1.391146  0.379425  -0.521094  -0.049256 -0.153362   \n",
       "2 -1.623543 -0.915487 -1.473478  0.477000  -0.489950  -0.049256 -0.153362   \n",
       "3 -1.623543 -0.636970 -1.473478  0.574575  -0.427313  12.777280 -0.153362   \n",
       "4 -1.623543 -0.636970 -1.473478  0.574575  -0.396169  25.603817 -0.153362   \n",
       "\n",
       "   x0_NE  x0_NW  x0_SE  x0_SW  pm2.5  \n",
       "0      0      0      1      0    129  \n",
       "1      0      0      1      0    148  \n",
       "2      0      0      1      0    159  \n",
       "3      0      0      1      0    181  \n",
       "4      0      0      1      0    138  "
      ]
     },
     "execution_count": 7,
     "metadata": {},
     "output_type": "execute_result"
    }
   ],
   "source": [
    "pollution_No.head()"
   ]
  },
  {
   "cell_type": "markdown",
   "metadata": {},
   "source": [
    "---"
   ]
  },
  {
   "cell_type": "markdown",
   "metadata": {},
   "source": [
    "## Creating x and y parts"
   ]
  },
  {
   "cell_type": "markdown",
   "metadata": {},
   "source": [
    "##### Dataset with Outliers"
   ]
  },
  {
   "cell_type": "code",
   "execution_count": 8,
   "metadata": {},
   "outputs": [
    {
     "data": {
      "text/plain": [
       "array([[-1.59626706, -1.22979123, -1.34714315, ...,  0.        ,\n",
       "         1.        ,  0.        ],\n",
       "       [-1.59626706, -1.16050789, -1.34714315, ...,  0.        ,\n",
       "         1.        ,  0.        ],\n",
       "       [-1.59626706, -0.88337455, -1.4292782 , ...,  0.        ,\n",
       "         1.        ,  0.        ],\n",
       "       ...,\n",
       "       [ 1.58830091, -1.64549124, -1.26500809, ...,  1.        ,\n",
       "         0.        ,  0.        ],\n",
       "       [ 1.58830091, -1.64549124, -1.34714315, ...,  1.        ,\n",
       "         0.        ,  0.        ],\n",
       "       [ 1.58830091, -1.57620791, -1.26500809, ...,  1.        ,\n",
       "         0.        ,  0.        ]])"
      ]
     },
     "execution_count": 8,
     "metadata": {},
     "output_type": "execute_result"
    }
   ],
   "source": [
    "x_o = pollution_o.iloc[:, :-1].values\n",
    "x_o"
   ]
  },
  {
   "cell_type": "code",
   "execution_count": 9,
   "metadata": {},
   "outputs": [
    {
     "data": {
      "text/plain": [
       "array([129, 148, 159, ...,  10,   8,  12])"
      ]
     },
     "execution_count": 9,
     "metadata": {},
     "output_type": "execute_result"
    }
   ],
   "source": [
    "y_o = pollution_o.iloc[:, -1].values\n",
    "y_o"
   ]
  },
  {
   "cell_type": "code",
   "execution_count": 10,
   "metadata": {},
   "outputs": [
    {
     "data": {
      "text/plain": [
       "(41757, 11)"
      ]
     },
     "execution_count": 10,
     "metadata": {},
     "output_type": "execute_result"
    }
   ],
   "source": [
    "x_o.shape"
   ]
  },
  {
   "cell_type": "code",
   "execution_count": 11,
   "metadata": {},
   "outputs": [
    {
     "data": {
      "text/plain": [
       "(41757,)"
      ]
     },
     "execution_count": 11,
     "metadata": {},
     "output_type": "execute_result"
    }
   ],
   "source": [
    "y_o.shape"
   ]
  },
  {
   "cell_type": "markdown",
   "metadata": {},
   "source": [
    "We can see that the x-set has 11 columns (all the features) and 41,757 rows, while the y-set has the same number of rows but only 1 columns (the target variable of PM 2.5 levels)."
   ]
  },
  {
   "cell_type": "markdown",
   "metadata": {},
   "source": [
    "---"
   ]
  },
  {
   "cell_type": "markdown",
   "metadata": {},
   "source": [
    "##### Dataset without Outliers"
   ]
  },
  {
   "cell_type": "code",
   "execution_count": 12,
   "metadata": {},
   "outputs": [
    {
     "data": {
      "text/plain": [
       "array([[-1.62354295, -1.2636334 , -1.39114568, ...,  0.        ,\n",
       "         1.        ,  0.        ],\n",
       "       [-1.62354295, -1.19400415, -1.39114568, ...,  0.        ,\n",
       "         1.        ,  0.        ],\n",
       "       [-1.62354295, -0.91548714, -1.47347807, ...,  0.        ,\n",
       "         1.        ,  0.        ],\n",
       "       ...,\n",
       "       [ 1.61470256, -1.68140892, -1.30881329, ...,  1.        ,\n",
       "         0.        ,  0.        ],\n",
       "       [ 1.61470256, -1.68140892, -1.2264809 , ...,  1.        ,\n",
       "         0.        ,  0.        ],\n",
       "       [ 1.61470256, -1.68140892, -1.2264809 , ...,  1.        ,\n",
       "         0.        ,  0.        ]])"
      ]
     },
     "execution_count": 12,
     "metadata": {},
     "output_type": "execute_result"
    }
   ],
   "source": [
    "x_no = pollution_No.iloc[:, :-1].values\n",
    "x_no"
   ]
  },
  {
   "cell_type": "code",
   "execution_count": 13,
   "metadata": {},
   "outputs": [
    {
     "data": {
      "text/plain": [
       "array([129, 148, 159, ...,   8,   7,  12])"
      ]
     },
     "execution_count": 13,
     "metadata": {},
     "output_type": "execute_result"
    }
   ],
   "source": [
    "y_no = pollution_No.iloc[:, -1].values\n",
    "y_no"
   ]
  },
  {
   "cell_type": "code",
   "execution_count": 14,
   "metadata": {},
   "outputs": [
    {
     "data": {
      "text/plain": [
       "(39061, 11)"
      ]
     },
     "execution_count": 14,
     "metadata": {},
     "output_type": "execute_result"
    }
   ],
   "source": [
    "x_no.shape"
   ]
  },
  {
   "cell_type": "code",
   "execution_count": 15,
   "metadata": {},
   "outputs": [
    {
     "data": {
      "text/plain": [
       "(39061,)"
      ]
     },
     "execution_count": 15,
     "metadata": {},
     "output_type": "execute_result"
    }
   ],
   "source": [
    "y_no.shape"
   ]
  },
  {
   "cell_type": "markdown",
   "metadata": {},
   "source": [
    "This is the dataset without outliers. The x-set has 11 columns for all the features and 39,061 rows (less than the previous dataset because there are no outliers in this data). The y-set has the same number of observations and 1 column for the target variable of pollution levels."
   ]
  },
  {
   "cell_type": "markdown",
   "metadata": {},
   "source": [
    "---"
   ]
  },
  {
   "cell_type": "markdown",
   "metadata": {},
   "source": [
    "## Splitting Dataset"
   ]
  },
  {
   "cell_type": "markdown",
   "metadata": {},
   "source": [
    "##### Dataset with Outliers"
   ]
  },
  {
   "cell_type": "code",
   "execution_count": 16,
   "metadata": {},
   "outputs": [
    {
     "name": "stdout",
     "output_type": "stream",
     "text": [
      "Train set: (33405, 11) (33405,)\n",
      "Test set: (8352, 11) (8352,)\n"
     ]
    }
   ],
   "source": [
    "from sklearn.model_selection import train_test_split\n",
    "\n",
    "x_o_train, x_o_test, y_o_train, y_o_test = train_test_split(x_o, y_o, test_size = 0.2, random_state = 4)\n",
    "print('Train set:', x_o_train.shape, y_o_train.shape)\n",
    "print('Test set:', x_o_test.shape, y_o_test.shape)"
   ]
  },
  {
   "cell_type": "markdown",
   "metadata": {},
   "source": [
    "This is the dataset with outliers.\n",
    "\n",
    "The training set has 33,405 observations and the test set has 8,352 rows. This is a 80:20 split of the full dataset with outliers."
   ]
  },
  {
   "cell_type": "markdown",
   "metadata": {},
   "source": [
    "---"
   ]
  },
  {
   "cell_type": "markdown",
   "metadata": {},
   "source": [
    "##### Dataset without Outliers"
   ]
  },
  {
   "cell_type": "code",
   "execution_count": 124,
   "metadata": {},
   "outputs": [
    {
     "name": "stdout",
     "output_type": "stream",
     "text": [
      "Train set: (31248, 11) (31248,)\n",
      "Test set: (7813, 11) (7813,)\n"
     ]
    }
   ],
   "source": [
    "x_no_train, x_no_test, y_no_train, y_no_test = train_test_split(x_no, y_no, test_size = 0.2, random_state = 4)\n",
    "print('Train set:', x_no_train.shape, y_no_train.shape)\n",
    "print('Test set:', x_no_test.shape, y_no_test.shape)"
   ]
  },
  {
   "cell_type": "markdown",
   "metadata": {},
   "source": [
    "This is the dataset without outliers.\n",
    "\n",
    "The 80:20 split creates fewer observations for the x and y sets because this dataset is smaller (since outliers have been removed). The training set has 31,248 observations and the test set has 7,813 rows."
   ]
  },
  {
   "cell_type": "markdown",
   "metadata": {},
   "source": [
    "---"
   ]
  },
  {
   "cell_type": "markdown",
   "metadata": {},
   "source": [
    "## Linear Regression"
   ]
  },
  {
   "cell_type": "markdown",
   "metadata": {},
   "source": [
    "##### Data with Outliers"
   ]
  },
  {
   "cell_type": "code",
   "execution_count": 97,
   "metadata": {},
   "outputs": [
    {
     "data": {
      "text/plain": [
       "LinearRegression()"
      ]
     },
     "execution_count": 97,
     "metadata": {},
     "output_type": "execute_result"
    }
   ],
   "source": [
    "from sklearn.linear_model import LinearRegression\n",
    "\n",
    "linear = LinearRegression()\n",
    "linear.fit(x_o_train, y_o_train)"
   ]
  },
  {
   "cell_type": "code",
   "execution_count": 98,
   "metadata": {
    "scrolled": true
   },
   "outputs": [
    {
     "name": "stdout",
     "output_type": "stream",
     "text": [
      "The model performance for training set\n",
      "MSE is 6354.688849831677\n",
      "R2 score is 0.26116091446318657\n",
      "\n",
      "\n",
      "The model performance for test set\n",
      "MSE is 5860.165397278776\n",
      "R2 score is 0.26370806918519796\n",
      "\n",
      "\n"
     ]
    }
   ],
   "source": [
    "from sklearn.metrics import r2_score, mean_squared_error\n",
    "\n",
    "y_o_train_pred = linear.predict(x_o_train)\n",
    "mse = mean_squared_error(y_o_train, y_o_train_pred)\n",
    "r2 = r2_score(y_o_train, y_o_train_pred)\n",
    "\n",
    "print(\"The model performance for training set\")\n",
    "print('MSE is {}'.format(mse))\n",
    "print('R2 score is {}'.format(r2))\n",
    "print(\"\\n\")\n",
    "\n",
    "\n",
    "y_o_test_pred = linear.predict(x_o_test)\n",
    "mse_test = mean_squared_error(y_o_test, y_o_test_pred)\n",
    "r2_test = r2_score(y_o_test, y_o_test_pred)\n",
    "\n",
    "print(\"The model performance for test set\")\n",
    "print('MSE is {}'.format(mse_test))\n",
    "print('R2 score is {}'.format(r2_test))\n",
    "print(\"\\n\")"
   ]
  },
  {
   "cell_type": "markdown",
   "metadata": {},
   "source": [
    "The regression model using data with outliers, for the training set the r-square score is 0.261, which means that this model explains 26.1% of the total variation in the response variable of the pollution levels.\n",
    "\n",
    "As for test set, it appears to be slightly higher, the r-square is 0.264, the model explains 26.4% of the total variation, only 26.4% of the data fit the regression model. \n",
    "\n",
    "These r-squared values are pretty low.\n",
    "\n",
    "Now let see how the regression model will be after removing outliers"
   ]
  },
  {
   "cell_type": "code",
   "execution_count": 193,
   "metadata": {
    "scrolled": true
   },
   "outputs": [
    {
     "name": "stdout",
     "output_type": "stream",
     "text": [
      "intercept 97.000082884244\n",
      "coefficients [ -3.69566983  60.14483991 -76.53350855 -15.69013443  -9.59182274\n",
      "  -2.80139247  -8.7184298  -13.14491946 -16.14575635  16.5100653\n",
      "  12.78061051]\n"
     ]
    }
   ],
   "source": [
    "model_o_lin = linear.fit(x_o_train, y_o_train)\n",
    "print('intercept', model_o_lin.intercept_)\n",
    "print('coefficients', model_o_lin.coef_)"
   ]
  },
  {
   "cell_type": "markdown",
   "metadata": {},
   "source": [
    "Looking at the above result, we can form a linear regression equation:\n",
    "\n",
    "${pm2.5} = 97 + (-3.70) * {month} + 60.14 * {dewTemp} + (-76.53) * {temp} + (-15.69) * {pres} + (-9.59) * {windSpeed} + (-2.80) * {cumSnow} + (-8.72) * {cumRain} + (-13.14) * {NE} + (-16.15) * {NW} + 16.51 * {SE} + 12.78 * {SW} $"
   ]
  },
  {
   "cell_type": "markdown",
   "metadata": {},
   "source": [
    "This shows that a one-month increase leads to a decrease of pm2.5 levels by 3.70 micrograms per cubic meter of air. An increase of one degree celcius in the dew point temperature leads to a decrease of 60.14 micrograms per cubic meter of air. The rest of the coefficients can be interpreted similarly. \n",
    "\n",
    "However, it can be seen that the temperature has the largest influence on the level of PM 2.5 where a one degree celcius increase in the temperature reduces the PM 2.5 levels by 77 micrograms per cubic meter of air. \n",
    "\n",
    "Interesting finding: It appears that the general temporal change is that as the month increases, the pollution level decreases by 3.70 micrograms per cubic meter of air in Beijing. It would be increasing to see if there are similar trends in other countries. This finding also has real-life influences because it could advice policymakers on the way that they can/should create pollution laws that dictate people's behaviours. For instance, policymakers can create polciies that require people to use less fuel or diesel-consuming vehicles during the earlier months of the year."
   ]
  },
  {
   "cell_type": "markdown",
   "metadata": {},
   "source": [
    "##### Data without outliers"
   ]
  },
  {
   "cell_type": "code",
   "execution_count": 99,
   "metadata": {},
   "outputs": [
    {
     "data": {
      "text/plain": [
       "LinearRegression()"
      ]
     },
     "execution_count": 99,
     "metadata": {},
     "output_type": "execute_result"
    }
   ],
   "source": [
    "from sklearn.linear_model import LinearRegression\n",
    "linear = LinearRegression()\n",
    "linear.fit(x_no_train, y_no_train)"
   ]
  },
  {
   "cell_type": "code",
   "execution_count": 100,
   "metadata": {
    "scrolled": true
   },
   "outputs": [
    {
     "name": "stdout",
     "output_type": "stream",
     "text": [
      "The model performance for training set\n",
      "MSE is 4571.910008415173\n",
      "R2 score is 0.26784903734005827\n",
      "\n",
      "\n",
      "The model performance for tet set\n",
      "MSE is 4408.80036804968\n",
      "R2 score is 0.27327609522590846\n",
      "\n",
      "\n"
     ]
    }
   ],
   "source": [
    "from sklearn.metrics import r2_score, mean_squared_error\n",
    "\n",
    "y_no_train_pred = linear.predict(x_no_train)\n",
    "mse = mean_squared_error(y_no_train, y_no_train_pred)\n",
    "r2 = r2_score(y_no_train, y_no_train_pred)\n",
    "\n",
    "print(\"The model performance for training set\")\n",
    "print('MSE is {}'.format(mse))\n",
    "print('R2 score is {}'.format(r2))\n",
    "print(\"\\n\")\n",
    "\n",
    "y_no_test_pred = linear.predict(x_no_test)\n",
    "mse_test = mean_squared_error(y_no_test, y_no_test_pred)\n",
    "r2_test = r2_score(y_no_test, y_no_test_pred)\n",
    "\n",
    "print(\"The model performance for tet set\")\n",
    "print('MSE is {}'.format(mse_test))\n",
    "print('R2 score is {}'.format(r2_test))\n",
    "print(\"\\n\")"
   ]
  },
  {
   "cell_type": "markdown",
   "metadata": {},
   "source": [
    "The regression model above is using data without outliers, for the training set the r-square score is 0.268, which means that this model explains 26.8% of the total variation in the response variable.\n",
    "\n",
    "As for test set, it appears to be slightly higher, the r-square is 0.273, the model explains 27.3% of the total variation in the response variable in pollution level.\n",
    "\n",
    "Overall, the difference in the r-square value in the first model and the second is close to 2%. It appears that the second regression model without outliers seem to have a better r-squared value than the first model with the outliers, the second model explains slight more variation than the first model\n",
    "\n",
    "Since the r-squared for both models are still very small, which is around 25% to 27% we will try plotting with the polynomial model to see if it can create a better prediction than the regression"
   ]
  },
  {
   "cell_type": "code",
   "execution_count": 196,
   "metadata": {
    "scrolled": true
   },
   "outputs": [
    {
     "name": "stdout",
     "output_type": "stream",
     "text": [
      "intercept 91.97886970550792\n",
      "coefficients [ -2.27356699  52.49952467 -63.12542645 -12.60199199  -9.19960606\n",
      "  -0.77953072  -3.79061136 -13.15152843 -14.95223515  17.56163617\n",
      "  10.54212741]\n"
     ]
    }
   ],
   "source": [
    "model_no_lin = linear.fit(x_no_train, y_no_train)\n",
    "print('intercept', model_no_lin.intercept_)\n",
    "print('coefficients', model_no_lin.coef_)"
   ]
  },
  {
   "cell_type": "markdown",
   "metadata": {},
   "source": [
    "Looking at the above result, we can form a linear regression equation:\n",
    "\n",
    "${pm2.5} = 92 + (-2.27) * {month} + 52.5 * {dewTemp} + (-63.13) * {temp} + (-12.61) * {pres} + (-9.19) * {windSpeed} + (-0.78) * {cumSnow} + (-3.79) * {cumRain} + (-13.15) * {NE} + (-14.95) * {NW} + 17.56 * {SE} + 10.54 * {SW} $"
   ]
  },
  {
   "cell_type": "markdown",
   "metadata": {},
   "source": [
    "This shows that a one-month increase leads to a decrease of pm2.5 levels by 2.27 micrograms per cubic meter of air. An increase of one degree celcius in the dew point temperature leads to a decrease of 63.13 micrograms per cubic meter of air. The rest of the coefficients can be interpreted similarly. \n",
    "\n",
    "However, it can be seen that the temperature has the largest influence on the level of PM 2.5 where a one degree celcius increase in the temperature reduces the PM 2.5 levels by 63 micrograms per cubic meter of air. The dew point temperature also has a large effect on the pm 2.5 levels where a one degree celcius increase in the dew point temperature leads to a 52.5 micrograms per cubic meter of air increase in pm 2.5 levels.\n",
    "\n",
    "Interesting finding: Similar to the previous equation, it appears that the general temporal change is that as the month increases, the pollution level decreases by 2.27 micrograms per cubic meter of air in Beijing. It would be increasing to see if there are similar trends in other countries. This finding also has real-life influences because it could advice policymakers on the way that they can/should create pollution laws that dictate people's behaviours. For instance, policymakers can create polciies that require people to use less fuel or diesel-consuming vehicles during the earlier months of the year. Also, it can be seen that the wind directions also have an influence on pollution levels. We would prefer the ind to be coming from the north east or north west because the trend is for pollution levels to decrease in these cases in Beijing. This also gives us an idea of what areas are most polluted (the south east and south west of Beijing). This information gives policymakers an idea of the places they should creatte pollution laws. "
   ]
  },
  {
   "cell_type": "markdown",
   "metadata": {},
   "source": [
    "## Polynomial Regression\n",
    "\n",
    "##### Data with Outliers"
   ]
  },
  {
   "cell_type": "code",
   "execution_count": 134,
   "metadata": {},
   "outputs": [
    {
     "data": {
      "text/plain": [
       "LinearRegression()"
      ]
     },
     "execution_count": 134,
     "metadata": {},
     "output_type": "execute_result"
    }
   ],
   "source": [
    "from sklearn.linear_model import LinearRegression\n",
    "from sklearn.preprocessing import PolynomialFeatures, StandardScaler\n",
    "from sklearn.pipeline import Pipeline\n",
    "from sklearn.metrics import mean_squared_error, r2_score\n",
    "\n",
    "poly_features_o = PolynomialFeatures(degree = 2)\n",
    "x_o_train_poly = poly_features_o.fit_transform(x_o_train)\n",
    "poly_model_o = LinearRegression()\n",
    "poly_model_o.fit(x_o_train_poly, y_o_train)"
   ]
  },
  {
   "cell_type": "code",
   "execution_count": 135,
   "metadata": {},
   "outputs": [
    {
     "name": "stdout",
     "output_type": "stream",
     "text": [
      "The model performance for training set\n",
      "MSE is 71.5068061770958\n",
      "R2 score is 0.40550208856831016\n",
      "\n",
      "\n",
      "The model performance for test set\n",
      "MSE is 68.9216513672904\n",
      "R2 score is 0.4031688024280067\n",
      "\n",
      "\n"
     ]
    }
   ],
   "source": [
    "y_o_train_predict = poly_model_o.predict(x_o_train_poly)\n",
    "rmse_train_o = np.sqrt(mean_squared_error(y_o_train, y_o_train_predict))\n",
    "r2_train_o = r2_score(y_o_train, y_o_train_predict)\n",
    "\n",
    "print(\"The model performance for training set\")\n",
    "print('MSE is {}'.format(rmse_train_o))\n",
    "print('R2 score is {}'.format(r2_train_o))\n",
    "print(\"\\n\")\n",
    "\n",
    "y_o_test_predict = poly_model_o.predict(poly_features_o.fit_transform(x_o_test))\n",
    "rmse_test_o = np.sqrt(mean_squared_error(y_o_test, y_o_test_predict))\n",
    "r2_test_o = r2_score(y_o_test, y_o_test_predict)\n",
    "\n",
    "print(\"The model performance for test set\")\n",
    "print('MSE is {}'.format(rmse_test_o))\n",
    "print('R2 score is {}'.format(r2_test_o))\n",
    "print(\"\\n\")"
   ]
  },
  {
   "cell_type": "markdown",
   "metadata": {},
   "source": [
    "The polynomial regression model is using data with outliers, for the training set the r-square score is 0.406, which means that this model explains 40.6% of the total variation, 40.6% of the data fit the regression model.\n",
    "As for test set, it appears to be almost the same, the r-square is 0.403, the model explains 40.3% of the total variation, 40.3% of the data fit the polynomial regression model.\n",
    "\n",
    "Compared with the regression model, the r-square in the polynomial model have a higher r-square value, it increases by 20% for both train and test set.\n",
    "\n",
    "Now will see how the results are using the data without outlier"
   ]
  },
  {
   "cell_type": "markdown",
   "metadata": {},
   "source": [
    "##### Data without outlier"
   ]
  },
  {
   "cell_type": "code",
   "execution_count": 188,
   "metadata": {},
   "outputs": [
    {
     "data": {
      "text/plain": [
       "LinearRegression()"
      ]
     },
     "execution_count": 188,
     "metadata": {},
     "output_type": "execute_result"
    }
   ],
   "source": [
    "from sklearn.linear_model import LinearRegression\n",
    "from sklearn.preprocessing import PolynomialFeatures, StandardScaler\n",
    "from sklearn.pipeline import Pipeline\n",
    "from sklearn.metrics import mean_squared_error, r2_score\n",
    "\n",
    "poly_features_no = PolynomialFeatures(degree = 2)\n",
    "x_no_train_poly = poly_features_no.fit_transform(x_no_train)\n",
    "poly_model_no = LinearRegression()\n",
    "poly_model_no.fit(x_no_train_poly, y_no_train)"
   ]
  },
  {
   "cell_type": "code",
   "execution_count": 177,
   "metadata": {},
   "outputs": [
    {
     "name": "stdout",
     "output_type": "stream",
     "text": [
      "The model performance for training set\n",
      "MSE is 61.308329821788625\n",
      "R2 score is 0.3980756192390966\n",
      "\n",
      "\n",
      "The model performance for test set\n",
      "MSE is 60.99294166777703\n",
      "R2 score is 0.38679149287547565\n",
      "\n",
      "\n"
     ]
    }
   ],
   "source": [
    "y_no_train_predict = poly_model_no.predict(x_no_train_poly)\n",
    "rmse_train_no = np.sqrt(mean_squared_error(y_no_train, y_no_train_predict))\n",
    "r2_train_no = r2_score(y_no_train, y_no_train_predict)\n",
    "\n",
    "print(\"The model performance for training set\")\n",
    "print('MSE is {}'.format(rmse_train_no))\n",
    "print('R2 score is {}'.format(r2_train_no))\n",
    "print(\"\\n\")\n",
    "\n",
    "y_no_test_predict = poly_model_no.predict(poly_features_no.fit_transform(x_no_test))\n",
    "rmse_test_no = np.sqrt(mean_squared_error(y_no_test, y_no_test_predict))\n",
    "r2_test_no = r2_score(y_no_test, y_no_test_predict)\n",
    "\n",
    "print(\"The model performance for test set\")\n",
    "print('MSE is {}'.format(rmse_test_no))\n",
    "print('R2 score is {}'.format(r2_test_no))\n",
    "print(\"\\n\")"
   ]
  },
  {
   "cell_type": "markdown",
   "metadata": {},
   "source": [
    "The model above is polynomial regression without outliers. The r-squared value is 0.39 for the test set and for the training set it is 0.40. This means that in the training set, the model explains 40% of the variation in the response variable. On the other hand, for the test set, the model explains 39% of the variation in the response variable.\n",
    "\n",
    "After trying four models, it appears that the more reliable model is to include the outliers while conducting polynomial regression. For this case, it does shows that outliers are necessary to keep, there might be other factors affecting the air quality features and the pollution model, which might cause some values to be higher than others.\n",
    "\n",
    "With the current climate change situation, it is possible that factors that are not recorded in the dataset can impact overall the dataset.\n",
    "\n",
    "With all the results from the four models, it seems that the polynomial regression model with outliers are the better fit for the pollution level prediction."
   ]
  },
  {
   "cell_type": "markdown",
   "metadata": {},
   "source": [
    "The coefficients of the polynomial regression are difficult to interpret due to squared and interaction effects created. Hence, we will not be writing or interepreting the regression equation for polynomial regression. However, we will be visualizing them."
   ]
  },
  {
   "cell_type": "markdown",
   "metadata": {},
   "source": [
    "---"
   ]
  },
  {
   "cell_type": "markdown",
   "metadata": {},
   "source": [
    "## Visualizations"
   ]
  },
  {
   "cell_type": "markdown",
   "metadata": {},
   "source": [
    "Let us compare the linear and polynomial fits for each of the two datasets. "
   ]
  },
  {
   "cell_type": "code",
   "execution_count": 202,
   "metadata": {},
   "outputs": [],
   "source": [
    "import warnings\n",
    "warnings.filterwarnings('ignore')"
   ]
  },
  {
   "cell_type": "markdown",
   "metadata": {},
   "source": [
    "##### Dataset with Outliers"
   ]
  },
  {
   "cell_type": "code",
   "execution_count": 213,
   "metadata": {},
   "outputs": [
    {
     "data": {
      "image/png": "[encoded data removed]",
      "text/plain": [
       "<Figure size 432x288 with 1 Axes>"
      ]
     },
     "metadata": {
      "needs_background": "light"
     },
     "output_type": "display_data"
    }
   ],
   "source": [
    "# Linear Regression:\n",
    "\n",
    "sns.regplot(y_o_test, y_o_test_pred, data = pollution_o, color = 'red', scatter_kws = {'color':'black'}, line_kws = {'color':'green'})\n",
    "plt.title('Linear Regression: True Values v/s Predicted Values')\n",
    "plt.xlabel('True Values')\n",
    "plt.ylabel('Predicted Values')\n",
    "plt.show()"
   ]
  },
  {
   "cell_type": "code",
   "execution_count": 214,
   "metadata": {
    "scrolled": true
   },
   "outputs": [
    {
     "data": {
      "image/png": "[encoded data removed]",
      "text/plain": [
       "<Figure size 432x288 with 1 Axes>"
      ]
     },
     "metadata": {
      "needs_background": "light"
     },
     "output_type": "display_data"
    }
   ],
   "source": [
    "# Polynomial Regression:\n",
    "\n",
    "sns.regplot(y_o_test, y_o_test_predict, data = pollution_o, color = 'red', scatter_kws = {'color':'black'}, line_kws = {'color':'green'})\n",
    "plt.title('Polynomial Regression: True Values v/s Predicted Values')\n",
    "plt.xlabel('True Values')\n",
    "plt.ylabel('Predicted Values')\n",
    "plt.show()"
   ]
  },
  {
   "cell_type": "markdown",
   "metadata": {},
   "source": [
    "These two regression plots show the comparison between the linear regression fitted values and the ploynomia regression fitted values. The difference is not large (as seen by only a 10% increase in R-squared). However, it can be see that the line is better fitted for for the points in the polynomial regression since it goes through the middle of the cluster of points till the end (where the true values are close to 600 micrograms per cubic meter of air). On the other hand, the linear regression line is not as good a fit because it does not recorgnize the cluster of points at the curved end. \n",
    "\n",
    "Hence, the polynomial regression is betteere in this case because the points at the curved end are recognizeed by this regresison making it s a slightly better fit."
   ]
  },
  {
   "cell_type": "markdown",
   "metadata": {},
   "source": [
    "---"
   ]
  },
  {
   "cell_type": "markdown",
   "metadata": {},
   "source": [
    "##### Dataset without Outliers"
   ]
  },
  {
   "cell_type": "code",
   "execution_count": 215,
   "metadata": {},
   "outputs": [
    {
     "data": {
      "image/png": "[encoded data removed]",
      "text/plain": [
       "<Figure size 432x288 with 1 Axes>"
      ]
     },
     "metadata": {
      "needs_background": "light"
     },
     "output_type": "display_data"
    }
   ],
   "source": [
    "# Linear Regression:\n",
    "\n",
    "sns.regplot(y_no_test, y_no_test_pred, data = pollution_o, color = 'red', scatter_kws = {'color':'black'}, line_kws = {'color':'green'})\n",
    "plt.title('Linear Regression: True Values v/s Predicted Values')\n",
    "plt.xlabel('True Values')\n",
    "plt.ylabel('Predicted Values')\n",
    "plt.show()"
   ]
  },
  {
   "cell_type": "code",
   "execution_count": 216,
   "metadata": {},
   "outputs": [
    {
     "data": {
      "image/png": "[encoded data removed]",
      "text/plain": [
       "<Figure size 432x288 with 1 Axes>"
      ]
     },
     "metadata": {
      "needs_background": "light"
     },
     "output_type": "display_data"
    }
   ],
   "source": [
    "# Polynomial Regression:\n",
    "\n",
    "sns.regplot(y_no_test, y_no_test_predict, data = pollution_o, color = 'red', scatter_kws = {'color':'black'}, line_kws = {'color':'green'})\n",
    "plt.title('Polynomial Regression: True Values v/s Predicted Values')\n",
    "plt.xlabel('True Values')\n",
    "plt.ylabel('Predicted Values')\n",
    "plt.show()"
   ]
  },
  {
   "cell_type": "markdown",
   "metadata": {},
   "source": [
    "These two regression plots are similar to the regression plots created with the datasets that had outliers. This is because the polynomial regression, in comparison to the linear regression, accoutns for most of the clusters of points whereas, the linear regression does not account for the points at the curveed end of the graph.\n",
    "\n",
    "However, the polynomial regression for this dataset is not accounting for all the curvature at the end as well as the polynomial regression of the dataset with outliers. This can be seen because the line passes over the bottom-right cluster of points (and not through it). Hence, we would recommend using the dataset with outliers."
   ]
  },
  {
   "cell_type": "markdown",
   "metadata": {},
   "source": [
    "---"
   ]
  },
  {
   "cell_type": "markdown",
   "metadata": {},
   "source": [
    "## Conclusion"
   ]
  },
  {
   "cell_type": "markdown",
   "metadata": {},
   "source": [
    "TALK ABOUT WHY DATASET WITH OUTLIERS IS BETTER (BETTER R-SQUARED, AND POSSIBILITY OF OMITTED VARIABLE BIAS).\n",
    "\n",
    "TALK ABOUT REAL-LIFE USE OF THIS MODEL (BETTERE POLLUTION LAWS, INFORMATION SPREAD, TRANSPARENCY, HEALTH CONSEQUENCES, ETC.)"
   ]
  }
 ],
 "metadata": {
  "kernelspec": {
   "display_name": "Python 3",
   "language": "python",
   "name": "python3"
  },
  "language_info": {
   "codemirror_mode": {
    "name": "ipython",
    "version": 3
   },
   "file_extension": ".py",
   "mimetype": "text/x-python",
   "name": "python",
   "nbconvert_exporter": "python",
   "pygments_lexer": "ipython3",
   "version": "3.8.5"
  }
 },
 "nbformat": 4,
 "nbformat_minor": 4
}
