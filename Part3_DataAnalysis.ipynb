{
 "cells": [
  {
   "cell_type": "code",
   "execution_count": 1,
   "metadata": {},
   "outputs": [],
   "source": [
    "import pandas as pd\n",
    "import numpy as np\n",
    "import matplotlib as mpl\n",
    "import matplotlib.pyplot as plt\n",
    "import seaborn as sns\n",
    "import sklearn"
   ]
  },
  {
   "cell_type": "markdown",
   "metadata": {},
   "source": [
    "The datas used in this notebook were created by the previous notebook (Part2_Data_Cleaning)."
   ]
  },
  {
   "cell_type": "markdown",
   "metadata": {},
   "source": [
    "## Import the Cleaned Dataset"
   ]
  },
  {
   "cell_type": "code",
   "execution_count": 2,
   "metadata": {},
   "outputs": [],
   "source": [
    "pollution_o = pd.read_excel('pollution_outliers.xlsx')\n",
    "pollution_No = pd.read_excel('pollution_NoOutliers.xlsx')"
   ]
  },
  {
   "cell_type": "code",
   "execution_count": 3,
   "metadata": {},
   "outputs": [
    {
     "data": {
      "text/html": [
       "<div>\n",
       "<style scoped>\n",
       "    .dataframe tbody tr th:only-of-type {\n",
       "        vertical-align: middle;\n",
       "    }\n",
       "\n",
       "    .dataframe tbody tr th {\n",
       "        vertical-align: top;\n",
       "    }\n",
       "\n",
       "    .dataframe thead th {\n",
       "        text-align: right;\n",
       "    }\n",
       "</style>\n",
       "<table border=\"1\" class=\"dataframe\">\n",
       "  <thead>\n",
       "    <tr style=\"text-align: right;\">\n",
       "      <th></th>\n",
       "      <th>Unnamed: 0</th>\n",
       "      <th>month</th>\n",
       "      <th>dewTemp</th>\n",
       "      <th>temp</th>\n",
       "      <th>pres</th>\n",
       "      <th>windSpeed</th>\n",
       "      <th>cumSnow</th>\n",
       "      <th>cumRain</th>\n",
       "      <th>x0_NE</th>\n",
       "      <th>x0_NW</th>\n",
       "      <th>x0_SE</th>\n",
       "      <th>x0_SW</th>\n",
       "      <th>pm2.5</th>\n",
       "    </tr>\n",
       "  </thead>\n",
       "  <tbody>\n",
       "    <tr>\n",
       "      <th>0</th>\n",
       "      <td>0</td>\n",
       "      <td>-1.596267</td>\n",
       "      <td>-1.229791</td>\n",
       "      <td>-1.347143</td>\n",
       "      <td>0.345329</td>\n",
       "      <td>-0.444944</td>\n",
       "      <td>-0.071057</td>\n",
       "      <td>-0.137408</td>\n",
       "      <td>0</td>\n",
       "      <td>0</td>\n",
       "      <td>1</td>\n",
       "      <td>0</td>\n",
       "      <td>129</td>\n",
       "    </tr>\n",
       "    <tr>\n",
       "      <th>1</th>\n",
       "      <td>1</td>\n",
       "      <td>-1.596267</td>\n",
       "      <td>-1.160508</td>\n",
       "      <td>-1.347143</td>\n",
       "      <td>0.345329</td>\n",
       "      <td>-0.427007</td>\n",
       "      <td>-0.071057</td>\n",
       "      <td>-0.137408</td>\n",
       "      <td>0</td>\n",
       "      <td>0</td>\n",
       "      <td>1</td>\n",
       "      <td>0</td>\n",
       "      <td>148</td>\n",
       "    </tr>\n",
       "    <tr>\n",
       "      <th>2</th>\n",
       "      <td>2</td>\n",
       "      <td>-1.596267</td>\n",
       "      <td>-0.883375</td>\n",
       "      <td>-1.429278</td>\n",
       "      <td>0.442411</td>\n",
       "      <td>-0.409069</td>\n",
       "      <td>-0.071057</td>\n",
       "      <td>-0.137408</td>\n",
       "      <td>0</td>\n",
       "      <td>0</td>\n",
       "      <td>1</td>\n",
       "      <td>0</td>\n",
       "      <td>159</td>\n",
       "    </tr>\n",
       "    <tr>\n",
       "      <th>3</th>\n",
       "      <td>3</td>\n",
       "      <td>-1.596267</td>\n",
       "      <td>-0.606241</td>\n",
       "      <td>-1.429278</td>\n",
       "      <td>0.539493</td>\n",
       "      <td>-0.372993</td>\n",
       "      <td>1.212862</td>\n",
       "      <td>-0.137408</td>\n",
       "      <td>0</td>\n",
       "      <td>0</td>\n",
       "      <td>1</td>\n",
       "      <td>0</td>\n",
       "      <td>181</td>\n",
       "    </tr>\n",
       "    <tr>\n",
       "      <th>4</th>\n",
       "      <td>4</td>\n",
       "      <td>-1.596267</td>\n",
       "      <td>-0.606241</td>\n",
       "      <td>-1.429278</td>\n",
       "      <td>0.539493</td>\n",
       "      <td>-0.355055</td>\n",
       "      <td>2.496781</td>\n",
       "      <td>-0.137408</td>\n",
       "      <td>0</td>\n",
       "      <td>0</td>\n",
       "      <td>1</td>\n",
       "      <td>0</td>\n",
       "      <td>138</td>\n",
       "    </tr>\n",
       "  </tbody>\n",
       "</table>\n",
       "</div>"
      ],
      "text/plain": [
       "   Unnamed: 0     month   dewTemp      temp      pres  windSpeed   cumSnow  \\\n",
       "0           0 -1.596267 -1.229791 -1.347143  0.345329  -0.444944 -0.071057   \n",
       "1           1 -1.596267 -1.160508 -1.347143  0.345329  -0.427007 -0.071057   \n",
       "2           2 -1.596267 -0.883375 -1.429278  0.442411  -0.409069 -0.071057   \n",
       "3           3 -1.596267 -0.606241 -1.429278  0.539493  -0.372993  1.212862   \n",
       "4           4 -1.596267 -0.606241 -1.429278  0.539493  -0.355055  2.496781   \n",
       "\n",
       "    cumRain  x0_NE  x0_NW  x0_SE  x0_SW  pm2.5  \n",
       "0 -0.137408      0      0      1      0    129  \n",
       "1 -0.137408      0      0      1      0    148  \n",
       "2 -0.137408      0      0      1      0    159  \n",
       "3 -0.137408      0      0      1      0    181  \n",
       "4 -0.137408      0      0      1      0    138  "
      ]
     },
     "execution_count": 3,
     "metadata": {},
     "output_type": "execute_result"
    }
   ],
   "source": [
    "pollution_o.head()"
   ]
  },
  {
   "cell_type": "code",
   "execution_count": 4,
   "metadata": {},
   "outputs": [
    {
     "data": {
      "text/html": [
       "<div>\n",
       "<style scoped>\n",
       "    .dataframe tbody tr th:only-of-type {\n",
       "        vertical-align: middle;\n",
       "    }\n",
       "\n",
       "    .dataframe tbody tr th {\n",
       "        vertical-align: top;\n",
       "    }\n",
       "\n",
       "    .dataframe thead th {\n",
       "        text-align: right;\n",
       "    }\n",
       "</style>\n",
       "<table border=\"1\" class=\"dataframe\">\n",
       "  <thead>\n",
       "    <tr style=\"text-align: right;\">\n",
       "      <th></th>\n",
       "      <th>Unnamed: 0</th>\n",
       "      <th>month</th>\n",
       "      <th>dewTemp</th>\n",
       "      <th>temp</th>\n",
       "      <th>pres</th>\n",
       "      <th>windSpeed</th>\n",
       "      <th>cumSnow</th>\n",
       "      <th>cumRain</th>\n",
       "      <th>x0_NE</th>\n",
       "      <th>x0_NW</th>\n",
       "      <th>x0_SE</th>\n",
       "      <th>x0_SW</th>\n",
       "      <th>pm2.5</th>\n",
       "    </tr>\n",
       "  </thead>\n",
       "  <tbody>\n",
       "    <tr>\n",
       "      <th>0</th>\n",
       "      <td>0</td>\n",
       "      <td>-1.62403</td>\n",
       "      <td>-1.276489</td>\n",
       "      <td>-1.390179</td>\n",
       "      <td>0.380205</td>\n",
       "      <td>-0.554550</td>\n",
       "      <td>-0.070731</td>\n",
       "      <td>-0.141238</td>\n",
       "      <td>0</td>\n",
       "      <td>0</td>\n",
       "      <td>1</td>\n",
       "      <td>0</td>\n",
       "      <td>129</td>\n",
       "    </tr>\n",
       "    <tr>\n",
       "      <th>1</th>\n",
       "      <td>1</td>\n",
       "      <td>-1.62403</td>\n",
       "      <td>-1.206701</td>\n",
       "      <td>-1.390179</td>\n",
       "      <td>0.380205</td>\n",
       "      <td>-0.523464</td>\n",
       "      <td>-0.070731</td>\n",
       "      <td>-0.141238</td>\n",
       "      <td>0</td>\n",
       "      <td>0</td>\n",
       "      <td>1</td>\n",
       "      <td>0</td>\n",
       "      <td>148</td>\n",
       "    </tr>\n",
       "    <tr>\n",
       "      <th>2</th>\n",
       "      <td>2</td>\n",
       "      <td>-1.62403</td>\n",
       "      <td>-0.927548</td>\n",
       "      <td>-1.472689</td>\n",
       "      <td>0.477831</td>\n",
       "      <td>-0.492378</td>\n",
       "      <td>-0.070731</td>\n",
       "      <td>-0.141238</td>\n",
       "      <td>0</td>\n",
       "      <td>0</td>\n",
       "      <td>1</td>\n",
       "      <td>0</td>\n",
       "      <td>159</td>\n",
       "    </tr>\n",
       "    <tr>\n",
       "      <th>3</th>\n",
       "      <td>3</td>\n",
       "      <td>-1.62403</td>\n",
       "      <td>-0.648396</td>\n",
       "      <td>-1.472689</td>\n",
       "      <td>0.575458</td>\n",
       "      <td>-0.429857</td>\n",
       "      <td>1.198139</td>\n",
       "      <td>-0.141238</td>\n",
       "      <td>0</td>\n",
       "      <td>0</td>\n",
       "      <td>1</td>\n",
       "      <td>0</td>\n",
       "      <td>181</td>\n",
       "    </tr>\n",
       "    <tr>\n",
       "      <th>4</th>\n",
       "      <td>4</td>\n",
       "      <td>-1.62403</td>\n",
       "      <td>-0.648396</td>\n",
       "      <td>-1.472689</td>\n",
       "      <td>0.575458</td>\n",
       "      <td>-0.398771</td>\n",
       "      <td>2.467009</td>\n",
       "      <td>-0.141238</td>\n",
       "      <td>0</td>\n",
       "      <td>0</td>\n",
       "      <td>1</td>\n",
       "      <td>0</td>\n",
       "      <td>138</td>\n",
       "    </tr>\n",
       "  </tbody>\n",
       "</table>\n",
       "</div>"
      ],
      "text/plain": [
       "   Unnamed: 0    month   dewTemp      temp      pres  windSpeed   cumSnow  \\\n",
       "0           0 -1.62403 -1.276489 -1.390179  0.380205  -0.554550 -0.070731   \n",
       "1           1 -1.62403 -1.206701 -1.390179  0.380205  -0.523464 -0.070731   \n",
       "2           2 -1.62403 -0.927548 -1.472689  0.477831  -0.492378 -0.070731   \n",
       "3           3 -1.62403 -0.648396 -1.472689  0.575458  -0.429857  1.198139   \n",
       "4           4 -1.62403 -0.648396 -1.472689  0.575458  -0.398771  2.467009   \n",
       "\n",
       "    cumRain  x0_NE  x0_NW  x0_SE  x0_SW  pm2.5  \n",
       "0 -0.141238      0      0      1      0    129  \n",
       "1 -0.141238      0      0      1      0    148  \n",
       "2 -0.141238      0      0      1      0    159  \n",
       "3 -0.141238      0      0      1      0    181  \n",
       "4 -0.141238      0      0      1      0    138  "
      ]
     },
     "execution_count": 4,
     "metadata": {},
     "output_type": "execute_result"
    }
   ],
   "source": [
    "pollution_No.head()"
   ]
  },
  {
   "cell_type": "markdown",
   "metadata": {},
   "source": [
    "Looking at both these tables, we can see that both the datasets have a column that reiterate the index. We will remove these columns."
   ]
  },
  {
   "cell_type": "code",
   "execution_count": 5,
   "metadata": {},
   "outputs": [],
   "source": [
    "pollution_o.drop(columns = ['Unnamed: 0'], inplace = True)\n",
    "pollution_No.drop(columns = ['Unnamed: 0'], inplace = True)"
   ]
  },
  {
   "cell_type": "code",
   "execution_count": 6,
   "metadata": {},
   "outputs": [
    {
     "data": {
      "text/html": [
       "<div>\n",
       "<style scoped>\n",
       "    .dataframe tbody tr th:only-of-type {\n",
       "        vertical-align: middle;\n",
       "    }\n",
       "\n",
       "    .dataframe tbody tr th {\n",
       "        vertical-align: top;\n",
       "    }\n",
       "\n",
       "    .dataframe thead th {\n",
       "        text-align: right;\n",
       "    }\n",
       "</style>\n",
       "<table border=\"1\" class=\"dataframe\">\n",
       "  <thead>\n",
       "    <tr style=\"text-align: right;\">\n",
       "      <th></th>\n",
       "      <th>month</th>\n",
       "      <th>dewTemp</th>\n",
       "      <th>temp</th>\n",
       "      <th>pres</th>\n",
       "      <th>windSpeed</th>\n",
       "      <th>cumSnow</th>\n",
       "      <th>cumRain</th>\n",
       "      <th>x0_NE</th>\n",
       "      <th>x0_NW</th>\n",
       "      <th>x0_SE</th>\n",
       "      <th>x0_SW</th>\n",
       "      <th>pm2.5</th>\n",
       "    </tr>\n",
       "  </thead>\n",
       "  <tbody>\n",
       "    <tr>\n",
       "      <th>0</th>\n",
       "      <td>-1.596267</td>\n",
       "      <td>-1.229791</td>\n",
       "      <td>-1.347143</td>\n",
       "      <td>0.345329</td>\n",
       "      <td>-0.444944</td>\n",
       "      <td>-0.071057</td>\n",
       "      <td>-0.137408</td>\n",
       "      <td>0</td>\n",
       "      <td>0</td>\n",
       "      <td>1</td>\n",
       "      <td>0</td>\n",
       "      <td>129</td>\n",
       "    </tr>\n",
       "    <tr>\n",
       "      <th>1</th>\n",
       "      <td>-1.596267</td>\n",
       "      <td>-1.160508</td>\n",
       "      <td>-1.347143</td>\n",
       "      <td>0.345329</td>\n",
       "      <td>-0.427007</td>\n",
       "      <td>-0.071057</td>\n",
       "      <td>-0.137408</td>\n",
       "      <td>0</td>\n",
       "      <td>0</td>\n",
       "      <td>1</td>\n",
       "      <td>0</td>\n",
       "      <td>148</td>\n",
       "    </tr>\n",
       "    <tr>\n",
       "      <th>2</th>\n",
       "      <td>-1.596267</td>\n",
       "      <td>-0.883375</td>\n",
       "      <td>-1.429278</td>\n",
       "      <td>0.442411</td>\n",
       "      <td>-0.409069</td>\n",
       "      <td>-0.071057</td>\n",
       "      <td>-0.137408</td>\n",
       "      <td>0</td>\n",
       "      <td>0</td>\n",
       "      <td>1</td>\n",
       "      <td>0</td>\n",
       "      <td>159</td>\n",
       "    </tr>\n",
       "    <tr>\n",
       "      <th>3</th>\n",
       "      <td>-1.596267</td>\n",
       "      <td>-0.606241</td>\n",
       "      <td>-1.429278</td>\n",
       "      <td>0.539493</td>\n",
       "      <td>-0.372993</td>\n",
       "      <td>1.212862</td>\n",
       "      <td>-0.137408</td>\n",
       "      <td>0</td>\n",
       "      <td>0</td>\n",
       "      <td>1</td>\n",
       "      <td>0</td>\n",
       "      <td>181</td>\n",
       "    </tr>\n",
       "    <tr>\n",
       "      <th>4</th>\n",
       "      <td>-1.596267</td>\n",
       "      <td>-0.606241</td>\n",
       "      <td>-1.429278</td>\n",
       "      <td>0.539493</td>\n",
       "      <td>-0.355055</td>\n",
       "      <td>2.496781</td>\n",
       "      <td>-0.137408</td>\n",
       "      <td>0</td>\n",
       "      <td>0</td>\n",
       "      <td>1</td>\n",
       "      <td>0</td>\n",
       "      <td>138</td>\n",
       "    </tr>\n",
       "  </tbody>\n",
       "</table>\n",
       "</div>"
      ],
      "text/plain": [
       "      month   dewTemp      temp      pres  windSpeed   cumSnow   cumRain  \\\n",
       "0 -1.596267 -1.229791 -1.347143  0.345329  -0.444944 -0.071057 -0.137408   \n",
       "1 -1.596267 -1.160508 -1.347143  0.345329  -0.427007 -0.071057 -0.137408   \n",
       "2 -1.596267 -0.883375 -1.429278  0.442411  -0.409069 -0.071057 -0.137408   \n",
       "3 -1.596267 -0.606241 -1.429278  0.539493  -0.372993  1.212862 -0.137408   \n",
       "4 -1.596267 -0.606241 -1.429278  0.539493  -0.355055  2.496781 -0.137408   \n",
       "\n",
       "   x0_NE  x0_NW  x0_SE  x0_SW  pm2.5  \n",
       "0      0      0      1      0    129  \n",
       "1      0      0      1      0    148  \n",
       "2      0      0      1      0    159  \n",
       "3      0      0      1      0    181  \n",
       "4      0      0      1      0    138  "
      ]
     },
     "execution_count": 6,
     "metadata": {},
     "output_type": "execute_result"
    }
   ],
   "source": [
    "pollution_o.head()"
   ]
  },
  {
   "cell_type": "code",
   "execution_count": 7,
   "metadata": {},
   "outputs": [
    {
     "data": {
      "text/html": [
       "<div>\n",
       "<style scoped>\n",
       "    .dataframe tbody tr th:only-of-type {\n",
       "        vertical-align: middle;\n",
       "    }\n",
       "\n",
       "    .dataframe tbody tr th {\n",
       "        vertical-align: top;\n",
       "    }\n",
       "\n",
       "    .dataframe thead th {\n",
       "        text-align: right;\n",
       "    }\n",
       "</style>\n",
       "<table border=\"1\" class=\"dataframe\">\n",
       "  <thead>\n",
       "    <tr style=\"text-align: right;\">\n",
       "      <th></th>\n",
       "      <th>month</th>\n",
       "      <th>dewTemp</th>\n",
       "      <th>temp</th>\n",
       "      <th>pres</th>\n",
       "      <th>windSpeed</th>\n",
       "      <th>cumSnow</th>\n",
       "      <th>cumRain</th>\n",
       "      <th>x0_NE</th>\n",
       "      <th>x0_NW</th>\n",
       "      <th>x0_SE</th>\n",
       "      <th>x0_SW</th>\n",
       "      <th>pm2.5</th>\n",
       "    </tr>\n",
       "  </thead>\n",
       "  <tbody>\n",
       "    <tr>\n",
       "      <th>0</th>\n",
       "      <td>-1.62403</td>\n",
       "      <td>-1.276489</td>\n",
       "      <td>-1.390179</td>\n",
       "      <td>0.380205</td>\n",
       "      <td>-0.554550</td>\n",
       "      <td>-0.070731</td>\n",
       "      <td>-0.141238</td>\n",
       "      <td>0</td>\n",
       "      <td>0</td>\n",
       "      <td>1</td>\n",
       "      <td>0</td>\n",
       "      <td>129</td>\n",
       "    </tr>\n",
       "    <tr>\n",
       "      <th>1</th>\n",
       "      <td>-1.62403</td>\n",
       "      <td>-1.206701</td>\n",
       "      <td>-1.390179</td>\n",
       "      <td>0.380205</td>\n",
       "      <td>-0.523464</td>\n",
       "      <td>-0.070731</td>\n",
       "      <td>-0.141238</td>\n",
       "      <td>0</td>\n",
       "      <td>0</td>\n",
       "      <td>1</td>\n",
       "      <td>0</td>\n",
       "      <td>148</td>\n",
       "    </tr>\n",
       "    <tr>\n",
       "      <th>2</th>\n",
       "      <td>-1.62403</td>\n",
       "      <td>-0.927548</td>\n",
       "      <td>-1.472689</td>\n",
       "      <td>0.477831</td>\n",
       "      <td>-0.492378</td>\n",
       "      <td>-0.070731</td>\n",
       "      <td>-0.141238</td>\n",
       "      <td>0</td>\n",
       "      <td>0</td>\n",
       "      <td>1</td>\n",
       "      <td>0</td>\n",
       "      <td>159</td>\n",
       "    </tr>\n",
       "    <tr>\n",
       "      <th>3</th>\n",
       "      <td>-1.62403</td>\n",
       "      <td>-0.648396</td>\n",
       "      <td>-1.472689</td>\n",
       "      <td>0.575458</td>\n",
       "      <td>-0.429857</td>\n",
       "      <td>1.198139</td>\n",
       "      <td>-0.141238</td>\n",
       "      <td>0</td>\n",
       "      <td>0</td>\n",
       "      <td>1</td>\n",
       "      <td>0</td>\n",
       "      <td>181</td>\n",
       "    </tr>\n",
       "    <tr>\n",
       "      <th>4</th>\n",
       "      <td>-1.62403</td>\n",
       "      <td>-0.648396</td>\n",
       "      <td>-1.472689</td>\n",
       "      <td>0.575458</td>\n",
       "      <td>-0.398771</td>\n",
       "      <td>2.467009</td>\n",
       "      <td>-0.141238</td>\n",
       "      <td>0</td>\n",
       "      <td>0</td>\n",
       "      <td>1</td>\n",
       "      <td>0</td>\n",
       "      <td>138</td>\n",
       "    </tr>\n",
       "  </tbody>\n",
       "</table>\n",
       "</div>"
      ],
      "text/plain": [
       "     month   dewTemp      temp      pres  windSpeed   cumSnow   cumRain  \\\n",
       "0 -1.62403 -1.276489 -1.390179  0.380205  -0.554550 -0.070731 -0.141238   \n",
       "1 -1.62403 -1.206701 -1.390179  0.380205  -0.523464 -0.070731 -0.141238   \n",
       "2 -1.62403 -0.927548 -1.472689  0.477831  -0.492378 -0.070731 -0.141238   \n",
       "3 -1.62403 -0.648396 -1.472689  0.575458  -0.429857  1.198139 -0.141238   \n",
       "4 -1.62403 -0.648396 -1.472689  0.575458  -0.398771  2.467009 -0.141238   \n",
       "\n",
       "   x0_NE  x0_NW  x0_SE  x0_SW  pm2.5  \n",
       "0      0      0      1      0    129  \n",
       "1      0      0      1      0    148  \n",
       "2      0      0      1      0    159  \n",
       "3      0      0      1      0    181  \n",
       "4      0      0      1      0    138  "
      ]
     },
     "execution_count": 7,
     "metadata": {},
     "output_type": "execute_result"
    }
   ],
   "source": [
    "pollution_No.head()"
   ]
  },
  {
   "cell_type": "markdown",
   "metadata": {},
   "source": [
    "---"
   ]
  },
  {
   "cell_type": "markdown",
   "metadata": {},
   "source": [
    "## Creating x and y parts"
   ]
  },
  {
   "cell_type": "markdown",
   "metadata": {},
   "source": [
    "##### Dataset with Outliers"
   ]
  },
  {
   "cell_type": "code",
   "execution_count": 8,
   "metadata": {},
   "outputs": [
    {
     "data": {
      "text/plain": [
       "array([[-1.59626706, -1.22979123, -1.34714315, ...,  0.        ,\n",
       "         1.        ,  0.        ],\n",
       "       [-1.59626706, -1.16050789, -1.34714315, ...,  0.        ,\n",
       "         1.        ,  0.        ],\n",
       "       [-1.59626706, -0.88337455, -1.4292782 , ...,  0.        ,\n",
       "         1.        ,  0.        ],\n",
       "       ...,\n",
       "       [ 1.58830091, -1.64549124, -1.26500809, ...,  1.        ,\n",
       "         0.        ,  0.        ],\n",
       "       [ 1.58830091, -1.64549124, -1.34714315, ...,  1.        ,\n",
       "         0.        ,  0.        ],\n",
       "       [ 1.58830091, -1.57620791, -1.26500809, ...,  1.        ,\n",
       "         0.        ,  0.        ]])"
      ]
     },
     "execution_count": 8,
     "metadata": {},
     "output_type": "execute_result"
    }
   ],
   "source": [
    "x_o = pollution_o.iloc[:, :-1].values\n",
    "x_o"
   ]
  },
  {
   "cell_type": "code",
   "execution_count": 9,
   "metadata": {},
   "outputs": [
    {
     "data": {
      "text/plain": [
       "array([129, 148, 159, ...,  10,   8,  12])"
      ]
     },
     "execution_count": 9,
     "metadata": {},
     "output_type": "execute_result"
    }
   ],
   "source": [
    "y_o = pollution_o.iloc[:, -1].values\n",
    "y_o"
   ]
  },
  {
   "cell_type": "code",
   "execution_count": 10,
   "metadata": {},
   "outputs": [
    {
     "data": {
      "text/plain": [
       "(41757, 11)"
      ]
     },
     "execution_count": 10,
     "metadata": {},
     "output_type": "execute_result"
    }
   ],
   "source": [
    "x_o.shape"
   ]
  },
  {
   "cell_type": "code",
   "execution_count": 11,
   "metadata": {},
   "outputs": [
    {
     "data": {
      "text/plain": [
       "(41757,)"
      ]
     },
     "execution_count": 11,
     "metadata": {},
     "output_type": "execute_result"
    }
   ],
   "source": [
    "y_o.shape"
   ]
  },
  {
   "cell_type": "markdown",
   "metadata": {},
   "source": [
    "We can see that the x-set has 11 columns (all the features) and 41,757 rows, while the y-set has the same number of rows but only 1 columns (the target variable of PM 2.5 levels)."
   ]
  },
  {
   "cell_type": "markdown",
   "metadata": {},
   "source": [
    "---"
   ]
  },
  {
   "cell_type": "markdown",
   "metadata": {},
   "source": [
    "##### Dataset without Outliers"
   ]
  },
  {
   "cell_type": "code",
   "execution_count": 12,
   "metadata": {},
   "outputs": [
    {
     "data": {
      "text/plain": [
       "array([[-1.62402976, -1.27648884, -1.39017869, ...,  0.        ,\n",
       "         1.        ,  0.        ],\n",
       "       [-1.62402976, -1.20670076, -1.39017869, ...,  0.        ,\n",
       "         1.        ,  0.        ],\n",
       "       [-1.62402976, -0.92754845, -1.47268865, ...,  0.        ,\n",
       "         1.        ,  0.        ],\n",
       "       ...,\n",
       "       [ 1.61685601, -1.69521731, -1.30766873, ...,  1.        ,\n",
       "         0.        ,  0.        ],\n",
       "       [ 1.61685601, -1.69521731, -1.22515878, ...,  1.        ,\n",
       "         0.        ,  0.        ],\n",
       "       [ 1.61685601, -1.69521731, -1.22515878, ...,  1.        ,\n",
       "         0.        ,  0.        ]])"
      ]
     },
     "execution_count": 12,
     "metadata": {},
     "output_type": "execute_result"
    }
   ],
   "source": [
    "x_no = pollution_No.iloc[:, :-1].values\n",
    "x_no"
   ]
  },
  {
   "cell_type": "code",
   "execution_count": 13,
   "metadata": {},
   "outputs": [
    {
     "data": {
      "text/plain": [
       "array([129, 148, 159, ...,   8,   7,  12])"
      ]
     },
     "execution_count": 13,
     "metadata": {},
     "output_type": "execute_result"
    }
   ],
   "source": [
    "y_no = pollution_No.iloc[:, -1].values\n",
    "y_no"
   ]
  },
  {
   "cell_type": "code",
   "execution_count": 14,
   "metadata": {},
   "outputs": [
    {
     "data": {
      "text/plain": [
       "(39879, 11)"
      ]
     },
     "execution_count": 14,
     "metadata": {},
     "output_type": "execute_result"
    }
   ],
   "source": [
    "x_no.shape"
   ]
  },
  {
   "cell_type": "code",
   "execution_count": 15,
   "metadata": {},
   "outputs": [
    {
     "data": {
      "text/plain": [
       "(39879,)"
      ]
     },
     "execution_count": 15,
     "metadata": {},
     "output_type": "execute_result"
    }
   ],
   "source": [
    "y_no.shape"
   ]
  },
  {
   "cell_type": "markdown",
   "metadata": {},
   "source": [
    "This is the dataset without outliers. The x-set has 11 columns for all the features and 39,061 rows (less than the previous dataset because there are no outliers in this data). The y-set has the same number of observations and 1 column for the target variable of pollution levels."
   ]
  },
  {
   "cell_type": "markdown",
   "metadata": {},
   "source": [
    "---"
   ]
  },
  {
   "cell_type": "markdown",
   "metadata": {},
   "source": [
    "## Splitting Dataset"
   ]
  },
  {
   "cell_type": "markdown",
   "metadata": {},
   "source": [
    "##### Dataset with Outliers"
   ]
  },
  {
   "cell_type": "code",
   "execution_count": 16,
   "metadata": {},
   "outputs": [
    {
     "name": "stdout",
     "output_type": "stream",
     "text": [
      "Train set: (33405, 11) (33405,)\n",
      "Test set: (8352, 11) (8352,)\n"
     ]
    }
   ],
   "source": [
    "from sklearn.model_selection import train_test_split\n",
    "\n",
    "x_o_train, x_o_test, y_o_train, y_o_test = train_test_split(x_o, y_o, test_size = 0.2, random_state = 4)\n",
    "print('Train set:', x_o_train.shape, y_o_train.shape)\n",
    "print('Test set:', x_o_test.shape, y_o_test.shape)"
   ]
  },
  {
   "cell_type": "markdown",
   "metadata": {},
   "source": [
    "This is the dataset with outliers.\n",
    "\n",
    "The training set has 33,405 observations and the test set has 8,352 rows. This is a 80:20 split of the full dataset with outliers."
   ]
  },
  {
   "cell_type": "markdown",
   "metadata": {},
   "source": [
    "---"
   ]
  },
  {
   "cell_type": "markdown",
   "metadata": {},
   "source": [
    "##### Dataset without Outliers"
   ]
  },
  {
   "cell_type": "code",
   "execution_count": 17,
   "metadata": {},
   "outputs": [
    {
     "name": "stdout",
     "output_type": "stream",
     "text": [
      "Train set: (31903, 11) (31903,)\n",
      "Test set: (7976, 11) (7976,)\n"
     ]
    }
   ],
   "source": [
    "x_no_train, x_no_test, y_no_train, y_no_test = train_test_split(x_no, y_no, test_size = 0.2, random_state = 4)\n",
    "print('Train set:', x_no_train.shape, y_no_train.shape)\n",
    "print('Test set:', x_no_test.shape, y_no_test.shape)"
   ]
  },
  {
   "cell_type": "markdown",
   "metadata": {},
   "source": [
    "This is the dataset without outliers.\n",
    "\n",
    "The 80:20 split creates fewer observations for the x and y sets because this dataset is smaller (since outliers have been removed). The training set has 31,903 observations and the test set has 7,976 rows."
   ]
  },
  {
   "cell_type": "markdown",
   "metadata": {},
   "source": [
    "---"
   ]
  },
  {
   "cell_type": "markdown",
   "metadata": {},
   "source": [
    "## Linear Regression"
   ]
  },
  {
   "cell_type": "markdown",
   "metadata": {},
   "source": [
    "##### Data with Outliers"
   ]
  },
  {
   "cell_type": "code",
   "execution_count": 18,
   "metadata": {},
   "outputs": [
    {
     "data": {
      "text/plain": [
       "LinearRegression()"
      ]
     },
     "execution_count": 18,
     "metadata": {},
     "output_type": "execute_result"
    }
   ],
   "source": [
    "from sklearn.linear_model import LinearRegression\n",
    "\n",
    "linear = LinearRegression()\n",
    "linear.fit(x_o_train, y_o_train)"
   ]
  },
  {
   "cell_type": "code",
   "execution_count": 19,
   "metadata": {
    "scrolled": true
   },
   "outputs": [
    {
     "name": "stdout",
     "output_type": "stream",
     "text": [
      "The model performance for training set\n",
      "MSE is 5862.073312049587\n",
      "R2 score is 0.26116091446318657\n",
      "\n",
      "\n",
      "The model performance for test set\n",
      "MSE is 5861.152821523665\n",
      "R2 score is 0.2635840057066928\n",
      "\n",
      "\n",
      "Model Bias: 5860.077\n",
      "Model Variance: 1.996\n"
     ]
    }
   ],
   "source": [
    "from sklearn.metrics import r2_score, mean_squared_error\n",
    "from mlxtend.evaluate import bias_variance_decomp\n",
    "\n",
    "y_o_train_pred = linear.predict(x_o_train)\n",
    "mse = mean_squared_error(y_o_train, y_o_train_pred)\n",
    "r2 = r2_score(y_o_train, y_o_train_pred)\n",
    "mse, bias, var = bias_variance_decomp(linear, x_o_train, y_o_train, x_o_test, y_o_test, loss='mse', num_rounds=200, random_seed=1)\n",
    "\n",
    "print(\"The model performance for training set\")\n",
    "print('MSE is {}'.format(mse))\n",
    "print('R2 score is {}'.format(r2))\n",
    "print(\"\\n\")\n",
    "\n",
    "\n",
    "y_o_test_pred = linear.predict(x_o_test)\n",
    "mse_test = mean_squared_error(y_o_test, y_o_test_pred)\n",
    "r2_test = r2_score(y_o_test, y_o_test_pred)\n",
    "\n",
    "print(\"The model performance for test set\")\n",
    "print('MSE is {}'.format(mse_test))\n",
    "print('R2 score is {}'.format(r2_test))\n",
    "print(\"\\n\")\n",
    "print('Model Bias: %.3f' % bias)\n",
    "print('Model Variance: %.3f' % var)"
   ]
  },
  {
   "cell_type": "markdown",
   "metadata": {},
   "source": [
    "The regression model using data with outliers, for the training set the r-square score is 0.261, which means that this model explains 26.1% of the total variation in the response variable of the pollution levels.\n",
    "\n",
    "As for test set, it appears to be slightly higher, the r-square is 0.264, the model explains 26.4% of the total variation, only 26.4% of the data fit the regression model. \n",
    "\n",
    "These r-squared values are pretty low. We have also displayed the bias and variance of this model. We can see that this model has extremely high bias and low variance. A high bias means that the accuracy of the predictions is not good (as seeen by the low r-squared value). Variance is the difference between many model's predictions. A high variance may lead to overfitting. \n",
    "Since we have low variance and high bias, our model is underfitting. The predictions are close or similar to each other but they are inaccurate. When the mdoel is underfitting, we can try polynomial regression to see if that improves the fit. "
   ]
  },
  {
   "cell_type": "code",
   "execution_count": 20,
   "metadata": {
    "scrolled": true
   },
   "outputs": [
    {
     "name": "stdout",
     "output_type": "stream",
     "text": [
      "intercept 97.000082884244\n",
      "coefficients [ -3.69566983  60.14483991 -76.53350855 -15.69013443  -9.59182274\n",
      "  -2.80139247  -8.7184298  -13.14491946 -16.14575635  16.5100653\n",
      "  12.78061051]\n"
     ]
    }
   ],
   "source": [
    "model_o_lin = linear.fit(x_o_train, y_o_train)\n",
    "print('intercept', model_o_lin.intercept_)\n",
    "print('coefficients', model_o_lin.coef_)"
   ]
  },
  {
   "cell_type": "markdown",
   "metadata": {},
   "source": [
    "Looking at the above result, we can form a linear regression equation:\n",
    "\n",
    "${pm2.5} = 97 + (-3.70) * {month} + 60.14 * {dewTemp} + (-76.53) * {temp} + (-15.69) * {pres} + (-9.59) * {windSpeed} + (-2.80) * {cumSnow} + (-8.72) * {cumRain} + (-13.14) * {NE} + (-16.15) * {NW} + 16.51 * {SE} + 12.78 * {SW} $"
   ]
  },
  {
   "cell_type": "markdown",
   "metadata": {},
   "source": [
    "This shows that a one-month increase leads to a decrease of pm2.5 levels by 3.70 micrograms per cubic meter of air. An increase of one degree celcius in the dew point temperature leads to a decrease of 60.14 micrograms per cubic meter of air. The rest of the coefficients can be interpreted similarly. \n",
    "\n",
    "However, it can be seen that the temperature has the largest influence on the level of PM 2.5 where a one degree celcius increase in the temperature reduces the PM 2.5 levels by 77 micrograms per cubic meter of air. \n",
    "\n",
    "Interesting finding: It appears that the general temporal change is that as the month increases, the pollution level decreases by 3.70 micrograms per cubic meter of air in Beijing. It would be increasing to see if there are similar trends in other countries. This finding also has real-life influences because it could advice policymakers on the way that they can/should create pollution laws that dictate people's behaviours. For instance, policymakers can create polciies that require people to use less fuel or diesel-consuming vehicles during the earlier months of the year."
   ]
  },
  {
   "cell_type": "markdown",
   "metadata": {},
   "source": [
    "##### Data without outliers"
   ]
  },
  {
   "cell_type": "code",
   "execution_count": 21,
   "metadata": {},
   "outputs": [
    {
     "data": {
      "text/plain": [
       "LinearRegression()"
      ]
     },
     "execution_count": 21,
     "metadata": {},
     "output_type": "execute_result"
    }
   ],
   "source": [
    "from sklearn.linear_model import LinearRegression\n",
    "linear = LinearRegression()\n",
    "linear.fit(x_no_train, y_no_train)"
   ]
  },
  {
   "cell_type": "code",
   "execution_count": 22,
   "metadata": {
    "scrolled": true
   },
   "outputs": [
    {
     "name": "stdout",
     "output_type": "stream",
     "text": [
      "The model performance for training set\n",
      "MSE is 4546.797464226827\n",
      "R2 score is 0.269057350695177\n",
      "\n",
      "\n",
      "The model performance for tet set\n",
      "MSE is 4546.716234998728\n",
      "R2 score is 0.25994075576812903\n",
      "\n",
      "\n",
      "Model Bias: 4545.390\n",
      "Model Variance: 1.407\n"
     ]
    }
   ],
   "source": [
    "from sklearn.metrics import r2_score, mean_squared_error\n",
    "\n",
    "y_no_train_pred = linear.predict(x_no_train)\n",
    "mse = mean_squared_error(y_no_train, y_no_train_pred)\n",
    "r2 = r2_score(y_no_train, y_no_train_pred)\n",
    "mse, bias, var = bias_variance_decomp(linear, x_no_train, y_no_train, x_no_test, y_no_test, loss='mse', num_rounds=200, random_seed=1)\n",
    "\n",
    "\n",
    "print(\"The model performance for training set\")\n",
    "print('MSE is {}'.format(mse))\n",
    "print('R2 score is {}'.format(r2))\n",
    "print(\"\\n\")\n",
    "\n",
    "y_no_test_pred = linear.predict(x_no_test)\n",
    "mse_test = mean_squared_error(y_no_test, y_no_test_pred)\n",
    "r2_test = r2_score(y_no_test, y_no_test_pred)\n",
    "\n",
    "print(\"The model performance for tet set\")\n",
    "print('MSE is {}'.format(mse_test))\n",
    "print('R2 score is {}'.format(r2_test))\n",
    "print(\"\\n\")\n",
    "\n",
    "print('Model Bias: %.3f' % bias)\n",
    "print('Model Variance: %.3f' % var)"
   ]
  },
  {
   "cell_type": "markdown",
   "metadata": {},
   "source": [
    "The regression model above is using data without outliers, for the training set the r-square score is 0.269, which means that this model explains 26.9% of the total variation in the response variable.\n",
    "\n",
    "As for test set, it appears to be slightly higher, the r-square is 0.260, the model explains 26% of the total variation in the response variable in pollution level.\n",
    "\n",
    "Overall, the difference in the r-square value in the first model and the second is close to 1% which is not a big difference. Hence, we cannot make a conclusion about which dataset would make a better predictive model.\n",
    "\n",
    "Since the r-squared for both models are still very small, which is around 25% to 27% we will try plotting with polynomial model to see if it can create a better prediction than the regression.\n",
    "\n",
    "Looking at the bias and variance values, we see that the bias is smaller for the model without outliers indicating better accuracy of the predictions. However, there is still clear high bias and low variance showing that the model is underfitting for this data. Hence, we should try a polynomial regression."
   ]
  },
  {
   "cell_type": "code",
   "execution_count": 23,
   "metadata": {
    "scrolled": true
   },
   "outputs": [
    {
     "name": "stdout",
     "output_type": "stream",
     "text": [
      "intercept 91.22984639503294\n",
      "coefficients [ -1.77716011  51.65660262 -62.74351484 -12.48946785  -9.05515444\n",
      "  -2.04359978  -7.73471943 -13.40565394 -15.05812489  18.08747348\n",
      "  10.37630534]\n"
     ]
    }
   ],
   "source": [
    "model_no_lin = linear.fit(x_no_train, y_no_train)\n",
    "print('intercept', model_no_lin.intercept_)\n",
    "print('coefficients', model_no_lin.coef_)"
   ]
  },
  {
   "cell_type": "markdown",
   "metadata": {},
   "source": [
    "Looking at the above result, we can form a linear regression equation:\n",
    "\n",
    "${pm2.5} = 92 + (-1.78) * {month} + 51.7 * {dewTemp} + (-62.74) * {temp} + (-12.49) * {pres} + (-9.06) * {windSpeed} + (-2.04) * {cumSnow} + (-7.73) * {cumRain} + (-13.41) * {NE} + (-15.06) * {NW} + 18.08 * {SE} + 10.38 * {SW} $"
   ]
  },
  {
   "cell_type": "markdown",
   "metadata": {},
   "source": [
    "This shows that a one-month increase leads to a decrease of pm2.5 levels by 1.78 micrograms per cubic meter of air. An increase of one degree celcius in the dew point temperature leads to a decrease of 51.7 micrograms per cubic meter of air. The rest of the coefficients can be interpreted similarly. \n",
    "\n",
    "However, it can be seen that the temperature has the largest influence on the level of PM 2.5 where a one degree celcius increase in the temperature reduces the PM 2.5 levels by 62.74 micrograms per cubic meter of air. The dew point temperature also has a large effect on the pm 2.5 levels where a one degree celcius increase in the dew point temperature leads to a 51.7 micrograms per cubic meter of air increase in pm 2.5 levels.\n",
    "\n",
    "Interesting finding: Similar to the previous equation, it appears that the general temporal change is that as the month increases, the pollution level decreases by 1.78 micrograms per cubic meter of air in Beijing. It would be increasing to see if there are similar trends in other countries. This finding also has real-life influences because it could advice policymakers on the way that they can/should create pollution laws that dictate people's behaviours. For instance, policymakers can create policies that require people to use less fuel or diesel-consuming vehicles during the earlier months of the year. Also, it can be seen that the wind directions also have an influence on pollution levels. We would prefer the ind to be coming from the north east or north west because the trend is for pollution levels to decrease in these cases in Beijing. This also gives us an idea of what areas are most polluted (the south east and south west of Beijing). This information gives policymakers an idea of the places they should creatte pollution laws. "
   ]
  },
  {
   "cell_type": "markdown",
   "metadata": {},
   "source": [
    "---"
   ]
  },
  {
   "cell_type": "markdown",
   "metadata": {},
   "source": [
    "## Polynomial Regression\n",
    "\n",
    "##### Data with Outliers"
   ]
  },
  {
   "cell_type": "code",
   "execution_count": 24,
   "metadata": {},
   "outputs": [
    {
     "data": {
      "text/plain": [
       "LinearRegression()"
      ]
     },
     "execution_count": 24,
     "metadata": {},
     "output_type": "execute_result"
    }
   ],
   "source": [
    "from sklearn.linear_model import LinearRegression\n",
    "from sklearn.preprocessing import PolynomialFeatures, StandardScaler\n",
    "from sklearn.pipeline import Pipeline\n",
    "from sklearn.metrics import mean_squared_error, r2_score\n",
    "\n",
    "poly_features_o = PolynomialFeatures(degree = 3)\n",
    "x_o_train_poly = poly_features_o.fit_transform(x_o_train)\n",
    "poly_model_o = LinearRegression()\n",
    "poly_model_o.fit(x_o_train_poly, y_o_train)"
   ]
  },
  {
   "cell_type": "code",
   "execution_count": 25,
   "metadata": {
    "scrolled": true
   },
   "outputs": [
    {
     "name": "stdout",
     "output_type": "stream",
     "text": [
      "The model performance for training set\n",
      "MSE is 66.35347761427535\n",
      "R2 score is 0.4881025688318068\n",
      "\n",
      "\n",
      "The model performance for test set\n",
      "MSE is 64.01163206657482\n",
      "R2 score is 0.4851769682085548\n",
      "\n",
      "\n",
      "Model Bias: 4099.939\n",
      "Model Variance: 32.689\n"
     ]
    }
   ],
   "source": [
    "y_o_train_predict = poly_model_o.predict(x_o_train_poly)\n",
    "rmse_train_o = np.sqrt(mean_squared_error(y_o_train, y_o_train_predict))\n",
    "r2_train_o = r2_score(y_o_train, y_o_train_predict)\n",
    "\n",
    "\n",
    "print(\"The model performance for training set\")\n",
    "print('MSE is {}'.format(rmse_train_o))\n",
    "print('R2 score is {}'.format(r2_train_o))\n",
    "print(\"\\n\")\n",
    "\n",
    "y_o_test_predict = poly_model_o.predict(poly_features_o.fit_transform(x_o_test))\n",
    "rmse_test_o = np.sqrt(mean_squared_error(y_o_test, y_o_test_predict))\n",
    "r2_test_o = r2_score(y_o_test, y_o_test_predict)\n",
    "mse, bias, var = bias_variance_decomp(poly_model_o, x_o_train_poly, y_o_train, poly_features_o.fit_transform(x_o_test), y_o_test, loss='mse', num_rounds=200, random_seed=1)\n",
    "\n",
    "print(\"The model performance for test set\")\n",
    "print('MSE is {}'.format(rmse_test_o))\n",
    "print('R2 score is {}'.format(r2_test_o))\n",
    "print(\"\\n\")\n",
    "\n",
    "print('Model Bias: %.3f' % bias)\n",
    "print('Model Variance: %.3f' % var)"
   ]
  },
  {
   "cell_type": "markdown",
   "metadata": {},
   "source": [
    "The polynomial regression model is using data with outliers, for the training set the r-square score is 0.488, which means that this model explains 48.8% of the total variation in the target variable.\n",
    "As for test set, it appears to be almost the same, the r-square is 0.485, the model explains 48.5% of the total variation in the target variable.\n",
    "\n",
    "Compared with the linear regression model, the r-square in the polynomial model have a higher r-square value. It increases by 20% for both train and test set. Looking at the values of bias and variance, we can see that this model (like the others) has high bias and low variance. However, we can see that the bias has decreased whereas the variance has increased from the linear regression model. This shows that the accuracy has increased and, while the variance has increased from the linear regresison model, it is still low. Clearly, the model is still underfitting but it is a better fit for this dataset than the linear regression model.\n",
    "\n",
    "Now will see how the results are using the data without outliers."
   ]
  },
  {
   "cell_type": "markdown",
   "metadata": {},
   "source": [
    "##### Data without outlier"
   ]
  },
  {
   "cell_type": "code",
   "execution_count": 26,
   "metadata": {},
   "outputs": [
    {
     "data": {
      "text/plain": [
       "LinearRegression()"
      ]
     },
     "execution_count": 26,
     "metadata": {},
     "output_type": "execute_result"
    }
   ],
   "source": [
    "from sklearn.linear_model import LinearRegression\n",
    "from sklearn.preprocessing import PolynomialFeatures, StandardScaler\n",
    "from sklearn.pipeline import Pipeline\n",
    "from sklearn.metrics import mean_squared_error, r2_score\n",
    "\n",
    "poly_features_no = PolynomialFeatures(degree = 3)\n",
    "x_no_train_poly = poly_features_no.fit_transform(x_no_train)\n",
    "poly_model_no = LinearRegression()\n",
    "poly_model_no.fit(x_no_train_poly, y_no_train)"
   ]
  },
  {
   "cell_type": "code",
   "execution_count": 27,
   "metadata": {},
   "outputs": [
    {
     "name": "stdout",
     "output_type": "stream",
     "text": [
      "The model performance for training set\n",
      "MSE is 56.73115120009664\n",
      "R2 score is 0.47848899232731357\n",
      "\n",
      "\n",
      "The model performance for test set\n",
      "MSE is 57.8206203203863\n",
      "R2 score is 0.4558305822927926\n",
      "\n",
      "\n",
      "Model Bias: 3344.962\n",
      "Model Variance: 40.506\n"
     ]
    }
   ],
   "source": [
    "y_no_train_predict = poly_model_no.predict(x_no_train_poly)\n",
    "rmse_train_no = np.sqrt(mean_squared_error(y_no_train, y_no_train_predict))\n",
    "r2_train_no = r2_score(y_no_train, y_no_train_predict)\n",
    "\n",
    "print(\"The model performance for training set\")\n",
    "print('MSE is {}'.format(rmse_train_no))\n",
    "print('R2 score is {}'.format(r2_train_no))\n",
    "print(\"\\n\")\n",
    "\n",
    "y_no_test_predict = poly_model_no.predict(poly_features_no.fit_transform(x_no_test))\n",
    "rmse_test_no = np.sqrt(mean_squared_error(y_no_test, y_no_test_predict))\n",
    "r2_test_no = r2_score(y_no_test, y_no_test_predict)\n",
    "mse, bias, var = bias_variance_decomp(poly_model_no, x_no_train_poly, y_no_train, poly_features_no.fit_transform(x_no_test), y_no_test, loss='mse', num_rounds=200, random_seed=1)\n",
    "\n",
    "\n",
    "print(\"The model performance for test set\")\n",
    "print('MSE is {}'.format(rmse_test_no))\n",
    "print('R2 score is {}'.format(r2_test_no))\n",
    "print(\"\\n\")\n",
    "\n",
    "print('Model Bias: %.3f' % bias)\n",
    "print('Model Variance: %.3f' % var)"
   ]
  },
  {
   "cell_type": "markdown",
   "metadata": {},
   "source": [
    "The model above is polynomial regression without outliers. The r-squared value is 0.46 for the test set and for the training set it is 0.48. This means that in the training set, the model explains 48% of the variation in the response variable. On the other hand, for the test set, the model explains 46% of the variation in the response variable.\n",
    "\n",
    "\n",
    "Based on the r-squared only, the model of polynomial regression with outliers is better because it has a higher r-squared. For this case, it does shows that outliers are necessary to keep, there might be other factors affecting the air quality features and the pollution model, which might cause some values to be higher than others. With the current climate change situation, it is possible that factors that are not recorded in the dataset can impact overall the dataset.\n",
    "\n",
    "*However*, it is important to look at other measures. Let us make a conclusion using bias and variance. Comparing the two polynomial regressions, the model without outliers has lower bias (higher accuracy) and higher variance (better predictions) compared to the dataset with outliers. Since the bias and variance are 'relatively' closer to each oher in this dataset than the dataset with outliers, we would conclude that this model, in overall, appears to be a better fit because of these values. However, there is still a large difference between the bias and variance: high bias and variance which indicates that this model is still underfitting the dataset. "
   ]
  },
  {
   "cell_type": "markdown",
   "metadata": {},
   "source": [
    "The coefficients of the polynomial regression are difficult to interpret due to squared and interaction effects created. Hence, we will not be writing or interepreting the regression equation for polynomial regression. However, we will be visualizing them."
   ]
  },
  {
   "cell_type": "markdown",
   "metadata": {},
   "source": [
    "---"
   ]
  },
  {
   "cell_type": "markdown",
   "metadata": {},
   "source": [
    "## Visualizations"
   ]
  },
  {
   "cell_type": "markdown",
   "metadata": {},
   "source": [
    "Let us compare the linear and polynomial fits for each of the two datasets. "
   ]
  },
  {
   "cell_type": "code",
   "execution_count": 28,
   "metadata": {},
   "outputs": [],
   "source": [
    "import warnings\n",
    "warnings.filterwarnings('ignore')"
   ]
  },
  {
   "cell_type": "markdown",
   "metadata": {},
   "source": [
    "##### Dataset with Outliers"
   ]
  },
  {
   "cell_type": "code",
   "execution_count": 51,
   "metadata": {},
   "outputs": [
    {
     "data": {
      "image/png": "[encoded data removed]",
      "text/plain": [
       "<Figure size 1080x432 with 2 Axes>"
      ]
     },
     "metadata": {
      "needs_background": "light"
     },
     "output_type": "display_data"
    }
   ],
   "source": [
    "fig, axes = plt.subplots(1, 2, figsize = (15,6))\n",
    "\n",
    "sns.regplot(y_o_test, y_o_test_pred, data = pollution_o, color = 'red', scatter_kws = {'color':'black'}, line_kws = {'color':'green'}, ax = axes[0]).set_title('Linear Regression: True Values v/s Predicted Values')\n",
    "axes[0].set_xlabel('True Values')\n",
    "axes[0].set_ylabel('Predicted Values')\n",
    "\n",
    "sns.regplot(y_o_test, y_o_test_predict, data = pollution_o, color = 'red', scatter_kws = {'color':'black'}, line_kws = {'color':'green'}, ax = axes[1])\n",
    "plt.title('Polynomial Regression: True Values v/s Predicted Values')\n",
    "plt.xlabel('True Values')\n",
    "plt.ylabel('Predicted Values')\n",
    "plt.show()"
   ]
  },
  {
   "cell_type": "markdown",
   "metadata": {},
   "source": [
    "These two regression plots show the comparison between the linear regression fitted values and the ploynomial regression fitted values. The difference is not large (as seen by a 20% increase in R-squared). However, it can be seen that the line is better fitted for the points in the polynomial regression since it goes through the middle of the cluster of points till the end (where the true values are close to 600 micrograms per cubic meter of air). On the other hand, the linear regression line is not as good a fit because it does not recorgnize the cluster of points at the curved end. and at the bottom-left of the graph.\n",
    "\n",
    "Hence, the polynomial regression is betteere in this case because the points at the curved end are recognizeed by this regression making it s a slightly better fit."
   ]
  },
  {
   "cell_type": "markdown",
   "metadata": {},
   "source": [
    "---"
   ]
  },
  {
   "cell_type": "markdown",
   "metadata": {},
   "source": [
    "##### Dataset without Outliers"
   ]
  },
  {
   "cell_type": "code",
   "execution_count": 52,
   "metadata": {},
   "outputs": [
    {
     "data": {
      "image/png": "[encoded data removed]",
      "text/plain": [
       "<Figure size 1080x432 with 2 Axes>"
      ]
     },
     "metadata": {
      "needs_background": "light"
     },
     "output_type": "display_data"
    }
   ],
   "source": [
    "fig, axes = plt.subplots(1, 2, figsize = (15, 6))\n",
    "\n",
    "sns.regplot(y_no_test, y_no_test_pred, data = pollution_o, color = 'red', scatter_kws = {'color':'black'}, line_kws = {'color':'green'}, ax = axes[0]).set_title('Linear Regression: True Values v/s Predicted Values')\n",
    "plt.xlabel('True Values')\n",
    "plt.ylabel('Predicted Values')\n",
    "\n",
    "sns.regplot(y_no_test, y_no_test_predict, data = pollution_o, color = 'red', scatter_kws = {'color':'black'}, line_kws = {'color':'green'})\n",
    "plt.title('Polynomial Regression: True Values v/s Predicted Values')\n",
    "plt.xlabel('True Values')\n",
    "plt.ylabel('Predicted Values')\n",
    "plt.show()"
   ]
  },
  {
   "cell_type": "markdown",
   "metadata": {},
   "source": [
    "These two regression plots are similar to the regression plots created with the datasets that had outliers. This is because the polynomial regression, in comparison to the linear regression, accounts for most of the clusters of points whereas, the linear regression does not account for the points at the curveed end of the graph.\n",
    "\n",
    "However, the polynomial regression for this dataset is not accounting for all the curvature at the end as well as the polynomial regression of the dataset with outliers. This can be seen because the line passes over the bottom-right cluster of points (and not through it). Hence, we would recommend using the dataset with outliers. There is also more variability in the polynomial regression at the end of the graph which makes fitting a line over these points dificult. Hence, just looking at this graph, we can say that the polynomial regression with outliers is a better predictive model; however, as determined earlier, the model created without outliers has better accuracy as determined by the bias and variance."
   ]
  },
  {
   "cell_type": "markdown",
   "metadata": {},
   "source": [
    "---"
   ]
  },
  {
   "cell_type": "markdown",
   "metadata": {},
   "source": [
    "## Conclusion"
   ]
  },
  {
   "cell_type": "markdown",
   "metadata": {},
   "source": [
    "After running different regression models, using both with outliers and without outliers, the results of the different regression models shows that the dataset with outliers is a better fit for the prediction of the level of pollution based on different attributes of air quality. The polynomial model with outliers has better r-squared values than the ones without outliers. The final model has an r-square value of 0.48 for the training set and r-square value of 0.46 for the test set. These r-squared values between the training and test set are not much different. This means that the final model explains about 47% of the variation on the level of pollution is explained by the model.\n",
    "\n",
    "However, this conclusion is solely based on looking at the R-squared value, which is not a good standard. When we conducted an analysis of bias and variance for these models, the bias is higher for the model with outliers in comparison to the model without outliers indicating that the model has lower accuracy. Further, the variance is higher in the model without outliers which indicates that there is a better bias and variance tradeoff in this polynomial model in comparison to the model with outleirs. Hence, looking at all statistics and standards, we would recommend using the polynomial model without outleirs because it has a better accuracy and predictive power and the difference in r-squared between the two models is too small to be significant. \n",
    "\n",
    "Additionally, there might be more variables in the dataset that is not explained, that could possibly cause the generally low r-squared\n",
    "\n",
    "##### The used of the model in real-life situations \n",
    "\n",
    "This model can be used in different real-life situations to create a better living environment for the people, such as, be used in the purpose of creating a better and healthier environment. Some attributes of air quality are dangerous for health, therefore reducing pollution level means reducing hazard for humans and for the environment. \n",
    "\n",
    "##### Air Pollution and Economics\n",
    "\n",
    "Economics are also related to air pollution level, infrastructure and sector contributes a lot to the economic growth of a particular country. These sectors also contribute to air pollution. Through creating a model predicting air pollution, this should be used in assessing cost and benefits of economic activity in relation to air pollution. Thus, creating policy that allows the economic activities to keep working, while keeping the air pollution low. If both still have a positive correlation, then we must see whether the cost is higher than the benefit. The higher the cost, the more consequences the earth have to face"
   ]
  }
 ],
 "metadata": {
  "kernelspec": {
   "display_name": "Python 3",
   "language": "python",
   "name": "python3"
  },
  "language_info": {
   "codemirror_mode": {
    "name": "ipython",
    "version": 3
   },
   "file_extension": ".py",
   "mimetype": "text/x-python",
   "name": "python",
   "nbconvert_exporter": "python",
   "pygments_lexer": "ipython3",
   "version": "3.8.5"
  }
 },
 "nbformat": 4,
 "nbformat_minor": 4
}
