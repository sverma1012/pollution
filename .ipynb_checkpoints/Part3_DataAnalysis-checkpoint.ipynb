{
 "cells": [
  {
   "cell_type": "code",
   "execution_count": 1,
   "metadata": {},
   "outputs": [],
   "source": [
    "import pandas as pd\n",
    "import numpy as np\n",
    "import matplotlib as mpl\n",
    "import matplotlib.pyplot as plt\n",
    "import seaborn as sns\n",
    "import sklearn"
   ]
  },
  {
   "cell_type": "markdown",
   "metadata": {},
   "source": [
    "The datas used in this notebook were created by the previous notebook (Part2_Data_Cleaning)."
   ]
  },
  {
   "cell_type": "markdown",
   "metadata": {},
   "source": [
    "## Import the Cleaned Dataset"
   ]
  },
  {
   "cell_type": "code",
   "execution_count": 2,
   "metadata": {},
   "outputs": [],
   "source": [
    "pollution_o = pd.read_excel('pollution_outliers.xlsx')\n",
    "pollution_No = pd.read_excel('pollution_NoOutliers.xlsx')"
   ]
  },
  {
   "cell_type": "code",
   "execution_count": 3,
   "metadata": {},
   "outputs": [
    {
     "data": {
      "text/html": [
       "<div>\n",
       "<style scoped>\n",
       "    .dataframe tbody tr th:only-of-type {\n",
       "        vertical-align: middle;\n",
       "    }\n",
       "\n",
       "    .dataframe tbody tr th {\n",
       "        vertical-align: top;\n",
       "    }\n",
       "\n",
       "    .dataframe thead th {\n",
       "        text-align: right;\n",
       "    }\n",
       "</style>\n",
       "<table border=\"1\" class=\"dataframe\">\n",
       "  <thead>\n",
       "    <tr style=\"text-align: right;\">\n",
       "      <th></th>\n",
       "      <th>Unnamed: 0</th>\n",
       "      <th>month</th>\n",
       "      <th>dewTemp</th>\n",
       "      <th>temp</th>\n",
       "      <th>pres</th>\n",
       "      <th>windSpeed</th>\n",
       "      <th>cumSnow</th>\n",
       "      <th>cumRain</th>\n",
       "      <th>x0_NE</th>\n",
       "      <th>x0_NW</th>\n",
       "      <th>x0_SE</th>\n",
       "      <th>x0_SW</th>\n",
       "      <th>pm2.5</th>\n",
       "    </tr>\n",
       "  </thead>\n",
       "  <tbody>\n",
       "    <tr>\n",
       "      <th>0</th>\n",
       "      <td>0</td>\n",
       "      <td>-1.596267</td>\n",
       "      <td>-1.229791</td>\n",
       "      <td>-1.347143</td>\n",
       "      <td>0.345329</td>\n",
       "      <td>-0.444944</td>\n",
       "      <td>-0.071057</td>\n",
       "      <td>-0.137408</td>\n",
       "      <td>0</td>\n",
       "      <td>0</td>\n",
       "      <td>1</td>\n",
       "      <td>0</td>\n",
       "      <td>129</td>\n",
       "    </tr>\n",
       "    <tr>\n",
       "      <th>1</th>\n",
       "      <td>1</td>\n",
       "      <td>-1.596267</td>\n",
       "      <td>-1.160508</td>\n",
       "      <td>-1.347143</td>\n",
       "      <td>0.345329</td>\n",
       "      <td>-0.427007</td>\n",
       "      <td>-0.071057</td>\n",
       "      <td>-0.137408</td>\n",
       "      <td>0</td>\n",
       "      <td>0</td>\n",
       "      <td>1</td>\n",
       "      <td>0</td>\n",
       "      <td>148</td>\n",
       "    </tr>\n",
       "    <tr>\n",
       "      <th>2</th>\n",
       "      <td>2</td>\n",
       "      <td>-1.596267</td>\n",
       "      <td>-0.883375</td>\n",
       "      <td>-1.429278</td>\n",
       "      <td>0.442411</td>\n",
       "      <td>-0.409069</td>\n",
       "      <td>-0.071057</td>\n",
       "      <td>-0.137408</td>\n",
       "      <td>0</td>\n",
       "      <td>0</td>\n",
       "      <td>1</td>\n",
       "      <td>0</td>\n",
       "      <td>159</td>\n",
       "    </tr>\n",
       "    <tr>\n",
       "      <th>3</th>\n",
       "      <td>3</td>\n",
       "      <td>-1.596267</td>\n",
       "      <td>-0.606241</td>\n",
       "      <td>-1.429278</td>\n",
       "      <td>0.539493</td>\n",
       "      <td>-0.372993</td>\n",
       "      <td>1.212862</td>\n",
       "      <td>-0.137408</td>\n",
       "      <td>0</td>\n",
       "      <td>0</td>\n",
       "      <td>1</td>\n",
       "      <td>0</td>\n",
       "      <td>181</td>\n",
       "    </tr>\n",
       "    <tr>\n",
       "      <th>4</th>\n",
       "      <td>4</td>\n",
       "      <td>-1.596267</td>\n",
       "      <td>-0.606241</td>\n",
       "      <td>-1.429278</td>\n",
       "      <td>0.539493</td>\n",
       "      <td>-0.355055</td>\n",
       "      <td>2.496781</td>\n",
       "      <td>-0.137408</td>\n",
       "      <td>0</td>\n",
       "      <td>0</td>\n",
       "      <td>1</td>\n",
       "      <td>0</td>\n",
       "      <td>138</td>\n",
       "    </tr>\n",
       "  </tbody>\n",
       "</table>\n",
       "</div>"
      ],
      "text/plain": [
       "   Unnamed: 0     month   dewTemp      temp      pres  windSpeed   cumSnow  \\\n",
       "0           0 -1.596267 -1.229791 -1.347143  0.345329  -0.444944 -0.071057   \n",
       "1           1 -1.596267 -1.160508 -1.347143  0.345329  -0.427007 -0.071057   \n",
       "2           2 -1.596267 -0.883375 -1.429278  0.442411  -0.409069 -0.071057   \n",
       "3           3 -1.596267 -0.606241 -1.429278  0.539493  -0.372993  1.212862   \n",
       "4           4 -1.596267 -0.606241 -1.429278  0.539493  -0.355055  2.496781   \n",
       "\n",
       "    cumRain  x0_NE  x0_NW  x0_SE  x0_SW  pm2.5  \n",
       "0 -0.137408      0      0      1      0    129  \n",
       "1 -0.137408      0      0      1      0    148  \n",
       "2 -0.137408      0      0      1      0    159  \n",
       "3 -0.137408      0      0      1      0    181  \n",
       "4 -0.137408      0      0      1      0    138  "
      ]
     },
     "execution_count": 3,
     "metadata": {},
     "output_type": "execute_result"
    }
   ],
   "source": [
    "pollution_o.head()"
   ]
  },
  {
   "cell_type": "code",
   "execution_count": 4,
   "metadata": {},
   "outputs": [
    {
     "data": {
      "text/html": [
       "<div>\n",
       "<style scoped>\n",
       "    .dataframe tbody tr th:only-of-type {\n",
       "        vertical-align: middle;\n",
       "    }\n",
       "\n",
       "    .dataframe tbody tr th {\n",
       "        vertical-align: top;\n",
       "    }\n",
       "\n",
       "    .dataframe thead th {\n",
       "        text-align: right;\n",
       "    }\n",
       "</style>\n",
       "<table border=\"1\" class=\"dataframe\">\n",
       "  <thead>\n",
       "    <tr style=\"text-align: right;\">\n",
       "      <th></th>\n",
       "      <th>Unnamed: 0</th>\n",
       "      <th>month</th>\n",
       "      <th>dewTemp</th>\n",
       "      <th>temp</th>\n",
       "      <th>pres</th>\n",
       "      <th>windSpeed</th>\n",
       "      <th>cumSnow</th>\n",
       "      <th>cumRain</th>\n",
       "      <th>x0_NE</th>\n",
       "      <th>x0_NW</th>\n",
       "      <th>x0_SE</th>\n",
       "      <th>x0_SW</th>\n",
       "      <th>pm2.5</th>\n",
       "    </tr>\n",
       "  </thead>\n",
       "  <tbody>\n",
       "    <tr>\n",
       "      <th>0</th>\n",
       "      <td>0</td>\n",
       "      <td>-1.623543</td>\n",
       "      <td>-1.263633</td>\n",
       "      <td>-1.391146</td>\n",
       "      <td>0.379425</td>\n",
       "      <td>-0.552238</td>\n",
       "      <td>-0.049256</td>\n",
       "      <td>-0.153362</td>\n",
       "      <td>0</td>\n",
       "      <td>0</td>\n",
       "      <td>1</td>\n",
       "      <td>0</td>\n",
       "      <td>129</td>\n",
       "    </tr>\n",
       "    <tr>\n",
       "      <th>1</th>\n",
       "      <td>1</td>\n",
       "      <td>-1.623543</td>\n",
       "      <td>-1.194004</td>\n",
       "      <td>-1.391146</td>\n",
       "      <td>0.379425</td>\n",
       "      <td>-0.521094</td>\n",
       "      <td>-0.049256</td>\n",
       "      <td>-0.153362</td>\n",
       "      <td>0</td>\n",
       "      <td>0</td>\n",
       "      <td>1</td>\n",
       "      <td>0</td>\n",
       "      <td>148</td>\n",
       "    </tr>\n",
       "    <tr>\n",
       "      <th>2</th>\n",
       "      <td>2</td>\n",
       "      <td>-1.623543</td>\n",
       "      <td>-0.915487</td>\n",
       "      <td>-1.473478</td>\n",
       "      <td>0.477000</td>\n",
       "      <td>-0.489950</td>\n",
       "      <td>-0.049256</td>\n",
       "      <td>-0.153362</td>\n",
       "      <td>0</td>\n",
       "      <td>0</td>\n",
       "      <td>1</td>\n",
       "      <td>0</td>\n",
       "      <td>159</td>\n",
       "    </tr>\n",
       "    <tr>\n",
       "      <th>3</th>\n",
       "      <td>3</td>\n",
       "      <td>-1.623543</td>\n",
       "      <td>-0.636970</td>\n",
       "      <td>-1.473478</td>\n",
       "      <td>0.574575</td>\n",
       "      <td>-0.427313</td>\n",
       "      <td>12.777280</td>\n",
       "      <td>-0.153362</td>\n",
       "      <td>0</td>\n",
       "      <td>0</td>\n",
       "      <td>1</td>\n",
       "      <td>0</td>\n",
       "      <td>181</td>\n",
       "    </tr>\n",
       "    <tr>\n",
       "      <th>4</th>\n",
       "      <td>4</td>\n",
       "      <td>-1.623543</td>\n",
       "      <td>-0.636970</td>\n",
       "      <td>-1.473478</td>\n",
       "      <td>0.574575</td>\n",
       "      <td>-0.396169</td>\n",
       "      <td>25.603817</td>\n",
       "      <td>-0.153362</td>\n",
       "      <td>0</td>\n",
       "      <td>0</td>\n",
       "      <td>1</td>\n",
       "      <td>0</td>\n",
       "      <td>138</td>\n",
       "    </tr>\n",
       "  </tbody>\n",
       "</table>\n",
       "</div>"
      ],
      "text/plain": [
       "   Unnamed: 0     month   dewTemp      temp      pres  windSpeed    cumSnow  \\\n",
       "0           0 -1.623543 -1.263633 -1.391146  0.379425  -0.552238  -0.049256   \n",
       "1           1 -1.623543 -1.194004 -1.391146  0.379425  -0.521094  -0.049256   \n",
       "2           2 -1.623543 -0.915487 -1.473478  0.477000  -0.489950  -0.049256   \n",
       "3           3 -1.623543 -0.636970 -1.473478  0.574575  -0.427313  12.777280   \n",
       "4           4 -1.623543 -0.636970 -1.473478  0.574575  -0.396169  25.603817   \n",
       "\n",
       "    cumRain  x0_NE  x0_NW  x0_SE  x0_SW  pm2.5  \n",
       "0 -0.153362      0      0      1      0    129  \n",
       "1 -0.153362      0      0      1      0    148  \n",
       "2 -0.153362      0      0      1      0    159  \n",
       "3 -0.153362      0      0      1      0    181  \n",
       "4 -0.153362      0      0      1      0    138  "
      ]
     },
     "execution_count": 4,
     "metadata": {},
     "output_type": "execute_result"
    }
   ],
   "source": [
    "pollution_No.head()"
   ]
  },
  {
   "cell_type": "markdown",
   "metadata": {},
   "source": [
    "Looking at both these tables, we can see that both the datasets have a column that reiterate the index. We will remove these columns."
   ]
  },
  {
   "cell_type": "code",
   "execution_count": 5,
   "metadata": {},
   "outputs": [],
   "source": [
    "pollution_o.drop(columns = ['Unnamed: 0'], inplace = True)\n",
    "pollution_No.drop(columns = ['Unnamed: 0'], inplace = True)"
   ]
  },
  {
   "cell_type": "code",
   "execution_count": 6,
   "metadata": {},
   "outputs": [
    {
     "data": {
      "text/html": [
       "<div>\n",
       "<style scoped>\n",
       "    .dataframe tbody tr th:only-of-type {\n",
       "        vertical-align: middle;\n",
       "    }\n",
       "\n",
       "    .dataframe tbody tr th {\n",
       "        vertical-align: top;\n",
       "    }\n",
       "\n",
       "    .dataframe thead th {\n",
       "        text-align: right;\n",
       "    }\n",
       "</style>\n",
       "<table border=\"1\" class=\"dataframe\">\n",
       "  <thead>\n",
       "    <tr style=\"text-align: right;\">\n",
       "      <th></th>\n",
       "      <th>month</th>\n",
       "      <th>dewTemp</th>\n",
       "      <th>temp</th>\n",
       "      <th>pres</th>\n",
       "      <th>windSpeed</th>\n",
       "      <th>cumSnow</th>\n",
       "      <th>cumRain</th>\n",
       "      <th>x0_NE</th>\n",
       "      <th>x0_NW</th>\n",
       "      <th>x0_SE</th>\n",
       "      <th>x0_SW</th>\n",
       "      <th>pm2.5</th>\n",
       "    </tr>\n",
       "  </thead>\n",
       "  <tbody>\n",
       "    <tr>\n",
       "      <th>0</th>\n",
       "      <td>-1.596267</td>\n",
       "      <td>-1.229791</td>\n",
       "      <td>-1.347143</td>\n",
       "      <td>0.345329</td>\n",
       "      <td>-0.444944</td>\n",
       "      <td>-0.071057</td>\n",
       "      <td>-0.137408</td>\n",
       "      <td>0</td>\n",
       "      <td>0</td>\n",
       "      <td>1</td>\n",
       "      <td>0</td>\n",
       "      <td>129</td>\n",
       "    </tr>\n",
       "    <tr>\n",
       "      <th>1</th>\n",
       "      <td>-1.596267</td>\n",
       "      <td>-1.160508</td>\n",
       "      <td>-1.347143</td>\n",
       "      <td>0.345329</td>\n",
       "      <td>-0.427007</td>\n",
       "      <td>-0.071057</td>\n",
       "      <td>-0.137408</td>\n",
       "      <td>0</td>\n",
       "      <td>0</td>\n",
       "      <td>1</td>\n",
       "      <td>0</td>\n",
       "      <td>148</td>\n",
       "    </tr>\n",
       "    <tr>\n",
       "      <th>2</th>\n",
       "      <td>-1.596267</td>\n",
       "      <td>-0.883375</td>\n",
       "      <td>-1.429278</td>\n",
       "      <td>0.442411</td>\n",
       "      <td>-0.409069</td>\n",
       "      <td>-0.071057</td>\n",
       "      <td>-0.137408</td>\n",
       "      <td>0</td>\n",
       "      <td>0</td>\n",
       "      <td>1</td>\n",
       "      <td>0</td>\n",
       "      <td>159</td>\n",
       "    </tr>\n",
       "    <tr>\n",
       "      <th>3</th>\n",
       "      <td>-1.596267</td>\n",
       "      <td>-0.606241</td>\n",
       "      <td>-1.429278</td>\n",
       "      <td>0.539493</td>\n",
       "      <td>-0.372993</td>\n",
       "      <td>1.212862</td>\n",
       "      <td>-0.137408</td>\n",
       "      <td>0</td>\n",
       "      <td>0</td>\n",
       "      <td>1</td>\n",
       "      <td>0</td>\n",
       "      <td>181</td>\n",
       "    </tr>\n",
       "    <tr>\n",
       "      <th>4</th>\n",
       "      <td>-1.596267</td>\n",
       "      <td>-0.606241</td>\n",
       "      <td>-1.429278</td>\n",
       "      <td>0.539493</td>\n",
       "      <td>-0.355055</td>\n",
       "      <td>2.496781</td>\n",
       "      <td>-0.137408</td>\n",
       "      <td>0</td>\n",
       "      <td>0</td>\n",
       "      <td>1</td>\n",
       "      <td>0</td>\n",
       "      <td>138</td>\n",
       "    </tr>\n",
       "  </tbody>\n",
       "</table>\n",
       "</div>"
      ],
      "text/plain": [
       "      month   dewTemp      temp      pres  windSpeed   cumSnow   cumRain  \\\n",
       "0 -1.596267 -1.229791 -1.347143  0.345329  -0.444944 -0.071057 -0.137408   \n",
       "1 -1.596267 -1.160508 -1.347143  0.345329  -0.427007 -0.071057 -0.137408   \n",
       "2 -1.596267 -0.883375 -1.429278  0.442411  -0.409069 -0.071057 -0.137408   \n",
       "3 -1.596267 -0.606241 -1.429278  0.539493  -0.372993  1.212862 -0.137408   \n",
       "4 -1.596267 -0.606241 -1.429278  0.539493  -0.355055  2.496781 -0.137408   \n",
       "\n",
       "   x0_NE  x0_NW  x0_SE  x0_SW  pm2.5  \n",
       "0      0      0      1      0    129  \n",
       "1      0      0      1      0    148  \n",
       "2      0      0      1      0    159  \n",
       "3      0      0      1      0    181  \n",
       "4      0      0      1      0    138  "
      ]
     },
     "execution_count": 6,
     "metadata": {},
     "output_type": "execute_result"
    }
   ],
   "source": [
    "pollution_o.head()"
   ]
  },
  {
   "cell_type": "code",
   "execution_count": 7,
   "metadata": {},
   "outputs": [
    {
     "data": {
      "text/html": [
       "<div>\n",
       "<style scoped>\n",
       "    .dataframe tbody tr th:only-of-type {\n",
       "        vertical-align: middle;\n",
       "    }\n",
       "\n",
       "    .dataframe tbody tr th {\n",
       "        vertical-align: top;\n",
       "    }\n",
       "\n",
       "    .dataframe thead th {\n",
       "        text-align: right;\n",
       "    }\n",
       "</style>\n",
       "<table border=\"1\" class=\"dataframe\">\n",
       "  <thead>\n",
       "    <tr style=\"text-align: right;\">\n",
       "      <th></th>\n",
       "      <th>month</th>\n",
       "      <th>dewTemp</th>\n",
       "      <th>temp</th>\n",
       "      <th>pres</th>\n",
       "      <th>windSpeed</th>\n",
       "      <th>cumSnow</th>\n",
       "      <th>cumRain</th>\n",
       "      <th>x0_NE</th>\n",
       "      <th>x0_NW</th>\n",
       "      <th>x0_SE</th>\n",
       "      <th>x0_SW</th>\n",
       "      <th>pm2.5</th>\n",
       "    </tr>\n",
       "  </thead>\n",
       "  <tbody>\n",
       "    <tr>\n",
       "      <th>0</th>\n",
       "      <td>-1.623543</td>\n",
       "      <td>-1.263633</td>\n",
       "      <td>-1.391146</td>\n",
       "      <td>0.379425</td>\n",
       "      <td>-0.552238</td>\n",
       "      <td>-0.049256</td>\n",
       "      <td>-0.153362</td>\n",
       "      <td>0</td>\n",
       "      <td>0</td>\n",
       "      <td>1</td>\n",
       "      <td>0</td>\n",
       "      <td>129</td>\n",
       "    </tr>\n",
       "    <tr>\n",
       "      <th>1</th>\n",
       "      <td>-1.623543</td>\n",
       "      <td>-1.194004</td>\n",
       "      <td>-1.391146</td>\n",
       "      <td>0.379425</td>\n",
       "      <td>-0.521094</td>\n",
       "      <td>-0.049256</td>\n",
       "      <td>-0.153362</td>\n",
       "      <td>0</td>\n",
       "      <td>0</td>\n",
       "      <td>1</td>\n",
       "      <td>0</td>\n",
       "      <td>148</td>\n",
       "    </tr>\n",
       "    <tr>\n",
       "      <th>2</th>\n",
       "      <td>-1.623543</td>\n",
       "      <td>-0.915487</td>\n",
       "      <td>-1.473478</td>\n",
       "      <td>0.477000</td>\n",
       "      <td>-0.489950</td>\n",
       "      <td>-0.049256</td>\n",
       "      <td>-0.153362</td>\n",
       "      <td>0</td>\n",
       "      <td>0</td>\n",
       "      <td>1</td>\n",
       "      <td>0</td>\n",
       "      <td>159</td>\n",
       "    </tr>\n",
       "    <tr>\n",
       "      <th>3</th>\n",
       "      <td>-1.623543</td>\n",
       "      <td>-0.636970</td>\n",
       "      <td>-1.473478</td>\n",
       "      <td>0.574575</td>\n",
       "      <td>-0.427313</td>\n",
       "      <td>12.777280</td>\n",
       "      <td>-0.153362</td>\n",
       "      <td>0</td>\n",
       "      <td>0</td>\n",
       "      <td>1</td>\n",
       "      <td>0</td>\n",
       "      <td>181</td>\n",
       "    </tr>\n",
       "    <tr>\n",
       "      <th>4</th>\n",
       "      <td>-1.623543</td>\n",
       "      <td>-0.636970</td>\n",
       "      <td>-1.473478</td>\n",
       "      <td>0.574575</td>\n",
       "      <td>-0.396169</td>\n",
       "      <td>25.603817</td>\n",
       "      <td>-0.153362</td>\n",
       "      <td>0</td>\n",
       "      <td>0</td>\n",
       "      <td>1</td>\n",
       "      <td>0</td>\n",
       "      <td>138</td>\n",
       "    </tr>\n",
       "  </tbody>\n",
       "</table>\n",
       "</div>"
      ],
      "text/plain": [
       "      month   dewTemp      temp      pres  windSpeed    cumSnow   cumRain  \\\n",
       "0 -1.623543 -1.263633 -1.391146  0.379425  -0.552238  -0.049256 -0.153362   \n",
       "1 -1.623543 -1.194004 -1.391146  0.379425  -0.521094  -0.049256 -0.153362   \n",
       "2 -1.623543 -0.915487 -1.473478  0.477000  -0.489950  -0.049256 -0.153362   \n",
       "3 -1.623543 -0.636970 -1.473478  0.574575  -0.427313  12.777280 -0.153362   \n",
       "4 -1.623543 -0.636970 -1.473478  0.574575  -0.396169  25.603817 -0.153362   \n",
       "\n",
       "   x0_NE  x0_NW  x0_SE  x0_SW  pm2.5  \n",
       "0      0      0      1      0    129  \n",
       "1      0      0      1      0    148  \n",
       "2      0      0      1      0    159  \n",
       "3      0      0      1      0    181  \n",
       "4      0      0      1      0    138  "
      ]
     },
     "execution_count": 7,
     "metadata": {},
     "output_type": "execute_result"
    }
   ],
   "source": [
    "pollution_No.head()"
   ]
  },
  {
   "cell_type": "markdown",
   "metadata": {},
   "source": [
    "---"
   ]
  },
  {
   "cell_type": "markdown",
   "metadata": {},
   "source": [
    "## Creating x and y parts"
   ]
  },
  {
   "cell_type": "markdown",
   "metadata": {},
   "source": [
    "##### Dataset with Outliers"
   ]
  },
  {
   "cell_type": "code",
   "execution_count": 8,
   "metadata": {},
   "outputs": [
    {
     "data": {
      "text/plain": [
       "array([[-1.59626706, -1.22979123, -1.34714315, ...,  0.        ,\n",
       "         1.        ,  0.        ],\n",
       "       [-1.59626706, -1.16050789, -1.34714315, ...,  0.        ,\n",
       "         1.        ,  0.        ],\n",
       "       [-1.59626706, -0.88337455, -1.4292782 , ...,  0.        ,\n",
       "         1.        ,  0.        ],\n",
       "       ...,\n",
       "       [ 1.58830091, -1.64549124, -1.26500809, ...,  1.        ,\n",
       "         0.        ,  0.        ],\n",
       "       [ 1.58830091, -1.64549124, -1.34714315, ...,  1.        ,\n",
       "         0.        ,  0.        ],\n",
       "       [ 1.58830091, -1.57620791, -1.26500809, ...,  1.        ,\n",
       "         0.        ,  0.        ]])"
      ]
     },
     "execution_count": 8,
     "metadata": {},
     "output_type": "execute_result"
    }
   ],
   "source": [
    "x_o = pollution_o.iloc[:, :-1].values\n",
    "x_o"
   ]
  },
  {
   "cell_type": "code",
   "execution_count": 9,
   "metadata": {},
   "outputs": [
    {
     "data": {
      "text/plain": [
       "array([129, 148, 159, ...,  10,   8,  12])"
      ]
     },
     "execution_count": 9,
     "metadata": {},
     "output_type": "execute_result"
    }
   ],
   "source": [
    "y_o = pollution_o.iloc[:, -1].values\n",
    "y_o"
   ]
  },
  {
   "cell_type": "code",
   "execution_count": 10,
   "metadata": {},
   "outputs": [
    {
     "data": {
      "text/plain": [
       "(41757, 11)"
      ]
     },
     "execution_count": 10,
     "metadata": {},
     "output_type": "execute_result"
    }
   ],
   "source": [
    "x_o.shape"
   ]
  },
  {
   "cell_type": "code",
   "execution_count": 11,
   "metadata": {},
   "outputs": [
    {
     "data": {
      "text/plain": [
       "(41757,)"
      ]
     },
     "execution_count": 11,
     "metadata": {},
     "output_type": "execute_result"
    }
   ],
   "source": [
    "y_o.shape"
   ]
  },
  {
   "cell_type": "markdown",
   "metadata": {},
   "source": [
    "We can see that the x-set has 11 columns (all the features) and 41,757 rows, while the y-set has the same number of rows but only 1 columns (the target variable of PM 2.5 levels)."
   ]
  },
  {
   "cell_type": "markdown",
   "metadata": {},
   "source": [
    "---"
   ]
  },
  {
   "cell_type": "markdown",
   "metadata": {},
   "source": [
    "##### Dataset without Outliers"
   ]
  },
  {
   "cell_type": "code",
   "execution_count": 12,
   "metadata": {},
   "outputs": [
    {
     "data": {
      "text/plain": [
       "array([[-1.62354295, -1.2636334 , -1.39114568, ...,  0.        ,\n",
       "         1.        ,  0.        ],\n",
       "       [-1.62354295, -1.19400415, -1.39114568, ...,  0.        ,\n",
       "         1.        ,  0.        ],\n",
       "       [-1.62354295, -0.91548714, -1.47347807, ...,  0.        ,\n",
       "         1.        ,  0.        ],\n",
       "       ...,\n",
       "       [ 1.61470256, -1.68140892, -1.30881329, ...,  1.        ,\n",
       "         0.        ,  0.        ],\n",
       "       [ 1.61470256, -1.68140892, -1.2264809 , ...,  1.        ,\n",
       "         0.        ,  0.        ],\n",
       "       [ 1.61470256, -1.68140892, -1.2264809 , ...,  1.        ,\n",
       "         0.        ,  0.        ]])"
      ]
     },
     "execution_count": 12,
     "metadata": {},
     "output_type": "execute_result"
    }
   ],
   "source": [
    "x_no = pollution_No.iloc[:, :-1].values\n",
    "x_no"
   ]
  },
  {
   "cell_type": "code",
   "execution_count": 13,
   "metadata": {},
   "outputs": [
    {
     "data": {
      "text/plain": [
       "array([129, 148, 159, ...,   8,   7,  12])"
      ]
     },
     "execution_count": 13,
     "metadata": {},
     "output_type": "execute_result"
    }
   ],
   "source": [
    "y_no = pollution_No.iloc[:, -1].values\n",
    "y_no"
   ]
  },
  {
   "cell_type": "code",
   "execution_count": 14,
   "metadata": {},
   "outputs": [
    {
     "data": {
      "text/plain": [
       "(39061, 11)"
      ]
     },
     "execution_count": 14,
     "metadata": {},
     "output_type": "execute_result"
    }
   ],
   "source": [
    "x_no.shape"
   ]
  },
  {
   "cell_type": "code",
   "execution_count": 15,
   "metadata": {},
   "outputs": [
    {
     "data": {
      "text/plain": [
       "(39061,)"
      ]
     },
     "execution_count": 15,
     "metadata": {},
     "output_type": "execute_result"
    }
   ],
   "source": [
    "y_no.shape"
   ]
  },
  {
   "cell_type": "markdown",
   "metadata": {},
   "source": [
    "This is the dataset without outliers. The x-set has 11 columns for all the features and 39,061 rows (less than the previous dataset because there are no outliers in this data). The y-set has the same number of observations and 1 column for the target variable of pollution levels."
   ]
  },
  {
   "cell_type": "markdown",
   "metadata": {},
   "source": [
    "---"
   ]
  },
  {
   "cell_type": "markdown",
   "metadata": {},
   "source": [
    "## Splitting Dataset"
   ]
  },
  {
   "cell_type": "markdown",
   "metadata": {},
   "source": [
    "##### Dataset with Outliers"
   ]
  },
  {
   "cell_type": "code",
   "execution_count": 17,
   "metadata": {},
   "outputs": [
    {
     "name": "stdout",
     "output_type": "stream",
     "text": [
      "Train set: (33405, 11) (33405,)\n",
      "Test set: (8352, 11) (8352,)\n"
     ]
    }
   ],
   "source": [
    "from sklearn.model_selection import train_test_split\n",
    "\n",
    "x_o_train, x_o_test, y_o_train, y_o_test = train_test_split(x_o, y_o, test_size = 0.2, random_state = 4)\n",
    "print('Train set:', x_o_train.shape, y_o_train.shape)\n",
    "print('Test set:', x_o_test.shape, y_o_test.shape)"
   ]
  },
  {
   "cell_type": "markdown",
   "metadata": {},
   "source": [
    "This is the dataset with outliers.\n",
    "\n",
    "The training set has 33,405 observations and the test set has 8,352 rows. This is a 80:20 split of the full dataset with outliers."
   ]
  },
  {
   "cell_type": "markdown",
   "metadata": {},
   "source": [
    "---"
   ]
  },
  {
   "cell_type": "markdown",
   "metadata": {},
   "source": [
    "##### Dataset without Outliers"
   ]
  },
  {
   "cell_type": "code",
   "execution_count": 18,
   "metadata": {},
   "outputs": [
    {
     "name": "stdout",
     "output_type": "stream",
     "text": [
      "Train set: (31248, 11) (31248,)\n",
      "Test set: (7813, 11) (7813,)\n"
     ]
    }
   ],
   "source": [
    "x_no_train, x_no_test, y_no_train, y_no_test = train_test_split(x_no, y_no, test_size = 0.2, random_state = 4)\n",
    "print('Train set:', x_no_train.shape, y_no_train.shape)\n",
    "print('Test set:', x_no_test.shape, y_no_test.shape)"
   ]
  },
  {
   "cell_type": "markdown",
   "metadata": {},
   "source": [
    "This is the dataset without outliers.\n",
    "\n",
    "The 80:20 split creates fewer observations for the x and y sets because this dataset is smaller (since outliers have been removed). The training set has 31,248 observations and the test set has 7,813 rows."
   ]
  },
  {
   "cell_type": "markdown",
   "metadata": {},
   "source": [
    "---"
   ]
  },
  {
   "cell_type": "markdown",
   "metadata": {},
   "source": [
    "## Regression"
   ]
  },
  {
   "cell_type": "markdown",
   "metadata": {},
   "source": [
    "##### Data with Outliers"
   ]
  },
  {
   "cell_type": "code",
   "execution_count": 19,
   "metadata": {},
   "outputs": [
    {
     "data": {
      "text/plain": [
       "LinearRegression()"
      ]
     },
     "execution_count": 19,
     "metadata": {},
     "output_type": "execute_result"
    }
   ],
   "source": [
    "from sklearn.linear_model import LinearRegression\n",
    "\n",
    "linear = LinearRegression()\n",
    "linear.fit(x_o_train, y_o_train)"
   ]
  },
  {
   "cell_type": "code",
   "execution_count": 21,
   "metadata": {},
   "outputs": [
    {
     "name": "stdout",
     "output_type": "stream",
     "text": [
      "The model performance for training set\n",
      "--------------------------------------\n",
      "MSE is 6354.688849831677\n",
      "R2 score is 0.26116091446318657\n",
      "\n",
      "\n",
      "The model performance for training set\n",
      "--------------------------------------\n",
      "MSE is 5860.165397278776\n",
      "R2 score is 0.26370806918519796\n",
      "\n",
      "\n"
     ]
    }
   ],
   "source": [
    "from sklearn.metrics import r2_score, mean_squared_error\n",
    "\n",
    "y_o_train_pred = linear.predict(x_o_train)\n",
    "mse = mean_squared_error(y_o_train, y_o_train_pred)\n",
    "r2 = r2_score(y_o_train, y_o_train_pred)\n",
    "\n",
    "print(\"The model performance for training set\")\n",
    "print(\"--------------------------------------\")\n",
    "print('MSE is {}'.format(mse))\n",
    "print('R2 score is {}'.format(r2))\n",
    "print(\"\\n\")\n",
    "\n",
    "\n",
    "y_o_test_pred = linear.predict(x_o_test)\n",
    "mse_test = mean_squared_error(y_o_test, y_o_test_pred)\n",
    "r2_test = r2_score(y_o_test, y_o_test_pred)\n",
    "\n",
    "print(\"The model performance for training set\")\n",
    "print(\"--------------------------------------\")\n",
    "print('MSE is {}'.format(mse_test))\n",
    "print('R2 score is {}'.format(r2_test))\n",
    "print(\"\\n\")"
   ]
  },
  {
   "cell_type": "markdown",
   "metadata": {},
   "source": [
    "EXPLAIN\n",
    "\n",
    "TRY POLYNOMIAL REGRESSION SINCE R-SQUARED IS LOW\n",
    "\n",
    "Do the same for data with outliers."
   ]
  }
 ],
 "metadata": {
  "kernelspec": {
   "display_name": "Python 3",
   "language": "python",
   "name": "python3"
  },
  "language_info": {
   "codemirror_mode": {
    "name": "ipython",
    "version": 3
   },
   "file_extension": ".py",
   "mimetype": "text/x-python",
   "name": "python",
   "nbconvert_exporter": "python",
   "pygments_lexer": "ipython3",
   "version": "3.8.5"
  }
 },
 "nbformat": 4,
 "nbformat_minor": 4
}
